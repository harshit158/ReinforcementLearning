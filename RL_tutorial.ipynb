{
 "cells": [
  {
   "cell_type": "markdown",
   "metadata": {},
   "source": [
    "# Reinforcement Learning Tutorial: <br>Semi-gradient n-step Sarsa and Sarsa($\\lambda$)<br>Theory and Implementation"
   ]
  },
  {
   "cell_type": "markdown",
   "metadata": {},
   "source": [
    "Reinforcement Learning (RL) is an exciting area of A.I that offers something entirely different to supervised or unsupervised techniques. In RL, an 'agent' learns to interact with an environment in a way that maximises the reward it receives with respect to some task. RL is distinct from supervised learning, which specifies via labelled examples the correct way for a system to act in every situation (whereas in RL only the end goal is specified, but not how to achieve it). It is also distinct from unsupervised learning, which although not dependent on examples of correct behaviour either, is concerned with finding hidden structure in unlabelled data rather than maximising reward signals.\n",
    "\n",
    "This tutorial focuses on two important and widely used RL algorithms, semi-gradient n-step Sarsa and Sarsa($\\lambda$), as applied to the Mountain Car problem. These algorithms, aside from being useful, pull together a lot of the key concepts in RL and so provide a great way to learn about RL more generally. Value functions, policy iteration, on vs off-policy control, bootstrapping, tabular vs approximate solution methods, state featurization and eligibility traces can all be understood by studying these two algorithms.\n",
    "\n",
    "[Part 1](#theory) of the tutorial summarises the key theoretical concepts in RL that n-step Sarsa and Sarsa($\\lambda$) draw upon. [Part 2](#implementation) implements each algorithm and its associated dependencies. [Part 3](#experiments) compares the performance of each algorithm through a number of simulations. [Part 4](#conclusion) wraps up and provides direction for further study.\n",
    "\n",
    "The two main resources I drew upon to make this tutorial were [Sutton and Barto's Introduction to Reinforcement Learning](http://www.incompleteideas.net/book/bookdraft2017nov5.pdf) (imges were also taken from here) and [Denny Britz's excellent implementations](https://github.com/dennybritz/reinforcement-learning) of some of the algorithms therein. The implementation for the [Mountain Car environment](https://gym.openai.com/envs/MountainCarContinuous-v0/) was imported from the OpenAI Gym, and the tile coding software used for state featurization was also from Sutton and Barto, installed from [here](http://incompleteideas.net/tiles/tiles3.html).\n",
    "\n",
    "If you are reading this on my blog, you can access the raw notebook to play around with here on github. If you are on github already, here is my blog!"
   ]
  },
  {
   "cell_type": "markdown",
   "metadata": {},
   "source": [
    "## 1 &nbsp; Theory <a id='theory'></a>"
   ]
  },
  {
   "cell_type": "markdown",
   "metadata": {},
   "source": [
    "We first cover the key concepts in RL that n-step Sarsa and Sarsa($\\lambda$) draw upon."
   ]
  },
  {
   "cell_type": "markdown",
   "metadata": {},
   "source": [
    "### 1.1 &nbsp; Value Functions <a id='value_functions'></a>"
   ]
  },
  {
   "cell_type": "markdown",
   "metadata": {},
   "source": [
    "Nearly all reinforcement learning algorithms involve estimating value functions, functions of states (or state-actions) that quantify how good it is for an agent to be in a particular state (or state-action pair), where 'good' is defined in terms of the rewards expected to follow from that state (or state-action pair) in the future. The rewards that can be expected depend on which actions will be taken, and so value functions must be defined with respect to particular policies $\\pi(a | s)$, which map from states to actions.\n",
    "\n",
    "Formally, the state-value of $s$ under policy $\\pi$ is defined as the expected $\\textit{return}$ $G_t = \\sum_0^\\infty \\gamma^k R_{t+k+1}$ when starting from $S_t$ and following $\\pi$ thereafter: \n",
    "\n",
    "$$v_\\pi(s) = \\mathbb{E}_\\pi[G_t | S_t = s]$$ \n",
    "\n",
    "$R_t$ is the reward received at time step $t$ and $\\gamma$ is the discount rate, $ 0 \\leq \\gamma \\leq 1$, which controls the relative weighting between near and far-sighted rewards, and ensures that the sum is finite for continuing tasks (i.e. those that don't naturally break down into terminating episodes).\n",
    "\n",
    "Similarly, the action-value (a.k.a q-value) of (s, a) under policy $\\pi$ is defined as the expected return when taking action $a$ in state $s$ and following policy $\\pi$ thereafter: \n",
    "\n",
    "$$q_\\pi(s, a) = \\mathbb{E}_\\pi[G_t | S_t = s, A_t = a]$$"
   ]
  },
  {
   "cell_type": "markdown",
   "metadata": {},
   "source": [
    "### 1.2 &nbsp; Policy Evaluation and the Prediction Problem <a id='policy_evaluation'></a>"
   ]
  },
  {
   "cell_type": "markdown",
   "metadata": {},
   "source": [
    "If we have a model of the environment's transition dynamics  $p(s′,r|s,a)$ , i.e the probabilities of which states and actions lead to which next states and rewards, then the value functions can be computed analytically. However, most of the time the dynamics are not known and the value functions must instead be estimated from actual sample experience, giving rise to $V(S_t) \\approx v_\\pi(S_t)$ and $Q(S_t, A_t) \\approx q_\\pi(S_t, A_t)$. The general approach to computing these estimations is to have the agent follow $\\pi$ and maintain for each state (or state-action) a running average of the returns that follow. This boils down to iterating over an update rule with the following general form:\n",
    "\n",
    "$$NewEstimate \\gets OldEstimate + \\alpha\\ [Target - OldEstimate]$$\n",
    "\n",
    "$Target$ is just the return from the current state (or state-action). This could be the actual return $G_t$, or some estimation of it (as we shall see below). The name $Target$ is appropriate since it indicates the desirable direction in which to move. $\\alpha$ then indicates by how much to move in this direction. For an equally weighted average we would choose $\\alpha=1/n$, where $n$ is the number of times the given state (or state-action) has been visited so far. However, most reinforcement learning problems are non-stationary, meaning that the true state and state-action values change over time as the policy changes towards an optimal one (see below). In this case it makes more sense to give more weight to recent returns than long-past returns, which can be achieved by holding $\\alpha$ constant. The task of making the value estimates consistent with the current policy being followed is called the Prediction Problem."
   ]
  },
  {
   "cell_type": "markdown",
   "metadata": {},
   "source": [
    "### 1.3 &nbsp; Policy Improvement"
   ]
  },
  {
   "cell_type": "markdown",
   "metadata": {},
   "source": [
    "Policy evaluation is concerned with making the state or action-values consistent with the current policy being followed. Policy improvement is concerned with adjusting the current policy to one that when followed leads to a higher return. \n",
    "\n",
    "Policy improvement requires an estimate of the action-value function $Q(S_t, A_t) \\approx q_\\pi(S_t, A_t)$ as opposed to an estimate of the state-value function $V(S_t) \\approx v_\\pi(S_t)$, assuming the environments transition dynamics are not known. This is because whilst $V(S_t)$ tells you which states have the highest values, it does not tell you which actions lead to which states (we can't look ahead). $Q(S_t, A_t)$, however, directly caches the value of taking a particular action in a particular state, and so it isn't necessary to look ahead to where that action leads in order to determine its value.\n",
    "\n",
    "Suppose then that we have determined a good approximation $Q$ to the action-value function $q_\\pi$ for an arbitrary policy $\\pi$ via policy evaluation. We can improve on this policy simply by selecting at each state $s$ the action that appears best according to $Q(s, a)$ i.e. by switching to a new policy $\\pi^\\prime$ that is 'greedy' with respect to $Q(s, a)$. The new greedy policy $\\pi^\\prime$ is guaranteed to be better than the original policy $\\pi$ for all $s$ and $a$."
   ]
  },
  {
   "cell_type": "markdown",
   "metadata": {},
   "source": [
    "### 1.4 &nbsp; Policy iteration and the Control Problem"
   ]
  },
  {
   "cell_type": "markdown",
   "metadata": {},
   "source": [
    "Once a policy has been improved using $Q(S_t, A_t) \\approx  q_\\pi(S_t, A_t)$ to yield a better policy $\\pi^\\prime$, we can then evaluate this new policy to find $Q(S_t, A_t) \\approx  q_{\\pi^\\prime}(S_t, A_t)$, before improving it once again to yield an even better policy $\\pi^{\\prime \\prime}$. By alternating these two processes, policy improvement and policy evaluation, we achieve a sequence of monotonically improving policies and value functions that converge towards the optimal policy and value function, $\\pi_*$ and $q_*$. This is called policy iteration. \n",
    "\n",
    "In policy iteration, each process completes before the other begins. This is not necessary and can slow down learning. Generalized policy iteration (GPI) refers to the general idea of letting the policy improvement and evaluation processes interact at an arbitrary level of granularity. For example, policy evaluation could be truncated after a single sweep of the state set, or when the task is episodic, after just a single episode, before performing a step of policy improvement. The latter is the approach we take in the implementations of this tutorial. The task of learning optimal policies in general is called the Control Problem.\n",
    "\n",
    "\n",
    "<center><img src=\"images/policy_iteration.png\" width=\"180\"></center>"
   ]
  },
  {
   "cell_type": "markdown",
   "metadata": {},
   "source": [
    "### 1.5 &nbsp; On Policy vs Off-Policy Control <a id='on_off_policy'></a>"
   ]
  },
  {
   "cell_type": "markdown",
   "metadata": {},
   "source": [
    "Policy iteration is only guaranteed to converge if each action is selected infinitely often in the limit. This will not be the case in the approach described above, since by always making the policy greedy with the current action-value function, we prevent exploration of the non-greedy actions. This problem can be mitigated if exploring starts are enforced, where each state has a non-zero probability of being selected to start the episode. However, for most practical situations where episodes are simulated from real experience, this is an unlikely assumption to make.\n",
    "\n",
    "There are two other approaches to ensuring that all actions continue to be selected: on-policy and off-policy methods. In on-policy methods, \n",
    "we continually make the policy $\\epsilon$-greedy w.r.t the current value function rather than deterministically greedy. This means that most of the time the maximising action is selected, but with probability $\\epsilon$ it selects an action at random. Convergence is guaranteed, since all actions continue to be selected. However, convergence is not actually towards the optimal (greedy) policy, but rather to a nearby one that still explores. \n",
    "\n",
    "In off-policy methods we avoid the compromise of learning a policy that is only near-optimal by leveraging two separate policies, one that is continually made greedy w.r.t the current value function and so becomes the optimal policy (a.k.a the target policy), and another that is more exploratory and used to generate sample experience (a.k.a the behaviour policy). Importance sampling is the mechanism that allows us to learn about the target policy using data generated by the behaviour policy; we don't go into detail about this, since the examples in this tutorial use on-policy methods."
   ]
  },
  {
   "cell_type": "markdown",
   "metadata": {},
   "source": [
    "### 1.6 &nbsp; Tabular Solution Methods <a id='tabular_methods'></a>"
   ]
  },
  {
   "cell_type": "markdown",
   "metadata": {},
   "source": [
    "Here we describe the core model-free methods for learning optimal policies and value functions when the state and action spaces are small enough for us to learn distinct values for each and every state (or state-action). In this setting the value functions can be represented as arrays, or tables, which is why these methods are called tabular solution methods. These methods are distinguished only by the target used in the [update rule](#policy_evaluation) above, and so this is what we focus the discussion on.  "
   ]
  },
  {
   "cell_type": "markdown",
   "metadata": {},
   "source": [
    "#### 1.6.1 &nbsp; Monte Carlo (MC) Methods"
   ]
  },
  {
   "cell_type": "markdown",
   "metadata": {},
   "source": [
    "The target formed in Monte Carlo methods is simply $G_t$, the complete sample return. The MC update for state-values is therefore:\n",
    "\n",
    "$$ V(S_t) \\gets V(S_t) + \\alpha[G_t - V(S_t)]$$\n",
    "\n",
    "Since each $G_t$ is an unbiased estimator of $v_\\pi(s)$, i.e. $\\mathbb{E}[G_t | S_t = s] = v_\\pi(S_t)$, the average of these returns will converge in the long run to $v_\\pi(s)$. However, since the selection of actions in an episode is stochastic, there will be a high variance amongst the returns. Also, because $G_t$ is only available at the end of an episode, we must wait until then before we can make an update (i.e. updates are 'off-line'). Both of these things can result in slow learning.\n",
    "\n",
    "For action-values we simply switch $V(S_t)$ for $Q(S_t, A_t)$ in the update rule:\n",
    "\n",
    "$$ Q(S_t, A_t) \\gets Q(S_t, A_t) + \\alpha[G_t - Q(S_t, A_t)]$$"
   ]
  },
  {
   "cell_type": "markdown",
   "metadata": {},
   "source": [
    "#### 1.6.2 &nbsp; One-step Temporal Difference (TD) Methods"
   ]
  },
  {
   "cell_type": "markdown",
   "metadata": {},
   "source": [
    "The target formed in one-step TD methods is the truncated return $G_{t:t+1} = R_{t+1} + V(S_{t+1})$. In other words, $G_{t:t+1}$ is a re-estimation of the value of the current state made at the $\\textit{next}$ timestep $t+1$ (hence the name 'temporal difference'). The one-step TD update for state-values is thus:\n",
    "\n",
    "$$ V(S_t) \\gets V(S_t) + \\alpha[G_{t:t+1} - V(S_t)]$$\n",
    "\n",
    "Whilst the MC target was an unbiased estimate of $v_\\pi(S_t)$, this time it is biased, due to its dependence on the estimate $V(S_{t+1})$. Basing an estimate off of other estimates like this is called 'bootstrapping'. The payoff we get for introducing bias is lower variance, since the target only depends on one stochastic action selection. Also, whilst the MC target was only available at the end of the episode, this time it is available at $t+1$, since it only depends on the next state and reward. TD updates can therefore be performed 'on-line' (during an episode) which can result in faster learning (our value estimates are better sooner, enabling our agent to more immediately exploit anything that has changed).\n",
    "\n",
    "The fact that TD converges implies that the estimates of $v_\\pi(s)$ made at future time steps are better than those made at the current time step. This makes intuitive sense: if I asked you to estimate the length of your commute home as you got in the car, your re-estimate of that value once you've seen how much traffic there is on the motorway is likely to be more accurate.\n",
    "\n",
    "Once again for action-values we simply switch the $V$s for $Q$s in the update rule:\n",
    "\n",
    "$$ Q(S_t, A_t) \\gets Q(S_t, A_t) + \\alpha[G_{t:t+1} - Q(S_t, A_t)] $$\n",
    "\n",
    "with $G_{t:t+1} = R_{t+1} + Q(S_{t+1}, A_{t+1})$. This action-value update depends on every element of the quintuple of events $(S_t, A_t, R_{t+1}, S_{t+1}, A_{t+1})$, and so is referred to by the name one-step $\\textit{Sarsa}$. "
   ]
  },
  {
   "cell_type": "markdown",
   "metadata": {},
   "source": [
    "#### 1.6.3 &nbsp; n-step TD Methods"
   ]
  },
  {
   "cell_type": "markdown",
   "metadata": {},
   "source": [
    "n-step TD methods generalize one-step TD presented above. Whilst one-step TD methods use the target $G_{t:t+1} = R_{t+1} + V(S_{t+1})$, n-step TD methods use the target $G_{t:t+n} = R_{t+1} + \\gamma R_{t+2} + \\ldots + \\gamma^{n-1} R_{t+n} + \\gamma^n V_{t+n-1}(S_{t+n})$. In other words, one-step TD updates bootstrap from $V(S_{t+1})$, whilst n-step updates bootstrap from $V(S_{t+n})$. The n-step TD update for state-values is therefore:\n",
    "\n",
    "$$ V(S_t) \\gets V(S_t) + \\alpha[G_{t:t+n} - V(S_t)]$$\n",
    "\n",
    "As usual we arrive at the corresponding update for action-values by swapping the $V$s for $Q$s:\n",
    "\n",
    "$$ Q(S_t, A_t) \\gets Q(S_t, A_t) + \\alpha[G_{t:t+n} - Q(S_t, A_t)],$$\n",
    "\n",
    "with $G_{t:t+n} = R_{t+1} + \\gamma R_{t+2} + \\ldots + \\gamma^{n-1} R_{t+n} + \\gamma^n Q_{t+n-1}(S_{t+n}, A_{t+n})$. This action-value form is called n-step Sarsa, by analogy with one-step Sarsa above. \n",
    "\n",
    "n-step TD methods span a spectrum with one-step TD at one end (n=1) and MC at the other (n equal to the number of steps in the episode). Increasing n reduces the bias of the estimator (moving us closer towards the unbiased estimates of MC) but increases the variance, as well as the time we have to wait before we can make an update. Often intermediate values of n are are the most effective."
   ]
  },
  {
   "cell_type": "markdown",
   "metadata": {},
   "source": [
    "### 1.7 &nbsp; Approximate Solution Methods"
   ]
  },
  {
   "cell_type": "markdown",
   "metadata": {},
   "source": [
    "If there are very many states then it becomes impractical, both in terms of memory and time, to find accurate estimates of all states (or state-actions) like tabular methods. Instead we maintain our value function estimates as parameterized functions, $\\hat{v}(s, \\mathbf{w})$ and $\\hat{q}(s, a, \\mathbf{w})$, where $\\mathbf{w} \\in \\mathbb{R}^d$ is the weight vector, whose dimensionality $d$ is much less than the number of states. $\\mathbf{w}$ is learned via an update rule, in the same way that individual states and state-actions are in tabular methods. Because an update to the weight vector affects the values of many different states (and state-actions), approximate solution methods have the ability to generalise to previously unseen states (and state-actions)."
   ]
  },
  {
   "cell_type": "markdown",
   "metadata": {},
   "source": [
    "#### 1.7.1 &nbsp; Update Rule for Approximate Solution Methods <a id='approximate_update'></a>"
   ]
  },
  {
   "cell_type": "markdown",
   "metadata": {},
   "source": [
    "We borrow from supervised learning methodology in order to formulate the update rule for $\\mathbf{w}$, and thus learn the parameterised value functions $\\hat{v}(s, \\mathbf{w})$ and $\\hat{q}(s, a, \\mathbf{w})$. If we denote the update rule for state-values as $S_t \\to U_t$, where $S_t$ is the state whose value is to be updated and $U_t$ is a target that doesn't depend on $\\mathbf{w}$, then we can interpret $(S_t, U_t)$ as an input-output training example for $\\hat{v}$. If we use the mean squared error to represent prediction error for this example, $[U_t - \\hat{v}(S_t, \\mathbf{w})]^2$, then we can perform the weight vector update via stochastic gradient descent (SGD):\n",
    "\n",
    "$$\\begin{aligned} \n",
    "\\mathbf{w}_{t+1} &= \\mathbf{w}_t - \\frac{1}{2} \\alpha \\nabla \\left[U_t - \\hat{v}(S_t, \\mathbf{w}_t) \\right]^2 \\\\\n",
    "&= \\mathbf{w}_t + \\alpha \\left[U_t - \\hat{v}(S_t, \\mathbf{w}_t) \\right] \\nabla \\hat{v}(S_t, \\mathbf{w}_t)\n",
    "\\end{aligned}$$\n",
    "\n",
    "We arrive at the corresponding update step for action-values by substituting the $\\hat{v}$s for $\\hat{q}$s. "
   ]
  },
  {
   "cell_type": "markdown",
   "metadata": {},
   "source": [
    "#### 1.7.2 &nbsp; Gradient and Semi-gradient methods"
   ]
  },
  {
   "cell_type": "markdown",
   "metadata": {},
   "source": [
    "Each of the [tabular solution methods](#tabular_methods) has an approximate solution version that use the [gradient update rule](#approximate_update) above. Once again, these methods are distinguished by the target $U_t$ used. \n",
    "\n",
    "For example, the target for the approximate MC method is simply $U_t=G_t$, giving rise to 'Gradient MC' methods. The target for the approximate n-step TD method is $U_t=G_{t:t+n}$ (and similarly for n-step Sarsa). However, this bootstrapping target depends on the current value of $\\mathbf{w}$, which breaks the key assumption of the gradient update rule above. Methods that use this update are therefore called 'Semi-gradient' methods, since they ignore part of the gradient. Convergence is nonetheless assured in certain cases, for example when a linear value function approximator is used ([see below](#linear_approximation))."
   ]
  },
  {
   "cell_type": "markdown",
   "metadata": {},
   "source": [
    "#### 1.7.3 &nbsp; Semi-gradient TD($\\lambda$)"
   ]
  },
  {
   "cell_type": "markdown",
   "metadata": {},
   "source": [
    "Gradient MC and Semi-gradient n-step TD directly parallel their tabular counterparts. However, function approximation techniques also allow us to introduce something new, TD($\\lambda$). This method is a bit more subtle than those we have already met, and so requires a bit more explanation.\n",
    "\n",
    "MC and n-step TD methods takes a forward-view: values of states are updated by looking ahead to the values of future states. This works well, but means that the target is not actually available until $n$ steps into the future. This means that the updates are not equally distributed in time: our first update is delayed by $n$ steps from the start of an episode, and this leaves us $n$ updates to catch up after the episode has finished. Additionally, in order to perform each update we must maintain a store of the last $n$ feature vectors (and rewards), which comes with computational cost.\n",
    "\n",
    "TD($\\lambda$) converts these forward view methods into backward-view versions. The mechanism for this is a short-term memory vector, the eligibility trace $\\mathbf{z}_t \\in \\mathbb{R}^d$, that parallels the long-term weight vector $\\mathbf{w} \\in \\mathbb{R}^d$, keeping track of  which components of $\\mathbf{w}$ have contributed to recent state valuations. \n",
    "\n",
    "$$\\begin{align} &\\mathbf{z}_{-1} = \\mathbf{0} \\\\\n",
    " &\\mathbf{z}_t = \\gamma \\lambda \\mathbf{z}_{t-1} + \\nabla \\hat{v}(S_t, \\mathbf{w}_t), \\quad 0 \\leq t \\leq T,\\end{align}$$\n",
    " \n",
    "where $\\gamma$ is the usual discount rate, $\\lambda \\in [0, 1]$, and the product of these two quantities defines the concept of 'recent' in the description above.\n",
    "\n",
    "The trace indicates which components of $\\mathbf{w}$ deserve most credit for the error at the current state, where error is defined by the moment-by-moment one-step TD error, $\\delta_t = G_{t:t+1} - \\hat{v}(S_t, \\mathbf{w}_t)$. Components of $\\mathbf{w}$ that have contributed most recently, or most frequently to preceding state valuations are assigned the most credit, and are said to be the most 'eligible' for an update. Concretely, each component of $\\mathbf{w}$ is updated in proportion to the scalar TD error and it's corresponding component in the vector eligibility trace.\n",
    "\n",
    "$$\\mathbf{w}_{t+1} = \\mathbf{w}_t + \\alpha \\delta_t \\mathbf{z}_t. $$\n",
    "\n",
    "In forward view n-step TD we can imagine the agent moving through state space with a telescope, looking ahead to future rewards and states in order to evaluate the currently visited state. In the backward view TD($\\lambda$), we can imagine the same agent moving through state space with a blindfold, computing the TD error at each state visited, and shouting this back to previously visited states. \n",
    "\n",
    "When $\\lambda = 0$ the trace is exactly the state-value gradient for $S_t$, and the update for $\\mathbf{w}$ reduces to the one-step semi-gradient TD update. When $\\lambda = 1$ the trace decays only according to $\\gamma$ and, although this is not as trivial to see, the update reduces to the MC Gradient update. Intermediate values of $\\lambda$ represent intermediate levels of bootstrapping between these two extremes, just as intermediate values of $n$ represent intermediate levels of bootstrapping in the n-step TD algorithm.\n",
    "\n",
    "In fact it can be shown that the TD($\\lambda$) is exactly equivalent to n-step TD, but with the n-step return $G_{t:t+n}$ replaced by a compound return composed of a weighted average of $\\textit{all}$ the n-step returns, each weighted proportional to\n",
    "$\\lambda^{n-1}$ (the same $\\lambda$ as above) and normalised by a factor of $1-\\lambda$ to ensure that the weights sum to $1$. This is called the $\\lambda$-return, $G_t^\\lambda$.\n",
    "\n",
    "$$ G_t^\\lambda = (1 - \\lambda) \\sum_{n=1}^\\infty \\lambda^{n-1}G_{t:t+n}. $$\n",
    "\n",
    "This equivalence can be seen easily for the cases $\\lambda = 0$ and $\\lambda = 1$. In the former case $G_t^\\lambda$ reduces to $G_{t:t+1}$, the one-step TD return, and in the latter it reduces to $G_t$, the complete MC return, which is consistent with the behaviour of TD($\\lambda$) above.\n",
    "\n",
    "The advantages of eligibilty traces over n-step methods are clear. Updates are now performed continually and uniformly in time rather than being delayed $n$ steps and then catching up at the end of the episode (note that for the $\\lambda$-return we would actually have to wait all the way until the end of the episode to make the first update since only then is the longest of its component returns available). This means that learning can occur and affect behaviour immediately after a state is encountered rather than being delayed $n$ steps. Additionally, now only a single trace vector needs storing rather than the last n feature vectors.\n",
    "\n",
    "The formulation we have used for the eligibility trace is called the accumulating trace: each time a state is visited the corresponding components of $\\mathbf{z}$ are bumped up, decaying away between visits. Another kind of trace is called the replacing trace, which resets the components back to $1$ on each state visit rather than growing them any further (i.e. the frequency with which components of $\\mathbf{w}$ have contributed to recent state valuations is dropped as a measure of eligibility).\n",
    "\n",
    "Of course the concept of eligibility traces works for action-value function approximation methods too. As usual all that is required is to swap $\\hat{v}$s for $\\hat{q}$s in the discussion above. The resulting methods are called Sarsa($\\lambda$) methods."
   ]
  },
  {
   "cell_type": "markdown",
   "metadata": {},
   "source": [
    "#### 1.7.4 &nbsp; Linear Value Function Approximation <a id='linear_approximation'></a>"
   ]
  },
  {
   "cell_type": "markdown",
   "metadata": {},
   "source": [
    "An important special case of value function approximation (which can be applied to all the gradient and semi-gradient methods we have encountered so far) is that for which $\\hat{v}(s, \\mathbf{w})$ is a linear function of $\\mathbf{w}$:\n",
    "\n",
    "$$ \\hat{v}(s, \\mathbf{w}) = \\mathbf{w}^\\top \\mathbf{x}(s) = \\sum_i^d w_i x_i(s). $$\n",
    "\n",
    "$\\mathbf{x}(s)$ here is a featurized representation of $s$, of the same dimensions as $\\mathbf{w}$ ([see below](#feature_construction)). The gradient of the approximate value function with respect to $\\mathbf{w}$ in this linear case is simply $\\nabla \\hat{v}(s, \\mathbf{w}) = \\mathbf{x}(s)$, which reduces the SGD weight vector update to:\n",
    "\n",
    "$$ \\mathbf{w}_{t+1} = \\mathbf{w}_t + \\alpha \\left[U_t - \\hat{v}(S_t, \\mathbf{w}_t) \\right] \\mathbf{x}(S_t). $$\n",
    "\n",
    "For action-values, the $\\hat{v}$s are replaced with $\\hat{q}$s, and $\\mathbf{x}(s)$ becomes $\\mathbf{x}(s, a)$, the featurized representation of the state-action pair $(s, a)$. "
   ]
  },
  {
   "cell_type": "markdown",
   "metadata": {},
   "source": [
    "#### 1.7.5 &nbsp; Feature Construction for Linear Methods <a id='feature_construction'></a>"
   ]
  },
  {
   "cell_type": "markdown",
   "metadata": {},
   "source": [
    "Suppose our states $s$ have two numerical dimensions, or features, $s_1$ and $s_2$. For example, $s_1$ could be position and $s_2$ velocity, as is the case with the Mountain Car task that we consider in part 2 of this tutorial. The most natural 'featurization' for $s$ would be $\\mathbf{x} = (s_1, s_2)^\\top$.\n",
    "\n",
    "A limitation of the linear value function approximator is that it can't take into account interactions between features, such as a high value for $s_1$ only being good in the presence of a positive value for $s_2$ in the example above. The only way to model such interdependencies would be to include in the featurization of $s$ features that combine $s_1$ and $s_2$. For example, we could use a polynomial featurization such as $\\mathbf{x}(s) = (1, s_1, s_2, s_1s_2, s_1s_2^2, s_1^2s_2, s_1^2s_2^2)^\\top$.\n",
    "\n",
    "Tile coding is another way to construct features that is more flexible and scalable than polynomial featurization. In tile coding, the state space is covered by multiple tilings, with each tiling composed of multiple tiles. The tilings are offset from one another by a fraction of the tile width. The state featurization $\\mathbf{x}(s)$ has one feature for each tile in each tiling, so if there are $n$ tilings and $k \\times k$ tiles in each tiling, $\\mathbf{x}(s) \\in \\mathbb{R}^{n \\times k \\times k}$. A particular feature is $1$ (active) if the state falls within the corresponding tile and $0$ (inactive) otherwise. Since every position in state space falls in exactly one tile in each of the $n$ tilings, there are always $n$ active features in $\\mathbf{x}(s)$. \n",
    "\n",
    "\n",
    "<center><img src=\"images/tile_coding.png\" width=\"600\"></center>\n",
    "\n",
    "A nice side-effect of the above is that the learning rate $\\alpha$ in the [gradient update rule](#linear_approximation) can be set in an intuitive way. In particular, if $\\alpha=\\frac{1}{n}$, then the new estimate $\\hat{v}(s, \\mathbf{w}_{t+1}) = U_t$, regardless of the prior estimate $\\hat{v}(s, \\mathbf{w}_{t+1})$ (this follows from both the form of the gradient update rule as well as the form of $\\hat{v}(s, \\mathbf{w})$). Usually we only want to move some fraction ${x}$ of the way to the target $U_t$, which can be achieved by setting $\\alpha=\\frac{x}{n}$ instead. \n",
    "\n",
    "Tile coding ensures generalization because if we train at one state $s$, a single point in state space, then the weights associated with all ($n$) tiles covering $s$ will be updated. In turn, the approximate value function for all states within the union of these active tiles will change, proportional to the number of tiles they have in common. The shape and offset of the tiles will affect the type of generalization. For example, if the tiles are elongated along a particular dimension in state space, then generalization will extend further to states along this dimension. The number and size of the tiles will determine the finest level of discrimination possible between states - how far you have to move in state space in order to change at least one component of the featurization. \n",
    "\n",
    "Because tile coding uses binary features, the approximate value function $\\hat{v}(s, \\mathbf{w})$ in the linear case is almost trivial to compute:\n",
    "\n",
    "$$ \\hat{v}(s, \\mathbf{w}) = \\mathbf{w}^\\top \\mathbf{x}(s) = \\sum_i^d w_i x_i(s) \\equiv \\sum_{i \\in \\{x_i = 1\\}}w_i$$ \n",
    "\n",
    "In order to compute the approximate action-value function $\\hat{q}(s, a, \\mathbf{w})$, we simply need to replace $\\mathbf{x}(s)$ by $\\mathbf{x}(s, a)$. The latter can be computed by making the tilings cover the whole state-action space as opposed to just the state-space."
   ]
  },
  {
   "cell_type": "markdown",
   "metadata": {},
   "source": [
    "## &nbsp; 2 Implementation <a id='implementation'></a>"
   ]
  },
  {
   "cell_type": "markdown",
   "metadata": {},
   "source": [
    "We now implement n-step Sarsa and Sarsa($\\lambda$) and their associated dependencies. These implementations should be well understood by studying [Part 1](#theory) above; comments have been added to steps that may require extra explanation."
   ]
  },
  {
   "cell_type": "code",
   "execution_count": 1,
   "metadata": {},
   "outputs": [],
   "source": [
    "%matplotlib inline\n",
    "\n",
    "import gym\n",
    "import itertools\n",
    "import matplotlib\n",
    "import numpy as np\n",
    "import pandas as pd\n",
    "import sys\n",
    "import time\n",
    "import timeit\n",
    "from collections import namedtuple\n",
    "import os\n",
    "import glob\n",
    "\n",
    "from lib.tile_coding import IHT, tiles\n",
    "from matplotlib import pyplot as plt\n",
    "from matplotlib import cm\n",
    "matplotlib.style.use('ggplot')\n",
    "\n",
    "import io\n",
    "import base64\n",
    "from IPython.display import HTML"
   ]
  },
  {
   "cell_type": "code",
   "execution_count": 2,
   "metadata": {},
   "outputs": [
    {
     "name": "stdout",
     "output_type": "stream",
     "text": [
      "\u001b[33mWARN: gym.spaces.Box autodetected dtype as <class 'numpy.float32'>. Please provide explicit dtype.\u001b[0m\n"
     ]
    }
   ],
   "source": [
    "env = gym.make(\"MountainCar-v0\")\n",
    "env._max_episode_steps = 3000  # Increase upper time limit so we can plot full behaviour.\n",
    "np.random.seed(6)  # Make plots reproducible"
   ]
  },
  {
   "cell_type": "code",
   "execution_count": 3,
   "metadata": {},
   "outputs": [],
   "source": [
    "class QEstimator():\n",
    "    \"\"\"\n",
    "    Linear action-value (q-value) function approximator for \n",
    "    semi-gradient methods with state-action featurization via tile coding. \n",
    "    \"\"\"\n",
    "    \n",
    "    def __init__(self, step_size, num_tilings=8, max_size=4096, tiling_dim=None, trace=False):\n",
    "        \n",
    "        self.trace = trace\n",
    "        self.max_size = max_size\n",
    "        self.num_tilings = num_tilings\n",
    "        self.tiling_dim = tiling_dim or num_tilings\n",
    "\n",
    "        # Step size is interpreted as the fraction of the way we want \n",
    "        # to move towards the target. To compute the learning rate alpha,\n",
    "        # scale by number of tilings. \n",
    "        self.alpha = step_size / num_tilings\n",
    "\n",
    "        # Initialize index hash table (IHT) for tile coding.\n",
    "        # This assigns a unique index to each tile up to max_size tiles.\n",
    "        # Ensure max_size >= total number of tiles (num_tilings x tiling_dim x tiling_dim)\n",
    "        # to ensure no duplicates.\n",
    "        self.iht = IHT(max_size)\n",
    "\n",
    "        # Initialize weights (and optional trace)\n",
    "        self.weights = np.zeros(max_size)\n",
    "        if self.trace:\n",
    "            self.z = np.zeros(max_size)\n",
    "\n",
    "        # Tilecoding software partitions at integer boundaries, so must rescale\n",
    "        # position and velocity space to span tiling_dim x tiling_dim region.\n",
    "        self.position_scale = self.tiling_dim / (env.observation_space.high[0] \\\n",
    "                                                  - env.observation_space.low[0])\n",
    "        self.velocity_scale = self.tiling_dim / (env.observation_space.high[1] \\\n",
    "                                                  - env.observation_space.low[1])\n",
    "        \n",
    "    def featurize_state_action(self, state, action):\n",
    "        \"\"\"\n",
    "        Returns the featurized representation for a \n",
    "        state-action pair.\n",
    "        \"\"\"\n",
    "        featurized = tiles(self.iht, self.num_tilings, \n",
    "                           [self.position_scale * state[0], \n",
    "                            self.velocity_scale * state[1]], \n",
    "                           [action])\n",
    "        return featurized\n",
    "    \n",
    "    def predict(self, s, a=None):\n",
    "        \"\"\"\n",
    "        Predicts q-value(s) using linear FA.\n",
    "        If action a is given then returns prediction\n",
    "        for single state-action pair (s, a).\n",
    "        Otherwise returns predictions for all actions \n",
    "        in environment paired with s.   \n",
    "        \"\"\"\n",
    "    \n",
    "        if a is None:\n",
    "            features = [self.featurize_state_action(s, i) for \n",
    "                        i in range(env.action_space.n)]\n",
    "        else:\n",
    "            features = [self.featurize_state_action(s, a)]\n",
    "            \n",
    "        return [np.sum(self.weights[f]) for f in features]\n",
    "        \n",
    "            \n",
    "    def update(self, s, a, target):\n",
    "        \"\"\"\n",
    "        Updates the estimator parameters\n",
    "        for a given state and action towards\n",
    "        the target using the gradient update rule \n",
    "        (and the eligibility trace if one has been set).\n",
    "        \"\"\"\n",
    "        features = self.featurize_state_action(s, a)\n",
    "        estimation = np.sum(self.weights[features])  # Linear FA\n",
    "        delta = (target - estimation)\n",
    "        \n",
    "        if self.trace:\n",
    "            # self.z[features] += 1  # Accumulating trace\n",
    "            self.z[features] = 1  # Replacing trace\n",
    "            self.weights += self.alpha * delta * self.z\n",
    "        else:\n",
    "            self.weights[features] += self.alpha * delta\n",
    "                \n",
    "    \n",
    "    def reset(self, z_only=False):\n",
    "        \"\"\"\n",
    "        Resets the eligibility trace (must be done at \n",
    "        the start of every epoch) and optionally the\n",
    "        weight vector (if we want to restart training\n",
    "        from scratch).\n",
    "        \"\"\"\n",
    "        \n",
    "        if z_only:\n",
    "            assert self.trace, 'q-value estimator has no z to reset.'\n",
    "            self.z = np.zeros(self.max_size)\n",
    "        else:\n",
    "            if self.trace:\n",
    "                self.z = np.zeros(self.max_size)\n",
    "            self.weights = np.zeros(self.max_size)\n",
    "        "
   ]
  },
  {
   "cell_type": "code",
   "execution_count": 4,
   "metadata": {},
   "outputs": [],
   "source": [
    "def make_epsilon_greedy_policy(estimator, epsilon, num_actions):\n",
    "    \"\"\"\n",
    "    Creates an epsilon-greedy policy based on a \n",
    "    given q-value approximator and epsilon.    \n",
    "    \"\"\"\n",
    "    def policy_fn(observation):\n",
    "        action_probs = np.ones(num_actions, dtype=float) * epsilon / num_actions\n",
    "        q_values = estimator.predict(observation)\n",
    "        best_action_idx = np.argmax(q_values)\n",
    "        action_probs[best_action_idx] += (1.0 - epsilon)\n",
    "        return action_probs\n",
    "    return policy_fn"
   ]
  },
  {
   "cell_type": "code",
   "execution_count": 5,
   "metadata": {},
   "outputs": [],
   "source": [
    "def sarsa_n(n, env, estimator, gamma=1.0, epsilon=0):\n",
    "    \"\"\"\n",
    "    n-step semi-gradient Sarsa algorithm\n",
    "    for finding optimal q and pi via Linear\n",
    "    FA with n-step TD updates.\n",
    "    \"\"\"\n",
    "    \n",
    "    # Create epsilon-greedy policy\n",
    "    policy = make_epsilon_greedy_policy(\n",
    "        estimator, epsilon, env.action_space.n)\n",
    "\n",
    "    # Reset the environment and pick the first action\n",
    "    state = env.reset()\n",
    "    action_probs = policy(state)\n",
    "    action = np.random.choice(np.arange(len(action_probs)), p=action_probs)\n",
    "\n",
    "    # Set up trackers\n",
    "    states = [state]\n",
    "    actions = [action]\n",
    "    rewards = [0.0]\n",
    "\n",
    "    # Step through episode\n",
    "    T = float('inf')\n",
    "    for t in itertools.count():\n",
    "        if t < T:           \n",
    "            # Take a step\n",
    "            next_state, reward, done, _ = env.step(action)\n",
    "            states.append(next_state)\n",
    "            rewards.append(reward)\n",
    "\n",
    "            if done:\n",
    "                T = t + 1\n",
    "\n",
    "            else:\n",
    "                # Take next step\n",
    "                next_action_probs = policy(next_state)\n",
    "                next_action = np.random.choice(\n",
    "                    np.arange(len(next_action_probs)), p=next_action_probs)\n",
    "\n",
    "                actions.append(next_action)\n",
    "\n",
    "        update_time = t + 1 - n  # Specifies state to be updated\n",
    "        if update_time >= 0:       \n",
    "            # Build target\n",
    "            target = 0\n",
    "            for i in range(update_time + 1, min(T, update_time + n) + 1):\n",
    "                target += np.power(gamma, i - update_time - 1) * rewards[i]\n",
    "            if update_time + n < T:\n",
    "                q_values_next = estimator.predict(states[update_time + n])\n",
    "                target += q_values_next[actions[update_time + n]]\n",
    "            \n",
    "            # Update step\n",
    "            estimator.update(states[update_time], actions[update_time], target)\n",
    "        \n",
    "        if update_time == T - 1:\n",
    "            break\n",
    "\n",
    "        state = next_state\n",
    "        action = next_action\n",
    "    \n",
    "    ret = np.sum(rewards)\n",
    "    \n",
    "    return t, ret"
   ]
  },
  {
   "cell_type": "code",
   "execution_count": 6,
   "metadata": {},
   "outputs": [],
   "source": [
    "def sarsa_lambda(lmbda, env, estimator, gamma=1.0, epsilon=0):\n",
    "    \n",
    "    \"\"\"\n",
    "    Sarsa(Lambda) algorithm\n",
    "    for finding optimal q and pi via Linear\n",
    "    FA with eligibility traces.\n",
    "    \"\"\"\n",
    "    \n",
    "    # Reset the eligibility trace\n",
    "    estimator.reset(z_only=True)\n",
    "\n",
    "    # Create epsilon-greedy policy\n",
    "    policy = make_epsilon_greedy_policy(\n",
    "        estimator, epsilon, env.action_space.n)\n",
    "\n",
    "    # Reset the environment and pick the first action\n",
    "    state = env.reset()\n",
    "    action_probs = policy(state)\n",
    "    action = np.random.choice(np.arange(len(action_probs)), p=action_probs)\n",
    "\n",
    "    ret = 0\n",
    "    # Step through episode\n",
    "    for t in itertools.count():\n",
    "        # Take a step\n",
    "        next_state, reward, done, _ = env.step(action)\n",
    "        ret += reward\n",
    "\n",
    "        if done:\n",
    "            target = reward\n",
    "            estimator.update(state, action, target)\n",
    "            break\n",
    "\n",
    "        else:\n",
    "            # Take next step\n",
    "            next_action_probs = policy(next_state)\n",
    "            next_action = np.random.choice(\n",
    "                np.arange(len(next_action_probs)), p=next_action_probs)\n",
    "\n",
    "            # Estimate q-value at next state-action\n",
    "            q_new = estimator.predict(\n",
    "                next_state, next_action)[0]\n",
    "            target = reward + gamma * q_new\n",
    "            # Update step\n",
    "            estimator.update(state, action, target)\n",
    "            estimator.z *= gamma * lmbda\n",
    "\n",
    "        state = next_state\n",
    "        action = next_action    \n",
    "    \n",
    "    return t, ret\n",
    "    "
   ]
  },
  {
   "cell_type": "markdown",
   "metadata": {},
   "source": [
    "## 3 &nbsp; Experiments <a id='experiments'></a>"
   ]
  },
  {
   "cell_type": "markdown",
   "metadata": {},
   "source": [
    "We now compare the performance of n-step Sarsa and Sarsa($\\lambda$) applied to the [Mountain Car problem](https://gym.openai.com/envs/MountainCarContinuous-v0/). This is a classic episodic task commonly used to benchmark RL algorithms, where the goal is to get a car to the top of a hill, the catch being that the engine is not strong enough on its own so the agent must learn to exploit gravity. \n",
    "\n",
    "The simulations we run use the implementations from [Part 2](#implementation). Note that for both algorithms we use the default of $\\epsilon=0$. This is OK because the Mountain Car environment yields a reward of $-1$ for each action unless it leads directly to the top of the hill (when it a yields reward of $0$). Our zero initialisation of the q-value function is therefore optimistic, and so the agent still explores (at least at the start of training). We also use the default of $\\gamma=1$ as discounting isn't strictly necessary in episodic tasks."
   ]
  },
  {
   "cell_type": "markdown",
   "metadata": {},
   "source": [
    "### 3.1 &nbsp; Plotting Utility Functions"
   ]
  },
  {
   "cell_type": "code",
   "execution_count": 7,
   "metadata": {},
   "outputs": [],
   "source": [
    "def plot_cost_to_go(env, estimator, num_partitions=50):\n",
    "    \"\"\"\n",
    "    Plots -Q(s, a_max) for each state s=(position, velocity) \n",
    "    in the environment where a_max is the maximising action \n",
    "    from s according to our q-value estimator Q.\n",
    "    The state-space is continuous hence we first discretise \n",
    "    it into num_partitions partitions in each dimension. \n",
    "    \"\"\"\n",
    "    \n",
    "    x = np.linspace(env.observation_space.low[0], env.observation_space.high[0], num=num_partitions)\n",
    "    y = np.linspace(env.observation_space.low[1], env.observation_space.high[1], num=num_partitions)\n",
    "    X, Y = np.meshgrid(x, y)\n",
    "    Z = np.apply_along_axis(\n",
    "        lambda obs: -np.max(estimator.predict(obs)), 2, np.stack([X, Y], axis=2))\n",
    "\n",
    "    fig, ax = plt.subplots(figsize=(10, 5))\n",
    "    p = ax.pcolor(X, Y, Z, cmap=cm.RdBu, vmin=0, vmax=200)\n",
    "\n",
    "    ax.set_xlabel('Position')\n",
    "    ax.set_ylabel('Velocity')\n",
    "    ax.set_title(\"\\\"Cost To Go\\\" Function\")\n",
    "    fig.colorbar(p)\n",
    "    plt.show()"
   ]
  },
  {
   "cell_type": "code",
   "execution_count": 8,
   "metadata": {},
   "outputs": [],
   "source": [
    "def animate_greedy_policy(env, estimator, save_dir):\n",
    "    \"\"\"\n",
    "    Follows (deterministic) greedy policy\n",
    "    with respect to the given q-value estimator\n",
    "    and saves animation using openAI gym's Monitor \n",
    "    wrapper. Monitor will throw an error if monitor \n",
    "    files already exist in save_dir so use unique\n",
    "    save_dir for each call.\n",
    "    \"\"\"\n",
    "    \n",
    "    if not os.path.exists(save_dir):\n",
    "        os.makedirs(save_dir)\n",
    "\n",
    "    try:\n",
    "        env = gym.wrappers.Monitor(\n",
    "            env, save_dir, video_callable=lambda episode_id: True)\n",
    "    except gym.error.Error as e:\n",
    "        print(e.what())\n",
    "\n",
    "    # Set epsilon to zero to follow greedy policy\n",
    "    policy = make_epsilon_greedy_policy(\n",
    "        estimator=estimator, epsilon=0, num_actions=env.action_space.n)\n",
    "    # Reset the environment\n",
    "    state = env.reset()\n",
    "    for t in itertools.count():\n",
    "        time.sleep(0.01)  # Slow down animation\n",
    "        action_probs = policy(state)  # Compute action-values\n",
    "        [action] = np.nonzero(action_probs)[0]  # Greedy action\n",
    "        state, _, done, _ = env.step(action)  # Take step\n",
    "        env.render()  # Animate\n",
    "        if done:\n",
    "            print('Solved in {} steps'.format(t))\n",
    "            break"
   ]
  },
  {
   "cell_type": "code",
   "execution_count": 9,
   "metadata": {},
   "outputs": [],
   "source": [
    "def display_animation(filepath):\n",
    "    \"\"\" Displays mp4 animation in Jupyter.\"\"\"\n",
    "    \n",
    "    video = io.open(filepath, 'r+b').read()\n",
    "    encoded = base64.b64encode(video)\n",
    "    return HTML(data='''<video alt=\"test\" controls>\n",
    "                <source src=\"data:video/mp4;base64,{0}\" type=\"video/mp4\" />\n",
    "                 </video>'''.format(encoded.decode('ascii')))"
   ]
  },
  {
   "cell_type": "code",
   "execution_count": 10,
   "metadata": {},
   "outputs": [],
   "source": [
    "def plot_learning_curves(stats, smoothing_window=10):\n",
    "    \"\"\"\n",
    "    Plots the number of steps taken by the agent\n",
    "    to solve the task as a function of episode number,\n",
    "    smoothed over the last smoothing_window episodes. \n",
    "    \"\"\"\n",
    "    \n",
    "    plt.figure(figsize=(10,5))\n",
    "    for algo_stats in stats:\n",
    "        steps_per_episode = pd.Series(algo_stats.steps).rolling(\n",
    "            smoothing_window).mean()  # smooth\n",
    "        plt.plot(steps_per_episode, label=algo_stats.algorithm)\n",
    "    plt.xlabel(\"Episode\")\n",
    "    plt.ylabel(\"Steps\")\n",
    "    plt.title(\"Steps per Episode\")\n",
    "    plt.legend()\n",
    "    plt.show()"
   ]
  },
  {
   "cell_type": "code",
   "execution_count": 11,
   "metadata": {},
   "outputs": [],
   "source": [
    "def plot_grid_search(stats, truncate_steps=400):\n",
    "    \"\"\" \n",
    "    Plots average number of steps taken by the agent \n",
    "    to solve the task for each combination of\n",
    "    step size and boostrapping parameter\n",
    "    (n or lambda).\n",
    "    \"\"\"\n",
    "    # Truncate high step values for clearer plotting\n",
    "    stats.steps[stats.steps > truncate_steps] = truncate_steps\n",
    "    \n",
    "    # We use -1 step values indicate corresponding combination of\n",
    "    # parameters doesn't converge. Set these to truncate_steps for plotting.\n",
    "    stats.steps[stats.steps == -1] = truncate_steps\n",
    "    \n",
    "    plt.figure()\n",
    "    for b_idx in range(len(stats.bootstrappings)):\n",
    "        plt.plot(stats.step_sizes, stats.steps[b_idx, :], \n",
    "            label='Bootstrapping: {}'.format(stats.bootstrappings[b_idx]))\n",
    "    plt.xlabel('Step size (alpha * number of tilings)')\n",
    "    plt.ylabel('Average steps per episode')\n",
    "    plt.title('Grid Search {}'.format(stats.algorithm))\n",
    "    plt.ylim(140, truncate_steps - 100)\n",
    "    plt.legend()"
   ]
  },
  {
   "cell_type": "markdown",
   "metadata": {},
   "source": [
    "### 3.2 &nbsp; Running n-step Sarsa and Sarsa($\\lambda$)"
   ]
  },
  {
   "cell_type": "code",
   "execution_count": 12,
   "metadata": {},
   "outputs": [],
   "source": [
    "RunStats = namedtuple('RunStats', ['algorithm', 'steps', 'returns'])"
   ]
  },
  {
   "cell_type": "code",
   "execution_count": 13,
   "metadata": {},
   "outputs": [],
   "source": [
    "def run(algorithm, num_episodes=500, **algorithm_kwargs):\n",
    "    \"\"\"\n",
    "    Runs algorithm over multilple episodes and logs\n",
    "    for each episode the complete return (G_t) and the\n",
    "    number of steps taken.\n",
    "    \"\"\"\n",
    "    \n",
    "    stats = RunStats(\n",
    "        algorithm=algorithm, \n",
    "        steps=np.zeros(num_episodes), \n",
    "        returns=np.zeros(num_episodes))\n",
    "    \n",
    "    algorithm_fn = globals()[algorithm]\n",
    "    \n",
    "    for i in range(num_episodes):\n",
    "        episode_steps, episode_return = algorithm_fn(**algorithm_kwargs)\n",
    "        stats.steps[i] = episode_steps\n",
    "        stats.returns[i] = episode_return\n",
    "        sys.stdout.flush()\n",
    "        print(\"\\rEpisode {}/{} Return {}\".format(\n",
    "            i + 1, num_episodes, episode_return), end=\"\")\n",
    "    return stats"
   ]
  },
  {
   "cell_type": "markdown",
   "metadata": {},
   "source": [
    "$\\textbf{Run n-step Sarsa}$"
   ]
  },
  {
   "cell_type": "code",
   "execution_count": 14,
   "metadata": {},
   "outputs": [
    {
     "name": "stdout",
     "output_type": "stream",
     "text": [
      "Episode 500/500 Return -87.00"
     ]
    },
    {
     "data": {
      "image/png": "[encoded data removed]",
      "text/plain": [
       "<Figure size 720x360 with 2 Axes>"
      ]
     },
     "metadata": {},
     "output_type": "display_data"
    },
    {
     "name": "stdout",
     "output_type": "stream",
     "text": [
      "500 episodes completed in 26.19s\n"
     ]
    }
   ],
   "source": [
    "step_size = 0.5  # Fraction of the way we want to move towards target\n",
    "n = 4  # Level of bootstrapping (set to intermediate value)\n",
    "num_episodes = 500\n",
    "\n",
    "estimator_n = QEstimator(step_size=step_size)\n",
    "\n",
    "start_time = timeit.default_timer()\n",
    "run_stats_n = run('sarsa_n', num_episodes, n=n, env=env, estimator=estimator_n)\n",
    "elapsed_time = timeit.default_timer() - start_time\n",
    "\n",
    "plot_cost_to_go(env, estimator_n)\n",
    "print('{} episodes completed in {:.2f}s'.format(num_episodes, elapsed_time))"
   ]
  },
  {
   "cell_type": "code",
   "execution_count": 15,
   "metadata": {},
   "outputs": [
    {
     "name": "stdout",
     "output_type": "stream",
     "text": [
      "Solved in 103 steps\n"
     ]
    },
    {
     "data": {
      "text/html": [
       "<video alt=\"test\" controls>\n",
       "                <source src=\"data:video/mp4;base64,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\" type=\"video/mp4\" />\n",
       "                 </video>"
      ],
      "text/plain": [
       "<IPython.core.display.HTML object>"
      ]
     },
     "execution_count": 15,
     "metadata": {},
     "output_type": "execute_result"
    }
   ],
   "source": [
    "# Animate learned policy\n",
    "save_dir='./animations/n-step_sarsa/'\n",
    "animate_greedy_policy(env, estimator_n, save_dir=save_dir)\n",
    "[filepath] = glob.glob(os.path.join(save_dir, '*.mp4'))\n",
    "display_animation(filepath)"
   ]
  },
  {
   "cell_type": "markdown",
   "metadata": {},
   "source": [
    "$\\textbf{Run Sarsa}(\\lambda)$"
   ]
  },
  {
   "cell_type": "code",
   "execution_count": null,
   "metadata": {},
   "outputs": [
    {
     "name": "stdout",
     "output_type": "stream",
     "text": [
      "Episode 113/500 Return -109.0"
     ]
    }
   ],
   "source": [
    "step_size = 0.5 # Fraction of the way we want to move towards target\n",
    "lmbda = 0.92  # Level of bootstrapping (set to intermediate value)\n",
    "num_episodes = 500\n",
    "\n",
    "estimator_lambda = QEstimator(step_size=step_size, trace=True)\n",
    "\n",
    "start_time = timeit.default_timer()\n",
    "run_stats_lambda = run('sarsa_lambda', num_episodes, lmbda=lmbda, env=env, estimator=estimator_lambda)\n",
    "elapsed_time = timeit.default_timer() - start_time\n",
    "\n",
    "plot_cost_to_go(env, estimator_lambda)\n",
    "print('{} episodes completed in {:.2f}s'.format(num_episodes, elapsed_time))"
   ]
  },
  {
   "cell_type": "code",
   "execution_count": null,
   "metadata": {},
   "outputs": [],
   "source": [
    "# Animate learned policy\n",
    "save_dir='./animations/sarsa_lambda/'\n",
    "animate_greedy_policy(env, estimator_lambda, save_dir=save_dir)\n",
    "[filepath] = glob.glob(os.path.join(save_dir, '*.mp4'))\n",
    "display_animation(filepath)"
   ]
  },
  {
   "cell_type": "markdown",
   "metadata": {},
   "source": [
    "$\\textbf{Compare Learning Curves}$"
   ]
  },
  {
   "cell_type": "code",
   "execution_count": null,
   "metadata": {},
   "outputs": [],
   "source": [
    "plot_learning_curves([run_stats_n, run_stats_lambda])"
   ]
  },
  {
   "cell_type": "markdown",
   "metadata": {},
   "source": [
    "### 3.3 &nbsp; Grid Search Comparison of n-step Sarsa and Sarsa($\\lambda$)"
   ]
  },
  {
   "cell_type": "code",
   "execution_count": null,
   "metadata": {},
   "outputs": [],
   "source": [
    "GridSearchStats = namedtuple('GridSearchStats', ['algorithm', 'steps', 'step_sizes', 'bootstrappings'])"
   ]
  },
  {
   "cell_type": "code",
   "execution_count": null,
   "metadata": {},
   "outputs": [],
   "source": [
    "def run_grid_search(algorithm, step_sizes, bootstrappings, episodes=100, num_runs=5,\n",
    "                   **algorithm_kwargs):\n",
    "    \"\"\"\n",
    "    Runs a grid search over different values of the step size\n",
    "    and boostrapping parameter (n or lambda) for the given algorithm.\n",
    "    The performance of each combination of parameters is measured \n",
    "    by the number of steps taken to complete the task, averaged\n",
    "    over the first few episodes and a number of\n",
    "    independent runs.\n",
    "    \"\"\"\n",
    "    \n",
    "    stats = GridSearchStats(\n",
    "        algorithm=algorithm, \n",
    "        steps=np.zeros((len(bootstrappings), len(step_sizes))),\n",
    "        step_sizes=step_sizes,\n",
    "        bootstrappings=bootstrappings)\n",
    "        \n",
    "    algorithm_fn = globals()[algorithm]\n",
    "    trace = True if algorithm == 'sarsa_lambda' else False\n",
    "\n",
    "    for run_idx in range(num_runs):\n",
    "        for b_idx, bootstrapping in enumerate(bootstrappings):\n",
    "            for s_idx, step_size in enumerate(step_sizes):\n",
    "                if algorithm == 'sarsa_n':\n",
    "                    if (bootstrapping == 8 and step_size > 1) or \\\n",
    "                    (bootstrapping == 16 and step_size > 0.75):\n",
    "                        # sarsa_n doesn't converge in these cases so \n",
    "                        # assign a default value and skip over.\n",
    "                        stats.steps[b_idx, s_idx] = -1 * num_runs * episodes\n",
    "                    continue\n",
    "                for episode in range(episodes):\n",
    "                    sys.stdout.flush()\n",
    "                    print('\\r run: {}, step_size: {}, bootstrapping: {}, episode: {}'.format(\n",
    "                            run_idx, step_size, bootstrapping, episode), end=\"\")\n",
    "                    episode_steps, _ = algorithm_fn(\n",
    "                        bootstrapping, estimator=estimator, **algorithm_kwargs)\n",
    "                    stats.steps[b_idx, s_idx] += episode_steps\n",
    "                    \n",
    "    \n",
    "    # Average over independent runs and episodes\n",
    "    stats.steps[:] /= (num_runs * episodes)\n",
    "   \n",
    "    return stats"
   ]
  },
  {
   "cell_type": "markdown",
   "metadata": {},
   "source": [
    "$\\textbf{Grid Search for n-step Sarsa}$"
   ]
  },
  {
   "cell_type": "code",
   "execution_count": null,
   "metadata": {},
   "outputs": [],
   "source": [
    "step_sizes = np.arange(0.1, 1.8, 0.1)\n",
    "ns = np.power(2, np.arange(0, 5))\n",
    "grid_search_stats_n = run_grid_search('sarsa_n', step_sizes, ns, env=env)\n",
    "plot_grid_search(grid_search_stats_n)"
   ]
  },
  {
   "cell_type": "markdown",
   "metadata": {},
   "source": [
    "$\\textbf{Grid Search for Sarsa}(\\lambda)$"
   ]
  },
  {
   "cell_type": "code",
   "execution_count": null,
   "metadata": {},
   "outputs": [],
   "source": [
    "step_sizes = np.arange(0.1, 1.8, 0.1)\n",
    "lambdas = np.array([0, 0.68, 0.84, 0.92, 0.98, 0.99])\n",
    "grid_search_stats_lambda = run_grid_search('sarsa_lambda', step_sizes, lambdas, env=env)\n",
    "plot_grid_search(grid_search_stats_lambda)"
   ]
  },
  {
   "cell_type": "markdown",
   "metadata": {},
   "source": [
    "## 4 &nbsp; Conclusion <a id='conclusion'></a>"
   ]
  },
  {
   "cell_type": "markdown",
   "metadata": {},
   "source": [
    "This tutorial has covered the theory and implementation of two important algorithms in RL, n-step Sarsa and Sarsa($\\lambda$). Judging by our experiments in [Part 2](#experiments), Sarsa($\\lambda$) appears to learn more efficiently than n-step Sarsa as applied to the Mountain Car task. The agent's ability to immediately learn from and respond to feedback from the environment rather than being delayed n-steps seems to pay off. \n",
    "\n",
    "By studying these two algorithms, we have covered most of the key concepts underlying on-policy model-free RL algorithms. Off-policy methods (explained at a high level in [section 1.5](#on_off_policy)) and model-based RL methods (where the agent can make predictions about how the environment will respond to its actions as opposed to learning this through experience) are also important. There are also policy gradient methods, where optimal policies are not learned via value functions, but by first parameterising the policy and then optimising it directly via stochastic gradient descent, without consulting a value function at all. Of course we also haven't covered Deep Learning RL methods (such as Deep Q-Learning). However, these are essentially just methods that replace the linear function approximator that we have used with a neural network (we can also do away with tile coding since neural networks are non-linear function approximators already). All of the above methods are covered in some detail in [Sutton and Barto](http://www.incompleteideas.net/book/bookdraft2017nov5.pdf)."
   ]
  },
  {
   "cell_type": "code",
   "execution_count": null,
   "metadata": {},
   "outputs": [],
   "source": []
  }
 ],
 "metadata": {
  "kernelspec": {
   "display_name": "Python 3",
   "language": "python",
   "name": "python3"
  },
  "language_info": {
   "codemirror_mode": {
    "name": "ipython",
    "version": 3
   },
   "file_extension": ".py",
   "mimetype": "text/x-python",
   "name": "python",
   "nbconvert_exporter": "python",
   "pygments_lexer": "ipython3",
   "version": "3.5.2"
  },
  "toc": {
   "nav_menu": {},
   "number_sections": false,
   "sideBar": true,
   "skip_h1_title": true,
   "title_cell": "Table of Contents",
   "title_sidebar": "Contents",
   "toc_cell": false,
   "toc_position": {},
   "toc_section_display": true,
   "toc_window_display": false
  }
 },
 "nbformat": 4,
 "nbformat_minor": 2
}
