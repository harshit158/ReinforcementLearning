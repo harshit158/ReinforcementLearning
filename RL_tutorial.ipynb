{
 "cells": [
  {
   "cell_type": "markdown",
   "metadata": {},
   "source": [
    "# Reinforcement Learning Tutorial: <br>Semi-gradient n-step Sarsa and Sarsa($\\lambda$)<br>Theory and Implementation"
   ]
  },
  {
   "cell_type": "markdown",
   "metadata": {},
   "source": [
    "Reinforcement Learning (RL) is an exciting area of A.I that offers something entirely different to supervised or unsupervised techniques. In RL, an 'agent' learns to interact with an environment in a way that maximises the reward it receives with respect to some task. RL is distinct from supervised learning, which specifies via labelled examples the correct way for a system to act in every situation (whereas in RL only the end goal is specified, but not how to achieve it). It is also distinct from unsupervised learning, which although not dependent on examples of correct behaviour either, is concerned with finding hidden structure in unlabelled data rather than maximising reward signals.\n",
    "\n",
    "This tutorial focuses on two important and widely used RL algorithms, semi-gradient n-step Sarsa and Sarsa($\\lambda$), as applied to the Mountain Car problem. These algorithms, aside from being useful, pull together a lot of the key concepts in RL and so provide a great way to learn about RL more generally. Value functions, policy iteration, on vs off-policy control, bootstrapping, tabular vs approximate solution methods, state featurization and eligibility traces can all be understood by studying these two algorithms.\n",
    "\n",
    "[Part 1](#theory) of the tutorial summarises the key theoretical concepts in RL that n-step Sarsa and Sarsa($\\lambda$) draw upon. [Part 2](#implementation) implements each algorithm and its associated dependencies. [Part 3](#experiments) compares the performance of each algorithm through a number of simulations. [Part 4](#conclusion) wraps up and provides direction for further study.\n",
    "\n",
    "The two main resources I drew upon to make this tutorial were [Sutton and Barto's Introduction to Reinforcement Learning](http://www.incompleteideas.net/book/bookdraft2017nov5.pdf) (imges were also taken from here) and [Denny Britz's excellent implementations](https://github.com/dennybritz/reinforcement-learning) of some of the algorithms therein. The implementation for the [Mountain Car environment](https://gym.openai.com/envs/MountainCarContinuous-v0/) was imported from the OpenAI Gym, and the tile coding software used for state featurization was also from Sutton and Barto, installed from [here](http://incompleteideas.net/tiles/tiles3.html)."
   ]
  },
  {
   "cell_type": "markdown",
   "metadata": {},
   "source": [
    "## 1 &nbsp; Theory <a id='theory'></a>"
   ]
  },
  {
   "cell_type": "markdown",
   "metadata": {},
   "source": [
    "We first cover the key concepts in RL that n-step Sarsa and Sarsa($\\lambda$) draw upon."
   ]
  },
  {
   "cell_type": "markdown",
   "metadata": {},
   "source": [
    "### 1.1 &nbsp; Value Functions <a id='value_functions'></a>"
   ]
  },
  {
   "cell_type": "markdown",
   "metadata": {},
   "source": [
    "Nearly all reinforcement learning algorithms involve estimating value functions, functions of states (or state-actions) that quantify how good it is for an agent to be in a particular state (or state-action pair), where 'good' is defined in terms of the rewards expected to follow from that state (or state-action pair) in the future. The rewards that can be expected depend on which actions will be taken, and so value functions must be defined with respect to particular policies $\\pi(a | s)$, which map from states to actions.\n",
    "\n",
    "Formally, the state-value of $s$ under policy $\\pi$ is defined as the expected $\\textit{return}$ $G_t = \\sum_0^\\infty \\gamma^k R_{t+k+1}$ when starting from $S_t$ and following $\\pi$ thereafter: \n",
    "\n",
    "$$v_\\pi(s) = \\mathbb{E}_\\pi[G_t | S_t = s]$$ \n",
    "\n",
    "$R_t$ is the reward received at time step $t$ and $\\gamma$ is the discount rate, $ 0 \\leq \\gamma \\leq 1$, which controls the relative weighting between near and far-sighted rewards, and ensures that the sum is finite for continuing tasks (i.e. those that don't naturally break down into terminating episodes).\n",
    "\n",
    "Similarly, the action-value (a.k.a q-value) of (s, a) under policy $\\pi$ is defined as the expected return when taking action $a$ in state $s$ and following policy $\\pi$ thereafter: \n",
    "\n",
    "$$q_\\pi(s, a) = \\mathbb{E}_\\pi[G_t | S_t = s, A_t = a]$$"
   ]
  },
  {
   "cell_type": "markdown",
   "metadata": {},
   "source": [
    "### 1.2 &nbsp; Policy Evaluation and the Prediction Problem <a id='policy_evaluation'></a>"
   ]
  },
  {
   "cell_type": "markdown",
   "metadata": {},
   "source": [
    "If we have a model of the environment's transition dynamics  $p(s′,r|s,a)$ , i.e the probabilities of which states and actions lead to which next states and rewards, then the value functions can be computed analytically. However, most of the time the dynamics are not known and the value functions must instead be estimated from actual sample experience, giving rise to $V(S_t) \\approx v_\\pi(S_t)$ and $Q(S_t, A_t) \\approx q_\\pi(S_t, A_t)$. The general approach to computing these estimations is to have the agent follow $\\pi$ and maintain for each state (or state-action) a running average of the returns that follow. This boils down to iterating over an update rule with the following general form:\n",
    "\n",
    "$$NewEstimate \\gets OldEstimate + \\alpha\\ [Target - OldEstimate]$$\n",
    "\n",
    "$Target$ is just the return from the current state (or state-action). This could be the actual return $G_t$, or some estimation of it (as we shall see below). The name $Target$ is appropriate since it indicates the desirable direction in which to move. $\\alpha$ then indicates by how much to move in this direction. For an equally weighted average we would choose $\\alpha=1/n$, where $n$ is the number of times the given state (or state-action) has been visited so far. However, most reinforcement learning problems are non-stationary, meaning that the true state and state-action values change over time as the policy changes towards an optimal one (see below). In this case it makes more sense to give more weight to recent returns than long-past returns, which can be achieved by holding $\\alpha$ constant. The task of making the value estimates consistent with the current policy being followed is called the Prediction Problem."
   ]
  },
  {
   "cell_type": "markdown",
   "metadata": {},
   "source": [
    "### 1.3 &nbsp; Policy Improvement"
   ]
  },
  {
   "cell_type": "markdown",
   "metadata": {},
   "source": [
    "Policy evaluation is concerned with making the state or action-values consistent with the current policy being followed. Policy improvement is concerned with adjusting the current policy to one that when followed leads to a higher return. \n",
    "\n",
    "Policy improvement requires an estimate of the action-value function $Q(S_t, A_t) \\approx q_\\pi(S_t, A_t)$ as opposed to an estimate of the state-value function $V(S_t) \\approx v_\\pi(S_t)$, assuming the environments transition dynamics are not known. This is because whilst $V(S_t)$ tells you which states have the highest values, it does not tell you which actions lead to which states (we can't look ahead). $Q(S_t, A_t)$, however, directly caches the value of taking a particular action in a particular state, and so it isn't necessary to look ahead to where that action leads in order to determine its value.\n",
    "\n",
    "Suppose then that we have determined a good approximation $Q$ to the action-value function $q_\\pi$ for an arbitrary policy $\\pi$ via policy evaluation. We can improve on this policy simply by selecting at each state $s$ the action that appears best according to $Q(s, a)$ i.e. by switching to a new policy $\\pi^\\prime$ that is 'greedy' with respect to $Q(s, a)$. The new greedy policy $\\pi^\\prime$ is guaranteed to be better than the original policy $\\pi$ for all $s$ and $a$."
   ]
  },
  {
   "cell_type": "markdown",
   "metadata": {},
   "source": [
    "### 1.4 &nbsp; Policy iteration and the Control Problem"
   ]
  },
  {
   "cell_type": "markdown",
   "metadata": {},
   "source": [
    "Once a policy has been improved using $Q(S_t, A_t) \\approx  q_\\pi(S_t, A_t)$ to yield a better policy $\\pi^\\prime$, we can then evaluate this new policy to find $Q(S_t, A_t) \\approx  q_{\\pi^\\prime}(S_t, A_t)$, before improving it once again to yield an even better policy $\\pi^{\\prime \\prime}$. By alternating these two processes, policy improvement and policy evaluation, we achieve a sequence of monotonically improving policies and value functions that converge towards the optimal policy and value function, $\\pi_*$ and $q_*$. This is called policy iteration. \n",
    "\n",
    "In policy iteration, each process completes before the other begins. This is not necessary and can slow down learning. Generalized policy iteration (GPI) refers to the general idea of letting the policy improvement and evaluation processes interact at an arbitrary level of granularity. For example, policy evaluation could be truncated after a single sweep of the state set, or when the task is episodic, after just a single episode, before performing a step of policy improvement. The latter is the approach we take in the implementations of this tutorial. The task of learning optimal policies in general is called the Control Problem.\n",
    "\n",
    "\n",
    "<center><img src=\"images/policy_iteration.png\" width=\"180\"></center>"
   ]
  },
  {
   "cell_type": "markdown",
   "metadata": {},
   "source": [
    "### 1.5 &nbsp; On Policy vs Off-Policy Control <a id='on_off_policy'></a>"
   ]
  },
  {
   "cell_type": "markdown",
   "metadata": {},
   "source": [
    "Policy iteration is only guaranteed to converge if each action is selected infinitely often in the limit. This will not be the case in the approach described above, since by always making the policy greedy with the current action-value function, we prevent exploration of the non-greedy actions. This problem can be mitigated if exploring starts are enforced, where each state has a non-zero probability of being selected to start the episode. However, for most practical situations where episodes are simulated from real experience, this is an unlikely assumption to make.\n",
    "\n",
    "There are two other approaches to ensuring that all actions continue to be selected: on-policy and off-policy methods. In on-policy methods, \n",
    "we continually make the policy $\\epsilon$-greedy w.r.t the current value function rather than deterministically greedy. This means that most of the time the maximising action is selected, but with probability $\\epsilon$ it selects an action at random. Convergence is guaranteed, since all actions continue to be selected. However, convergence is not actually towards the optimal (greedy) policy, but rather to a nearby one that still explores. \n",
    "\n",
    "In off-policy methods we avoid the compromise of learning a policy that is only near-optimal by leveraging two separate policies, one that is continually made greedy w.r.t the current value function and so becomes the optimal policy (a.k.a the target policy), and another that is more exploratory and used to generate sample experience (a.k.a the behaviour policy). Importance sampling is the mechanism that allows us to learn about the target policy using data generated by the behaviour policy; we don't go into detail about this, since the examples in this tutorial use on-policy methods."
   ]
  },
  {
   "cell_type": "markdown",
   "metadata": {},
   "source": [
    "### 1.6 &nbsp; Tabular Solution Methods <a id='tabular_methods'></a>"
   ]
  },
  {
   "cell_type": "markdown",
   "metadata": {},
   "source": [
    "Here we describe the core model-free methods for learning optimal policies and value functions when the state and action spaces are small enough for us to learn distinct values for each and every state (or state-action). In this setting the value functions can be represented as arrays, or tables, which is why these methods are called tabular solution methods. These methods are distinguished only by the target used in the [update rule](#policy_evaluation) above, and so this is what we focus the discussion on.  "
   ]
  },
  {
   "cell_type": "markdown",
   "metadata": {},
   "source": [
    "#### 1.6.1 &nbsp; Monte Carlo (MC) Methods"
   ]
  },
  {
   "cell_type": "markdown",
   "metadata": {},
   "source": [
    "The target formed in Monte Carlo methods is simply $G_t$, the complete sample return. The MC update for state-values is therefore:\n",
    "\n",
    "$$ V(S_t) \\gets V(S_t) + \\alpha[G_t - V(S_t)]$$\n",
    "\n",
    "Since each $G_t$ is an unbiased estimator of $v_\\pi(s)$, i.e. $\\mathbb{E}[G_t | S_t = s] = v_\\pi(S_t)$, the average of these returns will converge in the long run to $v_\\pi(s)$. However, since the selection of actions in an episode is stochastic, there will be a high variance amongst the returns. Also, because $G_t$ is only available at the end of an episode, we must wait until then before we can make an update (i.e. updates are 'off-line'). Both of these things can result in slow learning.\n",
    "\n",
    "For action-values we simply switch $V(S_t)$ for $Q(S_t, A_t)$ in the update rule:\n",
    "\n",
    "$$ Q(S_t, A_t) \\gets Q(S_t, A_t) + \\alpha[G_t - Q(S_t, A_t)]$$"
   ]
  },
  {
   "cell_type": "markdown",
   "metadata": {},
   "source": [
    "#### 1.6.2 &nbsp; One-step Temporal Difference (TD) Methods"
   ]
  },
  {
   "cell_type": "markdown",
   "metadata": {},
   "source": [
    "The target formed in one-step TD methods is the truncated return $G_{t:t+1} = R_{t+1} + V(S_{t+1})$. In other words, $G_{t:t+1}$ is a re-estimation of the value of the current state made at the $\\textit{next}$ timestep $t+1$ (hence the name 'temporal difference'). The one-step TD update for state-values is thus:\n",
    "\n",
    "$$ V(S_t) \\gets V(S_t) + \\alpha[G_{t:t+1} - V(S_t)]$$\n",
    "\n",
    "Whilst the MC target was an unbiased estimate of $v_\\pi(S_t)$, this time it is biased, due to its dependence on the estimate $V(S_{t+1})$. Basing an estimate off of other estimates like this is called 'bootstrapping'. The payoff we get for introducing bias is lower variance, since the target only depends on one stochastic action selection. Also, whilst the MC target was only available at the end of the episode, this time it is available at $t+1$, since it only depends on the next state and reward. TD updates can therefore be performed 'on-line' (during an episode) which can result in faster learning (our value estimates are better sooner, enabling our agent to more immediately exploit anything that has changed).\n",
    "\n",
    "The fact that TD converges implies that the estimates of $v_\\pi(s)$ made at future time steps are better than those made at the current time step. This makes intuitive sense: if I asked you to estimate the length of your commute home as you got in the car, your re-estimate of that value once you've seen how much traffic there is on the motorway is likely to be more accurate.\n",
    "\n",
    "Once again for action-values we simply switch the $V$s for $Q$s in the update rule:\n",
    "\n",
    "$$ Q(S_t, A_t) \\gets Q(S_t, A_t) + \\alpha[G_{t:t+1} - Q(S_t, A_t)] $$\n",
    "\n",
    "with $G_{t:t+1} = R_{t+1} + Q(S_{t+1}, A_{t+1})$. This action-value update depends on every element of the quintuple of events $(S_t, A_t, R_{t+1}, S_{t+1}, A_{t+1})$, and so is referred to by the name one-step $\\textit{Sarsa}$. "
   ]
  },
  {
   "cell_type": "markdown",
   "metadata": {},
   "source": [
    "#### 1.6.3 &nbsp; n-step TD Methods"
   ]
  },
  {
   "cell_type": "markdown",
   "metadata": {},
   "source": [
    "n-step TD methods generalize one-step TD presented above. Whilst one-step TD methods use the target $G_{t:t+1} = R_{t+1} + V(S_{t+1})$, n-step TD methods use the target $G_{t:t+n} = R_{t+1} + \\gamma R_{t+2} + \\ldots + \\gamma^{n-1} R_{t+n} + \\gamma^n V_{t+n-1}(S_{t+n})$. In other words, one-step TD updates bootstrap from $V(S_{t+1})$, whilst n-step updates bootstrap from $V(S_{t+n})$. The n-step TD update for state-values is therefore:\n",
    "\n",
    "$$ V(S_t) \\gets V(S_t) + \\alpha[G_{t:t+n} - V(S_t)]$$\n",
    "\n",
    "As usual we arrive at the corresponding update for action-values by swapping the $V$s for $Q$s:\n",
    "\n",
    "$$ Q(S_t, A_t) \\gets Q(S_t, A_t) + \\alpha[G_{t:t+n} - Q(S_t, A_t)],$$\n",
    "\n",
    "with $G_{t:t+n} = R_{t+1} + \\gamma R_{t+2} + \\ldots + \\gamma^{n-1} R_{t+n} + \\gamma^n Q_{t+n-1}(S_{t+n}, A_{t+n})$. This action-value form is called n-step Sarsa, by analogy with one-step Sarsa above. \n",
    "\n",
    "n-step TD methods span a spectrum with one-step TD at one end (n=1) and MC at the other (n equal to the number of steps in the episode). Increasing n reduces the bias of the estimator (moving us closer towards the unbiased estimates of MC) but increases the variance, as well as the time we have to wait before we can make an update. Often intermediate values of n are are the most effective."
   ]
  },
  {
   "cell_type": "markdown",
   "metadata": {},
   "source": [
    "### 1.7 &nbsp; Approximate Solution Methods"
   ]
  },
  {
   "cell_type": "markdown",
   "metadata": {},
   "source": [
    "If there are very many states then it becomes impractical, both in terms of memory and time, to find accurate estimates of all states (or state-actions) like tabular methods. Instead we maintain our value function estimates as parameterized functions, $\\hat{v}(s, \\mathbf{w})$ and $\\hat{q}(s, a, \\mathbf{w})$, where $\\mathbf{w} \\in \\mathbb{R}^d$ is the weight vector, whose dimensionality $d$ is much less than the number of states. $\\mathbf{w}$ is learned via an update rule, in the same way that individual states and state-actions are in tabular methods. Because an update to the weight vector affects the values of many different states (and state-actions), approximate solution methods have the ability to generalise to previously unseen states (and state-actions)."
   ]
  },
  {
   "cell_type": "markdown",
   "metadata": {},
   "source": [
    "#### 1.7.1 &nbsp; Update Rule for Approximate Solution Methods <a id='approximate_update'></a>"
   ]
  },
  {
   "cell_type": "markdown",
   "metadata": {},
   "source": [
    "We borrow from supervised learning methodology in order to formulate the update rule for $\\mathbf{w}$, and thus learn the parameterised value functions $\\hat{v}(s, \\mathbf{w})$ and $\\hat{q}(s, a, \\mathbf{w})$. If we denote the update rule for state-values as $S_t \\to U_t$, where $S_t$ is the state whose value is to be updated and $U_t$ is a target that doesn't depend on $\\mathbf{w}$, then we can interpret $(S_t, U_t)$ as an input-output training example for $\\hat{v}$. If we use the mean squared error to represent prediction error for this example, $[U_t - \\hat{v}(S_t, \\mathbf{w})]^2$, then we can perform the weight vector update via stochastic gradient descent (SGD):\n",
    "\n",
    "$$\\begin{aligned} \n",
    "\\mathbf{w}_{t+1} &= \\mathbf{w}_t - \\frac{1}{2} \\alpha \\nabla \\left[U_t - \\hat{v}(S_t, \\mathbf{w}_t) \\right]^2 \\\\\n",
    "&= \\mathbf{w}_t + \\alpha \\left[U_t - \\hat{v}(S_t, \\mathbf{w}_t) \\right] \\nabla \\hat{v}(S_t, \\mathbf{w}_t)\n",
    "\\end{aligned}$$\n",
    "\n",
    "We arrive at the corresponding update step for action-values by substituting the $\\hat{v}$s for $\\hat{q}$s. "
   ]
  },
  {
   "cell_type": "markdown",
   "metadata": {},
   "source": [
    "#### 1.7.2 &nbsp; Gradient and Semi-gradient methods"
   ]
  },
  {
   "cell_type": "markdown",
   "metadata": {},
   "source": [
    "Each of the [tabular solution methods](#tabular_methods) has an approximate solution version that use the [gradient update rule](#approximate_update) above. Once again, these methods are distinguished by the target $U_t$ used. \n",
    "\n",
    "For example, the target for the approximate MC method is simply $U_t=G_t$, giving rise to 'Gradient MC' methods. The target for the approximate n-step TD method is $U_t=G_{t:t+n}$ (and similarly for n-step Sarsa). However, this bootstrapping target depends on the current value of $\\mathbf{w}$, which breaks the key assumption of the gradient update rule above. Methods that use this update are therefore called 'Semi-gradient' methods, since they ignore part of the gradient. Convergence is nonetheless assured in certain cases, for example when a linear value function approximator is used ([see below](#linear_approximation))."
   ]
  },
  {
   "cell_type": "markdown",
   "metadata": {},
   "source": [
    "#### 1.7.3 &nbsp; Semi-gradient TD($\\lambda$)"
   ]
  },
  {
   "cell_type": "markdown",
   "metadata": {},
   "source": [
    "Gradient MC and Semi-gradient n-step TD directly parallel their tabular counterparts. However, function approximation techniques also allow us to introduce something new, TD($\\lambda$). This method is a bit more subtle than those we have already met, and so requires a bit more explanation.\n",
    "\n",
    "MC and n-step TD methods takes a forward-view: values of states are updated by looking ahead to the values of future states. This works well, but means that the target is not actually available until $n$ steps into the future. This means that the updates are not equally distributed in time: our first update is delayed by $n$ steps from the start of an episode, and this leaves us $n$ updates to catch up after the episode has finished. Additionally, in order to perform each update we must maintain a store of the last $n$ feature vectors (and rewards), which comes with computational cost.\n",
    "\n",
    "TD($\\lambda$) converts these forward view methods into backward-view versions. The mechanism for this is a short-term memory vector, the eligibility trace $\\mathbf{z}_t \\in \\mathbb{R}^d$, that parallels the long-term weight vector $\\mathbf{w} \\in \\mathbb{R}^d$, keeping track of  which components of $\\mathbf{w}$ have contributed to recent state valuations. \n",
    "\n",
    "$$\\begin{align} &\\mathbf{z}_{-1} = \\mathbf{0} \\\\\n",
    " &\\mathbf{z}_t = \\gamma \\lambda \\mathbf{z}_{t-1} + \\nabla \\hat{v}(S_t, \\mathbf{w}_t), \\quad 0 \\leq t \\leq T,\\end{align}$$\n",
    " \n",
    "where $\\gamma$ is the usual discount rate, $\\lambda \\in [0, 1]$, and the product of these two quantities defines the concept of 'recent' in the description above.\n",
    "\n",
    "The trace indicates which components of $\\mathbf{w}$ deserve most credit for the error at the current state, where error is defined by the moment-by-moment one-step TD error, $\\delta_t = G_{t:t+1} - \\hat{v}(S_t, \\mathbf{w}_t)$. Components of $\\mathbf{w}$ that have contributed most recently, or most frequently to preceding state valuations are assigned the most credit, and are said to be the most 'eligible' for an update. Concretely, each component of $\\mathbf{w}$ is updated in proportion to the scalar TD error and it's corresponding component in the vector eligibility trace.\n",
    "\n",
    "$$\\mathbf{w}_{t+1} = \\mathbf{w}_t + \\alpha \\delta_t \\mathbf{z}_t. $$\n",
    "\n",
    "In forward view n-step TD we can imagine the agent moving through state space with a telescope, looking ahead to future rewards and states in order to evaluate the currently visited state. In the backward view TD($\\lambda$), we can imagine the same agent moving through state space with a blindfold, computing the TD error at each state visited, and shouting this back to previously visited states. \n",
    "\n",
    "When $\\lambda = 0$ the trace is exactly the state-value gradient for $S_t$, and the update for $\\mathbf{w}$ reduces to the one-step semi-gradient TD update. When $\\lambda = 1$ the trace decays only according to $\\gamma$ and, although this is not as trivial to see, the update reduces to the MC Gradient update. Intermediate values of $\\lambda$ represent intermediate levels of bootstrapping between these two extremes, just as intermediate values of $n$ represent intermediate levels of bootstrapping in the n-step TD algorithm.\n",
    "\n",
    "In fact it can be shown that the TD($\\lambda$) is exactly equivalent to n-step TD, but with the n-step return $G_{t:t+n}$ replaced by a compound return composed of a weighted average of $\\textit{all}$ the n-step returns, each weighted proportional to\n",
    "$\\lambda^{n-1}$ (the same $\\lambda$ as above) and normalised by a factor of $1-\\lambda$ to ensure that the weights sum to $1$. This is called the $\\lambda$-return, $G_t^\\lambda$.\n",
    "\n",
    "$$ G_t^\\lambda = (1 - \\lambda) \\sum_{n=1}^\\infty \\lambda^{n-1}G_{t:t+n}. $$\n",
    "\n",
    "This equivalence can be seen easily for the cases $\\lambda = 0$ and $\\lambda = 1$. In the former case $G_t^\\lambda$ reduces to $G_{t:t+1}$, the one-step TD return, and in the latter it reduces to $G_t$, the complete MC return, which is consistent with the behaviour of TD($\\lambda$) above.\n",
    "\n",
    "The advantages of eligibilty traces over n-step methods are clear. Updates are now performed continually and uniformly in time rather than being delayed $n$ steps and then catching up at the end of the episode (note that for the $\\lambda$-return we would actually have to wait all the way until the end of the episode to make the first update since only then is the longest of its component returns available). This means that learning can occur and affect behaviour immediately after a state is encountered rather than being delayed $n$ steps. Additionally, now only a single trace vector needs storing rather than the last n feature vectors.\n",
    "\n",
    "The formulation we have used for the eligibility trace is called the accumulating trace: each time a state is visited the corresponding components of $\\mathbf{z}$ are bumped up, decaying away between visits. Another kind of trace is called the replacing trace, which resets the components back to $1$ on each state visit rather than growing them any further (i.e. the frequency with which components of $\\mathbf{w}$ have contributed to recent state valuations is dropped as a measure of eligibility).\n",
    "\n",
    "Of course the concept of eligibility traces works for action-value function approximation methods too. As usual all that is required is to swap $\\hat{v}$s for $\\hat{q}$s in the discussion above. The resulting methods are called Sarsa($\\lambda$) methods."
   ]
  },
  {
   "cell_type": "markdown",
   "metadata": {},
   "source": [
    "#### 1.7.4 &nbsp; Linear Value Function Approximation <a id='linear_approximation'></a>"
   ]
  },
  {
   "cell_type": "markdown",
   "metadata": {},
   "source": [
    "An important special case of value function approximation (which can be applied to all the gradient and semi-gradient methods we have encountered so far) is that for which $\\hat{v}(s, \\mathbf{w})$ is a linear function of $\\mathbf{w}$:\n",
    "\n",
    "$$ \\hat{v}(s, \\mathbf{w}) = \\mathbf{w}^\\top \\mathbf{x}(s) = \\sum_i^d w_i x_i(s). $$\n",
    "\n",
    "$\\mathbf{x}(s)$ here is a featurized representation of $s$, of the same dimensions as $\\mathbf{w}$ ([see below](#feature_construction)). The gradient of the approximate value function with respect to $\\mathbf{w}$ in this linear case is simply $\\nabla \\hat{v}(s, \\mathbf{w}) = \\mathbf{x}(s)$, which reduces the SGD weight vector update to:\n",
    "\n",
    "$$ \\mathbf{w}_{t+1} = \\mathbf{w}_t + \\alpha \\left[U_t - \\hat{v}(S_t, \\mathbf{w}_t) \\right] \\mathbf{x}(S_t). $$\n",
    "\n",
    "For action-values, the $\\hat{v}$s are replaced with $\\hat{q}$s, and $\\mathbf{x}(s)$ becomes $\\mathbf{x}(s, a)$, the featurized representation of the state-action pair $(s, a)$. "
   ]
  },
  {
   "cell_type": "markdown",
   "metadata": {},
   "source": [
    "#### 1.7.5 &nbsp; Feature Construction for Linear Methods <a id='feature_construction'></a>"
   ]
  },
  {
   "cell_type": "markdown",
   "metadata": {},
   "source": [
    "Suppose our states $s$ have two numerical dimensions, or features, $s_1$ and $s_2$. For example, $s_1$ could be position and $s_2$ velocity, as is the case with the Mountain Car task that we consider in part 2 of this tutorial. The most natural 'featurization' for $s$ would be $\\mathbf{x} = (s_1, s_2)^\\top$.\n",
    "\n",
    "A limitation of the linear value function approximator is that it can't take into account interactions between features, such as a high value for $s_1$ only being good in the presence of a positive value for $s_2$ in the example above. The only way to model such interdependencies would be to include in the featurization of $s$ features that combine $s_1$ and $s_2$. For example, we could use a polynomial featurization such as $\\mathbf{x}(s) = (1, s_1, s_2, s_1s_2, s_1s_2^2, s_1^2s_2, s_1^2s_2^2)^\\top$.\n",
    "\n",
    "Tile coding is another way to construct features that is more flexible and scalable than polynomial featurization. In tile coding, the state space is covered by multiple tilings, with each tiling composed of multiple tiles. The tilings are offset from one another by a fraction of the tile width. The state featurization $\\mathbf{x}(s)$ has one feature for each tile in each tiling, so if there are $n$ tilings and $k \\times k$ tiles in each tiling, $\\mathbf{x}(s) \\in \\mathbb{R}^{n \\times k \\times k}$. A particular feature is $1$ (active) if the state falls within the corresponding tile and $0$ (inactive) otherwise. Since every position in state space falls in exactly one tile in each of the $n$ tilings, there are always $n$ active features in $\\mathbf{x}(s)$. \n",
    "\n",
    "\n",
    "<center><img src=\"images/tile_coding.png\" width=\"600\"></center>\n",
    "\n",
    "A nice side-effect of the above is that the learning rate $\\alpha$ in the [gradient update rule](#linear_approximation) can be set in an intuitive way. In particular, if $\\alpha=\\frac{1}{n}$, then the new estimate $\\hat{v}(s, \\mathbf{w}_{t+1}) = U_t$, regardless of the prior estimate $\\hat{v}(s, \\mathbf{w}_{t+1})$ (this follows from both the form of the gradient update rule as well as the form of $\\hat{v}(s, \\mathbf{w})$). Usually we only want to move some fraction ${x}$ of the way to the target $U_t$, which can be achieved by setting $\\alpha=\\frac{x}{n}$ instead. \n",
    "\n",
    "Tile coding ensures generalization because if we train at one state $s$, a single point in state space, then the weights associated with all ($n$) tiles covering $s$ will be updated. In turn, the approximate value function for all states within the union of these active tiles will change, proportional to the number of tiles they have in common. The shape and offset of the tiles will affect the type of generalization. For example, if the tiles are elongated along a particular dimension in state space, then generalization will extend further to states along this dimension. The number and size of the tiles will determine the finest level of discrimination possible between states - how far you have to move in state space in order to change at least one component of the featurization. \n",
    "\n",
    "Because tile coding uses binary features, the approximate value function $\\hat{v}(s, \\mathbf{w})$ in the linear case is almost trivial to compute:\n",
    "\n",
    "$$ \\hat{v}(s, \\mathbf{w}) = \\mathbf{w}^\\top \\mathbf{x}(s) = \\sum_i^d w_i x_i(s) \\equiv \\sum_{i \\in \\{x_i = 1\\}}w_i$$ \n",
    "\n",
    "In order to compute the approximate action-value function $\\hat{q}(s, a, \\mathbf{w})$, we simply need to replace $\\mathbf{x}(s)$ by $\\mathbf{x}(s, a)$. The latter can be computed by making the tilings cover the whole state-action space as opposed to just the state-space."
   ]
  },
  {
   "cell_type": "markdown",
   "metadata": {},
   "source": [
    "## &nbsp; 2 Implementation <a id='implementation'></a>"
   ]
  },
  {
   "cell_type": "markdown",
   "metadata": {},
   "source": [
    "We now implement n-step Sarsa and Sarsa($\\lambda$) and their associated dependencies. These implementations should be well understood by studying [Part 1](#theory) above; comments have been added to steps that may require extra explanation."
   ]
  },
  {
   "cell_type": "code",
   "execution_count": 1,
   "metadata": {},
   "outputs": [],
   "source": [
    "%matplotlib inline\n",
    "\n",
    "import gym\n",
    "import itertools\n",
    "import matplotlib\n",
    "import numpy as np\n",
    "import pandas as pd\n",
    "import sys\n",
    "import time\n",
    "import timeit\n",
    "from collections import namedtuple\n",
    "import os\n",
    "import glob\n",
    "\n",
    "from lib.tile_coding import IHT, tiles\n",
    "from matplotlib import pyplot as plt\n",
    "from matplotlib import cm\n",
    "matplotlib.style.use('ggplot')\n",
    "\n",
    "import io\n",
    "import base64\n",
    "from IPython.display import HTML"
   ]
  },
  {
   "cell_type": "code",
   "execution_count": 2,
   "metadata": {},
   "outputs": [
    {
     "name": "stdout",
     "output_type": "stream",
     "text": [
      "\u001b[33mWARN: gym.spaces.Box autodetected dtype as <class 'numpy.float32'>. Please provide explicit dtype.\u001b[0m\n"
     ]
    }
   ],
   "source": [
    "env = gym.make(\"MountainCar-v0\")\n",
    "env._max_episode_steps = 3000  # Increase upper time limit so we can plot full behaviour."
   ]
  },
  {
   "cell_type": "code",
   "execution_count": 3,
   "metadata": {},
   "outputs": [],
   "source": [
    "class QEstimator():\n",
    "    \"\"\"\n",
    "    Linear action-value (q-value) function approximator for \n",
    "    semi-gradient methods with state-action featurization via tile coding. \n",
    "    \"\"\"\n",
    "    \n",
    "    def __init__(self, step_size, num_tilings=8, max_size=4096, tiling_dim=None, trace=False):\n",
    "        \n",
    "        self.trace = trace\n",
    "        self.max_size = max_size\n",
    "        self.num_tilings = num_tilings\n",
    "        self.tiling_dim = tiling_dim or num_tilings\n",
    "\n",
    "        # Step size is interpreted as the fraction of the way we want \n",
    "        # to move towards the target. To compute the learning rate alpha,\n",
    "        # scale by number of tilings. \n",
    "        self.alpha = step_size / num_tilings\n",
    "\n",
    "        # Initialize index hash table (IHT) for tile coding.\n",
    "        # This assigns a unique index to each tile up to max_size tiles.\n",
    "        # Ensure max_size >= total number of tiles (num_tilings x tiling_dim x tiling_dim)\n",
    "        # to ensure no duplicates.\n",
    "        self.iht = IHT(max_size)\n",
    "\n",
    "        # Initialize weights (and optional trace)\n",
    "        self.weights = np.zeros(max_size)\n",
    "        if self.trace:\n",
    "            self.z = np.zeros(max_size)\n",
    "\n",
    "        # Tilecoding software partitions at integer boundaries, so must rescale\n",
    "        # position and velocity space to span tiling_dim x tiling_dim region.\n",
    "        self.position_scale = self.tiling_dim / (env.observation_space.high[0] \\\n",
    "                                                  - env.observation_space.low[0])\n",
    "        self.velocity_scale = self.tiling_dim / (env.observation_space.high[1] \\\n",
    "                                                  - env.observation_space.low[1])\n",
    "        \n",
    "    def featurize_state_action(self, state, action):\n",
    "        \"\"\"\n",
    "        Returns the featurized representation for a \n",
    "        state-action pair.\n",
    "        \"\"\"\n",
    "        featurized = tiles(self.iht, self.num_tilings, \n",
    "                           [self.position_scale * state[0], \n",
    "                            self.velocity_scale * state[1]], \n",
    "                           [action])\n",
    "        return featurized\n",
    "    \n",
    "    def predict(self, s, a=None):\n",
    "        \"\"\"\n",
    "        Predicts q-value(s) using linear FA.\n",
    "        If action a is given then returns prediction\n",
    "        for single state-action pair (s, a).\n",
    "        Otherwise returns predictions for all actions \n",
    "        in environment paired with s.   \n",
    "        \"\"\"\n",
    "    \n",
    "        if a is None:\n",
    "            features = [self.featurize_state_action(s, i) for \n",
    "                        i in range(env.action_space.n)]\n",
    "        else:\n",
    "            features = [self.featurize_state_action(s, a)]\n",
    "            \n",
    "        return [np.sum(self.weights[f]) for f in features]\n",
    "        \n",
    "            \n",
    "    def update(self, s, a, target):\n",
    "        \"\"\"\n",
    "        Updates the estimator parameters\n",
    "        for a given state and action towards\n",
    "        the target using the gradient update rule \n",
    "        (and the eligibility trace if one has been set).\n",
    "        \"\"\"\n",
    "        features = self.featurize_state_action(s, a)\n",
    "        estimation = np.sum(self.weights[features])  # Linear FA\n",
    "        delta = (target - estimation)\n",
    "        \n",
    "        if self.trace:\n",
    "            # self.z[features] += 1  # Accumulating trace\n",
    "            self.z[features] = 1  # Replacing trace\n",
    "            self.weights += self.alpha * delta * self.z\n",
    "        else:\n",
    "            self.weights[features] += self.alpha * delta\n",
    "                \n",
    "    \n",
    "    def reset(self, z_only=False):\n",
    "        \"\"\"\n",
    "        Resets the eligibility trace (must be done at \n",
    "        the start of every epoch) and optionally the\n",
    "        weight vector (if we want to restart training\n",
    "        from scratch).\n",
    "        \"\"\"\n",
    "        \n",
    "        if z_only:\n",
    "            assert self.trace, 'q-value estimator has no z to reset.'\n",
    "            self.z = np.zeros(self.max_size)\n",
    "        else:\n",
    "            if self.trace:\n",
    "                self.z = np.zeros(self.max_size)\n",
    "            self.weights = np.zeros(self.max_size)\n",
    "        "
   ]
  },
  {
   "cell_type": "code",
   "execution_count": 4,
   "metadata": {},
   "outputs": [],
   "source": [
    "def make_epsilon_greedy_policy(estimator, epsilon, num_actions):\n",
    "    \"\"\"\n",
    "    Creates an epsilon-greedy policy based on a \n",
    "    given q-value approximator and epsilon.    \n",
    "    \"\"\"\n",
    "    def policy_fn(observation):\n",
    "        action_probs = np.ones(num_actions, dtype=float) * epsilon / num_actions\n",
    "        q_values = estimator.predict(observation)\n",
    "        best_action_idx = np.argmax(q_values)\n",
    "        action_probs[best_action_idx] += (1.0 - epsilon)\n",
    "        return action_probs\n",
    "    return policy_fn"
   ]
  },
  {
   "cell_type": "code",
   "execution_count": 5,
   "metadata": {},
   "outputs": [],
   "source": [
    "def sarsa_n(n, env, estimator, gamma=1.0, epsilon=0):\n",
    "    \"\"\"\n",
    "    n-step semi-gradient Sarsa algorithm\n",
    "    for finding optimal q and pi via Linear\n",
    "    FA with n-step TD updates.\n",
    "    \"\"\"\n",
    "    \n",
    "    # Create epsilon-greedy policy\n",
    "    policy = make_epsilon_greedy_policy(\n",
    "        estimator, epsilon, env.action_space.n)\n",
    "\n",
    "    # Reset the environment and pick the first action\n",
    "    state = env.reset()\n",
    "    action_probs = policy(state)\n",
    "    action = np.random.choice(np.arange(len(action_probs)), p=action_probs)\n",
    "\n",
    "    # Set up trackers\n",
    "    states = [state]\n",
    "    actions = [action]\n",
    "    rewards = [0.0]\n",
    "\n",
    "    # Step through episode\n",
    "    T = float('inf')\n",
    "    for t in itertools.count():\n",
    "        if t < T:           \n",
    "            # Take a step\n",
    "            next_state, reward, done, _ = env.step(action)\n",
    "            states.append(next_state)\n",
    "            rewards.append(reward)\n",
    "\n",
    "            if done:\n",
    "                T = t + 1\n",
    "\n",
    "            else:\n",
    "                # Take next step\n",
    "                next_action_probs = policy(next_state)\n",
    "                next_action = np.random.choice(\n",
    "                    np.arange(len(next_action_probs)), p=next_action_probs)\n",
    "\n",
    "                actions.append(next_action)\n",
    "\n",
    "        update_time = t + 1 - n  # Specifies state to be updated\n",
    "        if update_time >= 0:       \n",
    "            # Build target\n",
    "            target = 0\n",
    "            for i in range(update_time + 1, min(T, update_time + n) + 1):\n",
    "                target += np.power(gamma, i - update_time - 1) * rewards[i]\n",
    "            if update_time + n < T:\n",
    "                q_values_next = estimator.predict(states[update_time + n])\n",
    "                target += q_values_next[actions[update_time + n]]\n",
    "            \n",
    "            # Update step\n",
    "            estimator.update(states[update_time], actions[update_time], target)\n",
    "        \n",
    "        if update_time == T - 1:\n",
    "            break\n",
    "\n",
    "        state = next_state\n",
    "        action = next_action\n",
    "    \n",
    "    ret = np.sum(rewards)\n",
    "    \n",
    "    return t, ret"
   ]
  },
  {
   "cell_type": "code",
   "execution_count": 6,
   "metadata": {},
   "outputs": [],
   "source": [
    "def sarsa_lambda(lmbda, env, estimator, gamma=1.0, epsilon=0):\n",
    "    \n",
    "    \"\"\"\n",
    "    Sarsa(Lambda) algorithm\n",
    "    for finding optimal q and pi via Linear\n",
    "    FA with eligibility traces.\n",
    "    \"\"\"\n",
    "    \n",
    "    # Reset the eligibility trace\n",
    "    estimator.reset(z_only=True)\n",
    "\n",
    "    # Create epsilon-greedy policy\n",
    "    policy = make_epsilon_greedy_policy(\n",
    "        estimator, epsilon, env.action_space.n)\n",
    "\n",
    "    # Reset the environment and pick the first action\n",
    "    state = env.reset()\n",
    "    action_probs = policy(state)\n",
    "    action = np.random.choice(np.arange(len(action_probs)), p=action_probs)\n",
    "\n",
    "    ret = 0\n",
    "    # Step through episode\n",
    "    for t in itertools.count():\n",
    "        # Take a step\n",
    "        next_state, reward, done, _ = env.step(action)\n",
    "        ret += reward\n",
    "\n",
    "        if done:\n",
    "            target = reward\n",
    "            estimator.update(state, action, target)\n",
    "            break\n",
    "\n",
    "        else:\n",
    "            # Take next step\n",
    "            next_action_probs = policy(next_state)\n",
    "            next_action = np.random.choice(\n",
    "                np.arange(len(next_action_probs)), p=next_action_probs)\n",
    "\n",
    "            # Estimate q-value at next state-action\n",
    "            q_new = estimator.predict(\n",
    "                next_state, next_action)[0]\n",
    "            target = reward + gamma * q_new\n",
    "            # Update step\n",
    "            estimator.update(state, action, target)\n",
    "            estimator.z *= gamma * lmbda\n",
    "\n",
    "        state = next_state\n",
    "        action = next_action    \n",
    "    \n",
    "    return t, ret\n",
    "    "
   ]
  },
  {
   "cell_type": "markdown",
   "metadata": {},
   "source": [
    "## 3 &nbsp; Experiments <a id='experiments'></a>"
   ]
  },
  {
   "cell_type": "markdown",
   "metadata": {},
   "source": [
    "We now compare the performance of n-step Sarsa and Sarsa($\\lambda$) applied to the [Mountain Car problem](https://gym.openai.com/envs/MountainCarContinuous-v0/). This is a classic episodic task commonly used to benchmark RL algorithms, where the goal is to get a car to the top of a hill, the catch being that the engine is not strong enough on its own so the agent must learn to exploit gravity. \n",
    "\n",
    "The simulations we run use the implementations from [Part 2](#implementation). Note that for both algorithms we use the default of $\\epsilon=0$. This is OK because the Mountain Car environment yields a reward of $-1$ for each action unless it leads directly to the top of the hill (when it a yields reward of $0$). Our zero initialisation of the q-value function is therefore optimistic, and so the agent still explores (at least at the start of training). We also use the default of $\\gamma=1$ as discounting isn't strictly necessary in episodic tasks."
   ]
  },
  {
   "cell_type": "markdown",
   "metadata": {},
   "source": [
    "### 3.1 &nbsp; Plotting Utility Functions"
   ]
  },
  {
   "cell_type": "code",
   "execution_count": 7,
   "metadata": {},
   "outputs": [],
   "source": [
    "def plot_cost_to_go(env, estimator, num_partitions=50):\n",
    "    \"\"\"\n",
    "    Plots -Q(s, a_max) for each state s=(position, velocity) \n",
    "    in the environment where a_max is the maximising action \n",
    "    from s according to our q-value estimator Q.\n",
    "    The state-space is continuous hence we first discretise \n",
    "    it into num_partitions partitions in each dimension. \n",
    "    \"\"\"\n",
    "    \n",
    "    x = np.linspace(env.observation_space.low[0], env.observation_space.high[0], num=num_partitions)\n",
    "    y = np.linspace(env.observation_space.low[1], env.observation_space.high[1], num=num_partitions)\n",
    "    X, Y = np.meshgrid(x, y)\n",
    "    Z = np.apply_along_axis(\n",
    "        lambda obs: -np.max(estimator.predict(obs)), 2, np.stack([X, Y], axis=2))\n",
    "\n",
    "    fig, ax = plt.subplots(figsize=(10, 5))\n",
    "    p = ax.pcolor(X, Y, Z, cmap=cm.RdBu, vmin=0, vmax=200)\n",
    "\n",
    "    ax.set_xlabel('Position')\n",
    "    ax.set_ylabel('Velocity')\n",
    "    ax.set_title(\"\\\"Cost To Go\\\" Function\")\n",
    "    fig.colorbar(p)\n",
    "    plt.show()"
   ]
  },
  {
   "cell_type": "code",
   "execution_count": 39,
   "metadata": {},
   "outputs": [],
   "source": [
    "def animate_greedy_policy(env, estimator, save_dir):\n",
    "    \"\"\"\n",
    "    Follows (deterministic) greedy policy\n",
    "    with respect to the given q-value estimator\n",
    "    and saves animation using openAI gym's Monitor \n",
    "    wrapper. Monitor will throw an error if monitor \n",
    "    files already exist in save_dir so use unique\n",
    "    save_dir for each call.\n",
    "    \"\"\"\n",
    "    \n",
    "    if not os.path.exists(save_dir):\n",
    "        os.makedirs(save_dir)\n",
    "\n",
    "    try:\n",
    "        env = gym.wrappers.Monitor(\n",
    "            env, save_dir, video_callable=lambda episode_id: True)\n",
    "    except gym.error.Error as e:\n",
    "        print(e.what())\n",
    "\n",
    "    # Set epsilon to zero to follow greedy policy\n",
    "    policy = make_epsilon_greedy_policy(\n",
    "        estimator=estimator, epsilon=0, num_actions=env.action_space.n)\n",
    "    # Reset the environment\n",
    "    state = env.reset()\n",
    "    for t in itertools.count():\n",
    "        time.sleep(0.01)  # Slow down animation\n",
    "        action_probs = policy(state)  # Compute action-values\n",
    "        [action] = np.nonzero(action_probs)[0]  # Greedy action\n",
    "        state, _, done, _ = env.step(action)  # Take step\n",
    "        env.render()  # Animate\n",
    "        if done:\n",
    "            print('Solved in {} steps'.format(t))\n",
    "            break"
   ]
  },
  {
   "cell_type": "code",
   "execution_count": 40,
   "metadata": {},
   "outputs": [],
   "source": [
    "def display_animation(filepath):\n",
    "    \"\"\" Displays mp4 animation in Jupyter.\"\"\"\n",
    "    \n",
    "    video = io.open(filepath, 'r+b').read()\n",
    "    encoded = base64.b64encode(video)\n",
    "    return HTML(data='''<video alt=\"test\" controls>\n",
    "                <source src=\"data:video/mp4;base64,{0}\" type=\"video/mp4\" />\n",
    "                 </video>'''.format(encoded.decode('ascii')))"
   ]
  },
  {
   "cell_type": "code",
   "execution_count": 37,
   "metadata": {},
   "outputs": [],
   "source": [
    "def plot_learning_curves(stats, smoothing_window=10):\n",
    "    \"\"\"\n",
    "    Plots the number of steps taken by the agent\n",
    "    to solve the task as a function of episode number,\n",
    "    smoothed over the last smoothing_window episodes. \n",
    "    \"\"\"\n",
    "    \n",
    "    plt.figure(figsize=(10,5))\n",
    "    for algo_stats in stats:\n",
    "        steps_per_episode = pd.Series(algo_stats.steps).rolling(\n",
    "            smoothing_window).mean()  # smooth\n",
    "        plt.plot(steps_per_episode, label=algo_stats.algorithm)\n",
    "    plt.xlabel(\"Episode\")\n",
    "    plt.ylabel(\"Steps\")\n",
    "    plt.title(\"Steps per Episode\")\n",
    "    plt.legend()\n",
    "    plt.show()"
   ]
  },
  {
   "cell_type": "code",
   "execution_count": 31,
   "metadata": {},
   "outputs": [],
   "source": [
    "def plot_grid_search(stats, truncate_steps=400):\n",
    "    \"\"\" \n",
    "    Plots average number of steps taken by the agent \n",
    "    to solve the task for each combination of\n",
    "    step size and boostrapping parameter\n",
    "    (n or lambda).\n",
    "    \"\"\"\n",
    "    # Truncate high step values for clearer plotting\n",
    "    stats.steps[stats.steps > truncate_steps] = truncate_steps\n",
    "    \n",
    "    # We use -1 step values indicate corresponding combination of\n",
    "    # parameters doesn't converge. Set these to truncate_steps for plotting.\n",
    "    stats.steps[stats.steps == -1] = truncate_steps\n",
    "    \n",
    "    plt.figure()\n",
    "    for b_idx in range(len(stats.bootstrappings)):\n",
    "        plt.plot(stats.step_sizes, stats.steps[b_idx, :], \n",
    "            label='Bootstrapping: {}'.format(stats.bootstrappings[b_idx]))\n",
    "    plt.xlabel('Step size (alpha * number of tilings)')\n",
    "    plt.ylabel('Average steps per episode')\n",
    "    plt.title('Grid Search {}'.format(stats.algorithm))\n",
    "    plt.ylim(140, truncate_steps - 100)\n",
    "    plt.legend()"
   ]
  },
  {
   "cell_type": "markdown",
   "metadata": {},
   "source": [
    "### 3.2 &nbsp; Running n-step Sarsa and Sarsa($\\lambda$)"
   ]
  },
  {
   "cell_type": "code",
   "execution_count": 21,
   "metadata": {},
   "outputs": [],
   "source": [
    "RunStats = namedtuple('RunStats', ['algorithm', 'steps', 'returns'])"
   ]
  },
  {
   "cell_type": "code",
   "execution_count": 22,
   "metadata": {},
   "outputs": [],
   "source": [
    "def run(algorithm, num_episodes=500, **algorithm_kwargs):\n",
    "    \"\"\"\n",
    "    Runs algorithm over multilple episodes and logs\n",
    "    for each episode the complete return (G_t) and the\n",
    "    number of steps taken.\n",
    "    \"\"\"\n",
    "    \n",
    "    stats = RunStats(\n",
    "        algorithm=algorithm, \n",
    "        steps=np.zeros(num_episodes), \n",
    "        returns=np.zeros(num_episodes))\n",
    "    \n",
    "    algorithm_fn = globals()[algorithm]\n",
    "    \n",
    "    for i in range(num_episodes):\n",
    "        episode_steps, episode_return = algorithm_fn(**algorithm_kwargs)\n",
    "        stats.steps[i] = episode_steps\n",
    "        stats.returns[i] = episode_return\n",
    "        sys.stdout.flush()\n",
    "        print(\"\\rEpisode {}/{} Return {}\".format(\n",
    "            i + 1, num_episodes, episode_return), end=\"\")\n",
    "    return stats"
   ]
  },
  {
   "cell_type": "markdown",
   "metadata": {},
   "source": [
    "$\\textbf{Run n-step Sarsa}$"
   ]
  },
  {
   "cell_type": "code",
   "execution_count": 23,
   "metadata": {},
   "outputs": [
    {
     "name": "stdout",
     "output_type": "stream",
     "text": [
      "Episode 500/500 Return -103.0"
     ]
    },
    {
     "data": {
      "image/png": "[encoded data removed]",
      "text/plain": [
       "<Figure size 720x360 with 2 Axes>"
      ]
     },
     "metadata": {},
     "output_type": "display_data"
    },
    {
     "name": "stdout",
     "output_type": "stream",
     "text": [
      "500 episodes completed in 23.48s\n"
     ]
    }
   ],
   "source": [
    "step_size = 0.5  # Fraction of the way we want to move towards target\n",
    "n = 4  # Level of bootstrapping (set to intermediate value)\n",
    "num_episodes = 500\n",
    "\n",
    "estimator_n = QEstimator(step_size=step_size)\n",
    "\n",
    "start_time = timeit.default_timer()\n",
    "run_stats_n = run('sarsa_n', num_episodes, n=n, env=env, estimator=estimator_n)\n",
    "elapsed_time = timeit.default_timer() - start_time\n",
    "\n",
    "plot_cost_to_go(env, estimator_n)\n",
    "print('{} episodes completed in {:.2f}s'.format(num_episodes, elapsed_time))"
   ]
  },
  {
   "cell_type": "code",
   "execution_count": 41,
   "metadata": {},
   "outputs": [
    {
     "ename": "Error",
     "evalue": "Trying to write to monitor directory /src/animations/n-step_sarsa/ with existing monitor files: /src/animations/n-step_sarsa/openaigym.manifest.3.164.manifest.json.\n\n You should use a unique directory for each training run, or use 'force=True' to automatically clear previous monitor files.",
     "output_type": "error",
     "traceback": [
      "\u001b[0;31m---------------------------------------------------------------------------\u001b[0m",
      "\u001b[0;31mError\u001b[0m                                     Traceback (most recent call last)",
      "\u001b[0;32m<ipython-input-41-5723d08774e2>\u001b[0m in \u001b[0;36m<module>\u001b[0;34m()\u001b[0m\n\u001b[1;32m      1\u001b[0m \u001b[0;31m# Animate learned policy\u001b[0m\u001b[0;34m\u001b[0m\u001b[0;34m\u001b[0m\u001b[0m\n\u001b[0;32m----> 2\u001b[0;31m \u001b[0manimate_greedy_policy\u001b[0m\u001b[0;34m(\u001b[0m\u001b[0menv\u001b[0m\u001b[0;34m,\u001b[0m \u001b[0mestimator_n\u001b[0m\u001b[0;34m,\u001b[0m \u001b[0msave_dir\u001b[0m\u001b[0;34m=\u001b[0m\u001b[0;34m'/src/animations/n-step_sarsa/'\u001b[0m\u001b[0;34m)\u001b[0m\u001b[0;34m\u001b[0m\u001b[0m\n\u001b[0m\u001b[1;32m      3\u001b[0m \u001b[0;34m[\u001b[0m\u001b[0mfilepath\u001b[0m\u001b[0;34m]\u001b[0m \u001b[0;34m=\u001b[0m \u001b[0mglob\u001b[0m\u001b[0;34m.\u001b[0m\u001b[0mglob\u001b[0m\u001b[0;34m(\u001b[0m\u001b[0mos\u001b[0m\u001b[0;34m.\u001b[0m\u001b[0mpath\u001b[0m\u001b[0;34m.\u001b[0m\u001b[0mjoin\u001b[0m\u001b[0;34m(\u001b[0m\u001b[0msave_dir\u001b[0m\u001b[0;34m,\u001b[0m \u001b[0;34m'*.mp4'\u001b[0m\u001b[0;34m)\u001b[0m\u001b[0;34m)\u001b[0m\u001b[0;34m\u001b[0m\u001b[0m\n\u001b[1;32m      4\u001b[0m \u001b[0mdisplay_animation\u001b[0m\u001b[0;34m(\u001b[0m\u001b[0mos\u001b[0m\u001b[0;34m.\u001b[0m\u001b[0mpath\u001b[0m\u001b[0;34m.\u001b[0m\u001b[0mjoin\u001b[0m\u001b[0;34m(\u001b[0m\u001b[0msave_dir\u001b[0m\u001b[0;34m,\u001b[0m \u001b[0mfilepath\u001b[0m\u001b[0;34m)\u001b[0m\u001b[0;34m)\u001b[0m\u001b[0;34m\u001b[0m\u001b[0m\n",
      "\u001b[0;32m<ipython-input-39-596c3a13a1dc>\u001b[0m in \u001b[0;36manimate_greedy_policy\u001b[0;34m(env, estimator, save_dir)\u001b[0m\n\u001b[1;32m     10\u001b[0m \u001b[0;34m\u001b[0m\u001b[0m\n\u001b[1;32m     11\u001b[0m     env = gym.wrappers.Monitor(\n\u001b[0;32m---> 12\u001b[0;31m         env, save_dir, video_callable=lambda episode_id: True)\n\u001b[0m\u001b[1;32m     13\u001b[0m \u001b[0;34m\u001b[0m\u001b[0m\n\u001b[1;32m     14\u001b[0m \u001b[0;34m\u001b[0m\u001b[0m\n",
      "\u001b[0;32m/usr/local/lib/python3.5/dist-packages/gym/wrappers/monitor.py\u001b[0m in \u001b[0;36m__init__\u001b[0;34m(self, env, directory, video_callable, force, resume, write_upon_reset, uid, mode)\u001b[0m\n\u001b[1;32m     25\u001b[0m \u001b[0;34m\u001b[0m\u001b[0m\n\u001b[1;32m     26\u001b[0m         self._start(directory, video_callable, force, resume,\n\u001b[0;32m---> 27\u001b[0;31m                             write_upon_reset, uid, mode)\n\u001b[0m\u001b[1;32m     28\u001b[0m \u001b[0;34m\u001b[0m\u001b[0m\n\u001b[1;32m     29\u001b[0m     \u001b[0;32mdef\u001b[0m \u001b[0mstep\u001b[0m\u001b[0;34m(\u001b[0m\u001b[0mself\u001b[0m\u001b[0;34m,\u001b[0m \u001b[0maction\u001b[0m\u001b[0;34m)\u001b[0m\u001b[0;34m:\u001b[0m\u001b[0;34m\u001b[0m\u001b[0m\n",
      "\u001b[0;32m/usr/local/lib/python3.5/dist-packages/gym/wrappers/monitor.py\u001b[0m in \u001b[0;36m_start\u001b[0;34m(self, directory, video_callable, force, resume, write_upon_reset, uid, mode)\u001b[0m\n\u001b[1;32m     95\u001b[0m                 raise error.Error('''Trying to write to monitor directory {} with existing monitor files: {}.\n\u001b[1;32m     96\u001b[0m \u001b[0;34m\u001b[0m\u001b[0m\n\u001b[0;32m---> 97\u001b[0;31m  You should use a unique directory for each training run, or use 'force=True' to automatically clear previous monitor files.'''.format(directory, ', '.join(training_manifests[:5])))\n\u001b[0m\u001b[1;32m     98\u001b[0m \u001b[0;34m\u001b[0m\u001b[0m\n\u001b[1;32m     99\u001b[0m         \u001b[0mself\u001b[0m\u001b[0;34m.\u001b[0m\u001b[0m_monitor_id\u001b[0m \u001b[0;34m=\u001b[0m \u001b[0mmonitor_closer\u001b[0m\u001b[0;34m.\u001b[0m\u001b[0mregister\u001b[0m\u001b[0;34m(\u001b[0m\u001b[0mself\u001b[0m\u001b[0;34m)\u001b[0m\u001b[0;34m\u001b[0m\u001b[0m\n",
      "\u001b[0;31mError\u001b[0m: Trying to write to monitor directory /src/animations/n-step_sarsa/ with existing monitor files: /src/animations/n-step_sarsa/openaigym.manifest.3.164.manifest.json.\n\n You should use a unique directory for each training run, or use 'force=True' to automatically clear previous monitor files."
     ]
    }
   ],
   "source": [
    "# Animate learned policy\n",
    "animate_greedy_policy(env, estimator_n, save_dir='/src/animations/n-step_sarsa/')\n",
    "[filepath] = glob.glob(os.path.join(save_dir, '*.mp4'))\n",
    "display_animation(os.path.join(save_dir, filepath))"
   ]
  },
  {
   "cell_type": "markdown",
   "metadata": {},
   "source": [
    "$\\textbf{Run Sarsa}(\\lambda)$"
   ]
  },
  {
   "cell_type": "code",
   "execution_count": 25,
   "metadata": {},
   "outputs": [
    {
     "name": "stdout",
     "output_type": "stream",
     "text": [
      "Episode 500/500 Return -93.00"
     ]
    },
    {
     "data": {
      "image/png": "[encoded data removed]",
      "text/plain": [
       "<Figure size 720x360 with 2 Axes>"
      ]
     },
     "metadata": {},
     "output_type": "display_data"
    },
    {
     "name": "stdout",
     "output_type": "stream",
     "text": [
      "500 episodes completed in 21.42s\n"
     ]
    }
   ],
   "source": [
    "step_size = 0.5 # Fraction of the way we want to move towards target\n",
    "lmbda = 0.92  # Level of bootstrapping (set to intermediate value)\n",
    "num_episodes = 500\n",
    "\n",
    "estimator_lambda = QEstimator(step_size=step_size, trace=True)\n",
    "\n",
    "start_time = timeit.default_timer()\n",
    "run_stats_lambda = run('sarsa_lambda', num_episodes, lmbda=lmbda, env=env, estimator=estimator_lambda)\n",
    "elapsed_time = timeit.default_timer() - start_time\n",
    "\n",
    "plot_cost_to_go(env, estimator_lambda)\n",
    "print('{} episodes completed in {:.2f}s'.format(num_episodes, elapsed_time))"
   ]
  },
  {
   "cell_type": "code",
   "execution_count": 26,
   "metadata": {},
   "outputs": [
    {
     "name": "stdout",
     "output_type": "stream",
     "text": [
      "Solved in 95 steps\n"
     ]
    },
    {
     "data": {
      "text/html": [
       "<video alt=\"test\" controls>\n",
       "                <source src=\"data:video/mp4;base64,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\" type=\"video/mp4\" />\n",
       "                 </video>"
      ],
      "text/plain": [
       "<IPython.core.display.HTML object>"
      ]
     },
     "execution_count": 26,
     "metadata": {},
     "output_type": "execute_result"
    }
   ],
   "source": [
    "# Animate learned policy\n",
    "animate_greedy_policy(env, estimator_lambda, save_dir='/src/animations/sarsa_lambda/')\n",
    "[filepath] = glob.glob(os.path.join(save_dir, '*.mp4'))\n",
    "display_animation(os.path.join(save_dir, filepath))"
   ]
  },
  {
   "cell_type": "markdown",
   "metadata": {},
   "source": [
    "$\\textbf{Compare Learning Curves}$"
   ]
  },
  {
   "cell_type": "code",
   "execution_count": 27,
   "metadata": {},
   "outputs": [
    {
     "data": {
      "image/png": "[encoded data removed]",
      "text/plain": [
       "<Figure size 720x360 with 1 Axes>"
      ]
     },
     "metadata": {},
     "output_type": "display_data"
    }
   ],
   "source": [
    "plot_learning_curves([run_stats_n, run_stats_lambda])"
   ]
  },
  {
   "cell_type": "markdown",
   "metadata": {},
   "source": [
    "### 3.3 &nbsp; Grid Search Comparison of n-step Sarsa and Sarsa($\\lambda$)"
   ]
  },
  {
   "cell_type": "code",
   "execution_count": null,
   "metadata": {},
   "outputs": [],
   "source": [
    "GridSearchStats = namedtuple('GridSearchStats', ['algorithm', 'steps', 'step_sizes', 'bootstrappings'])"
   ]
  },
  {
   "cell_type": "code",
   "execution_count": null,
   "metadata": {},
   "outputs": [],
   "source": [
    "def run_grid_search(algorithm, step_sizes, bootstrappings, episodes=100, num_runs=5,\n",
    "                   **algorithm_kwargs):\n",
    "    \"\"\"\n",
    "    Runs a grid search over different values of the step size\n",
    "    and boostrapping parameter (n or lambda) for the given algorithm.\n",
    "    The performance of each combination of parameters is measured \n",
    "    by the number of steps taken to complete the task, averaged\n",
    "    over the first few episodes and a number of\n",
    "    independent runs.\n",
    "    \"\"\"\n",
    "    \n",
    "    stats = GridSearchStats(\n",
    "        algorithm=algorithm, \n",
    "        steps=np.zeros((len(bootstrappings), len(step_sizes))),\n",
    "        step_sizes=step_sizes,\n",
    "        bootstrappings=bootstrappings)\n",
    "        \n",
    "    algorithm_fn = globals()[algorithm]\n",
    "    trace = True if algorithm == 'sarsa_lambda' else False\n",
    "\n",
    "    for run_idx in range(num_runs):\n",
    "        for b_idx, bootstrapping in enumerate(bootstrappings):\n",
    "            for s_idx, step_size in enumerate(step_sizes):\n",
    "                if algorithm == 'sarsa_n':\n",
    "                    if (bootstrapping == 8 and step_size > 1) or \\\n",
    "                    (bootstrapping == 16 and step_size > 0.75):\n",
    "                        # sarsa_n doesn't converge in these cases so \n",
    "                        # assign a default value and skip over.\n",
    "                        stats.steps[b_idx, s_idx] = -1 * num_runs * episodes\n",
    "                    continue\n",
    "                for episode in range(episodes):\n",
    "                    sys.stdout.flush()\n",
    "                    print('\\r run: {}, step_size: {}, bootstrapping: {}, episode: {}'.format(\n",
    "                            run_idx, step_size, bootstrapping, episode), end=\"\")\n",
    "                    episode_steps, _ = algorithm_fn(\n",
    "                        bootstrapping, estimator=estimator, **algorithm_kwargs)\n",
    "                    stats.steps[b_idx, s_idx] += episode_steps\n",
    "                    \n",
    "    \n",
    "    # Average over independent runs and episodes\n",
    "    stats.steps[:] /= (num_runs * episodes)\n",
    "   \n",
    "    return stats"
   ]
  },
  {
   "cell_type": "markdown",
   "metadata": {},
   "source": [
    "$\\textbf{Grid Search for n-step Sarsa}$"
   ]
  },
  {
   "cell_type": "code",
   "execution_count": null,
   "metadata": {},
   "outputs": [],
   "source": [
    "step_sizes = np.arange(0.1, 1.8, 0.1)\n",
    "ns = np.power(2, np.arange(0, 5))\n",
    "grid_search_stats_n = run_grid_search('sarsa_n', step_sizes, ns, env=env)\n",
    "plot_grid_search(grid_search_stats_n)"
   ]
  },
  {
   "cell_type": "markdown",
   "metadata": {},
   "source": [
    "$\\textbf{Grid Search for Sarsa}(\\lambda)$"
   ]
  },
  {
   "cell_type": "code",
   "execution_count": null,
   "metadata": {},
   "outputs": [],
   "source": [
    "step_sizes = np.arange(0.1, 1.8, 0.1)\n",
    "lambdas = np.array([0, 0.68, 0.84, 0.92, 0.98, 0.99])\n",
    "grid_search_stats_lambda = run_grid_search('sarsa_lambda', step_sizes, lambdas, env=env)\n",
    "plot_grid_search(grid_search_stats_lambda)"
   ]
  },
  {
   "cell_type": "markdown",
   "metadata": {},
   "source": [
    "## 4 &nbsp; Conclusion <a id='conclusion'></a>"
   ]
  },
  {
   "cell_type": "markdown",
   "metadata": {},
   "source": [
    "This tutorial has covered the theory and implementation of two important algorithms in RL, n-step Sarsa and Sarsa($\\lambda$). Judging by our experiments in [Part 2](#experiments), Sarsa($\\lambda$) appears to learn more efficiently than n-step Sarsa as applied to the Mountain Car task. The agent's ability to immediately learn from and respond to feedback from the environment rather than being delayed n-steps seems to pay off. \n",
    "\n",
    "By studying these two algorithms, we have covered most of the key areas of RL. However, there are two important areas that we didn't cover and that is off-policy methods (although we explained at a high level what this was in [section 1.5](#on_off_policy)) and policy gradient methods. Both n-step Sarsa and Sarsa($\\lambda$) have off-policy equivalents (so called Q-learning methods) that simulate sample experience from a behaviour policy different from the target policy we are actually learning about, but are otherwise the same as their on-policy counterparts. Policy gradient methods, on the other hand, introduce something entirely new. In these methods, optimal policies are not learned via value functions, but by first parameterising the policy and then optimising it directly via stochastic gradient descent, without consulting a value function at all. Off-policy methods and policy gradient methods are also well worth studying, as many state-of-the-art applications of RL employ such techniques.\n",
    "\n",
    "Of course we also haven't covered Deep Learning RL methods (such as Deep Q-Learning). However, these are essentially just methods that replace the linear function approximator that we have used with a neural network (we can also do away with tile coding since neural networks are non-linear function approximators already)."
   ]
  },
  {
   "cell_type": "code",
   "execution_count": null,
   "metadata": {},
   "outputs": [],
   "source": []
  }
 ],
 "metadata": {
  "kernelspec": {
   "display_name": "Python 3",
   "language": "python",
   "name": "python3"
  },
  "language_info": {
   "codemirror_mode": {
    "name": "ipython",
    "version": 3
   },
   "file_extension": ".py",
   "mimetype": "text/x-python",
   "name": "python",
   "nbconvert_exporter": "python",
   "pygments_lexer": "ipython3",
   "version": "3.7.0"
  },
  "toc": {
   "nav_menu": {},
   "number_sections": false,
   "sideBar": true,
   "skip_h1_title": true,
   "title_cell": "Table of Contents",
   "title_sidebar": "Contents",
   "toc_cell": false,
   "toc_position": {},
   "toc_section_display": true,
   "toc_window_display": false
  }
 },
 "nbformat": 4,
 "nbformat_minor": 2
}
