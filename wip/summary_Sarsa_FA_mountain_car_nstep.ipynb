{
 "cells": [
  {
   "cell_type": "markdown",
   "metadata": {},
   "source": [
    "# Value functions"
   ]
  },
  {
   "cell_type": "markdown",
   "metadata": {},
   "source": [
    "Nearly all reinforcement learning algorithms involve estimating value functions, functions of states (or state-actions) that quantify how good it is for an agent to be in a particular state (or state-action pair), where 'good' is defined in terms of the rewards expected to follow from that state (or state-action pair) in the future. The rewards that can be expected depend on which actions will be taken, and so value functions must be defined with respect to particular policies $\\pi(a | s)$, which map from states to actions.\n",
    "\n",
    "Formally, the state-value of $s$ under policy $\\pi$ is defined as the expected $\\textit{return}$ $G_t = \\sum_0^\\infty \\gamma^k R_{t+k+1}$ when starting from $S_t$ and following $\\pi$ thereafter: \n",
    "\n",
    "$$v_\\pi(s) = \\mathbb{E}_\\pi[G_t | S_t = s]$$ \n",
    "\n",
    "$R_t$ is the reward received at time step $t$ and $\\gamma$ is the discount rate, $ 0 \\leq \\gamma \\leq 1$, which controls the relative weighting between near and far-sighted rewards, and ensures that the sum is finite for continuing tasks (i.e. those that don't naturally breakdown into episodes).\n",
    "\n",
    "Similarly, the action-value of (s, a) under policy $\\pi$ is defined as the expected return when taking action $a$ in state $s$ and following policy $\\pi$ thereafter: \n",
    "\n",
    "$$q_\\pi(s, a) = \\mathbb{E}_\\pi[G_t | S_t = s, A_t = a]$$"
   ]
  },
  {
   "cell_type": "markdown",
   "metadata": {},
   "source": [
    "# Policy evaluation (Prediction)"
   ]
  },
  {
   "cell_type": "markdown",
   "metadata": {},
   "source": [
    "If we have a model of the environment's transition dynamics  $p(s′,r|s,a)$ , i.e the probabilities of which states and actions lead to which next states and rewards, then the value functions can be computed analytically. However, most of the time the dynamics are not known and the value functions must instead be estimated from actual sample experience to give $V(S_t) \\approx v_\\pi(S_t)$ and $Q(S_t, A_t) \\approx q_\\pi(S_t, A_t)$. The general approach to doing this is to have the agent follow $\\pi$ and maintain for each state (or state-action) a running average of the returns that follow. This boils down to iterating over the following generalized update rule:\n",
    "\n",
    "$$NewEstimate \\gets OldEstimate + \\alpha\\ [Return - OldEstimate]$$\n",
    "\n",
    "$Return$ is like a $\\textit{target}$, indicating the desirable direction in which to move. $\\alpha$ indicates by how much to move in this direction. For an equally weighted average we would choose $\\alpha=1/n$, where $n$ is the number of times the given state (or state-action) has been visited so far. However, most reinforcement learning problems are non-stationary, meaning that the true state and state-action values change over time as the policy changes towards an optimal one (see below). In this case it makes more sense to give more weight to recent returns than long-past returns, which can be achieved by holding $\\alpha$ constant."
   ]
  },
  {
   "cell_type": "markdown",
   "metadata": {},
   "source": [
    "# Policy improvement"
   ]
  },
  {
   "cell_type": "markdown",
   "metadata": {},
   "source": [
    "Policy evaluation is concerned with making the state or action-values consistent with the current policy being followed. Policy improvement is concerned with adjusting the current policy to one that when followed leads to a higher return. \n",
    "\n",
    "Policy improvement requires an estimate of the action-value function $Q(S_t, A_t) \\approx q_\\pi(S_t, A_t)$ as opposed to an estimate of the state-value function $V(S_t) \\approx v_\\pi(S_t)$, assuming the environments transition dynamics are not known. This is becuase whilst $V(S_t)$ tells you which states have the highest values, it does not tell you which actions lead to which states (we can't look ahead). $Q(S_t, A_t)$, however, directly caches the value of taking a particular action in a particular state, and so it isn't necessary to look ahead to where that action leads in order to determine its value.\n",
    "\n",
    "Suppose then that we have determined a good approximation $Q$ to the action-value function $q_\\pi$ for an arbitrary policy $\\pi$ via policy evaluation. We can improve on this policy simply by selecting at each state $s$ the action that appears best according to $Q(s, a)$ i.e. by switching to a new policy $\\pi^\\prime$ that is 'greedy' with respect to $Q(s, a)$. The new greedy policy $\\pi^\\prime$ is guaranteed to be better than the original policy $\\pi$ for all $s$ and $a$."
   ]
  },
  {
   "cell_type": "markdown",
   "metadata": {},
   "source": [
    "# Policy iteration (Control)"
   ]
  },
  {
   "cell_type": "markdown",
   "metadata": {},
   "source": [
    "Once a policy has been improved using $Q(S_t, A_t) \\approx  q_\\pi(S_t, A_t)$ to yield a better policy $\\pi^\\prime$, we can then evaluate this new policy to find $Q(S_t, A_t) \\approx  q_{\\pi^\\prime}(S_t, A_t)$, before improving it once again to yield an even better policy $\\pi^{\\prime \\prime}$. By alternating these two processes, policy improvement and policy evaluation, we achieve a sequence of monotonically improving policies and value functions that converge towards the optimal policy and value function, $\\pi_*$ and $q_*$. This is called policy iteration.\n",
    "\n",
    "In policy iteration, each process completes before the other begins. This is not necessary and can slow down learning. Generalized policy iteration (GPI) refers to the general idea of letting the policy improvement and evaluation processes interact at an arbitrary level of granularity. For example, policy evaluation could be truncated after a single sweep of the state set, or, when learning from actual experience, after just a single episode, before performing a step of policy improvement. The latter is the approach we take in the implementations of this tutorial."
   ]
  },
  {
   "cell_type": "markdown",
   "metadata": {},
   "source": [
    "# On Policy vs Off-Policy Control"
   ]
  },
  {
   "cell_type": "markdown",
   "metadata": {},
   "source": [
    "Policy iteration is only guaranteed to converge if each action is selected infinitely often in the limit. This will not be the case in the approach described above, since by always making the policy greedy with the current action-value function, we prevent exploration of the non-greedy actions. This problem can be mitigated if exploring starts are enforced, where each state has a non-zero probability of being selected to start the episode. However, for most practical situations where episodes are simulated from real experience, this is an unlikely assumption to make.\n",
    "\n",
    "There are two other approaches to ensuring that all actions continue to be selected: on-policy and off-policy methods. In on-policy methods, \n",
    "we continually make the policy $\\epsilon$-greedy w.r.t the current value function rather than deterministically greedy. This means that most of the time the maximising action is selected, but with probability $\\epsilon$ it selects an action at random. Convergence is guaranteed, since all actions continue to be selected. However, convergence is not actually towards the optimal (greedy) policy, but rather to a nearby one that still explores. \n",
    "\n",
    "In off-policy methods we avoid the compromise of learning a policy that is only near-optimal by leveraging two seperate policies, one that is continually made greedy w.r.t the current value function and so becomes the optimal policy (a.k.a the target policy), and another that is more exploratory and used to generate sample experience (a.k.a the behaviour policy). Importance samping is the mechanism that allows us to learn about the target policy using data generated by the behaviour policy. Since the examples in this tutorial use on-policy methods, we do not consider off-policy methods any further here. "
   ]
  },
  {
   "cell_type": "markdown",
   "metadata": {},
   "source": [
    "# Tabular Solution Methods"
   ]
  },
  {
   "cell_type": "code",
   "execution_count": null,
   "metadata": {},
   "outputs": [],
   "source": []
  },
  {
   "cell_type": "markdown",
   "metadata": {},
   "source": [
    "Here we describe the core model-free methods for learning optimal policies and value functions when the state and action spaces are small enough for us to learn distinct values for each and every state (or state-action). In this setting the value functions can be represented as arrays, or tables, which is why these methods are called tabular solution methods. These methods are distinguished only by the target used in the general update rule above, and so this is what we focus the discussion on.  "
   ]
  },
  {
   "cell_type": "markdown",
   "metadata": {},
   "source": [
    "The target in XXX formed in Monte Carlo methods is simply $G_t$, the complete sample return. The update rule is therefore:\n",
    "\n",
    "$$ V(S_t) \\gets V(S_t) + \\alpha[G_t - V(S_t)]$$\n",
    "\n",
    "Since each $G_t$ is an unbiased estimator of $v_\\pi(s)$, i.e. $\\mathbb{E}[G_t | S_t = s] = v_\\pi(S_t)$ the average of these returns will converge in the long run to $v_\\pi(s)$. However, since the selection of actions in an episode is stochastic, there will be a high variance amoungst the returns. Also, because $G_t$ is only avialable at the end of an episode, we must wait until then before we can make an update (i.e. updates are 'off-line'). Both of these things can result in slow learning.\n",
    "\n",
    "For action-values we simply switch $V(S_t)$ for $Q(S_t, A_t)$ in the update rule:\n",
    "\n",
    "$$ Q(S_t, A_t) \\gets Q(S_t, A_t) + \\alpha[G_t - Q(S_t, A_t)]$$"
   ]
  },
  {
   "cell_type": "markdown",
   "metadata": {},
   "source": [
    "### Temporal Difference (TD) methods."
   ]
  },
  {
   "cell_type": "markdown",
   "metadata": {},
   "source": [
    "The target formed in TD methods is the truncated return $G_{t:t+1} = R_{t+1} + V(S_{t+1})$. In other words, $G_{t:t+1}$ is a re-estimation of the value of the current state made at the $\\textit{next}$ timestep $t+1$ (hence the name 'temporal difference'). \n",
    "\n",
    "$$ V(S_t) \\gets V(S_t) + \\alpha[G_{t:t+1} - V(S_t)]$$\n",
    "\n",
    "Whilst the MC target was an ubiased estimate of $v_\\pi(S_t)$, this time it is biased, due to its dependence on the estimate $V(S_{t+1})$. Basing an estimate off of other estimates like this is called 'bootstrapping'. The trade off for the introduced bias is lower variance, since the target only depends on one stochastic action selection. Also, whilst the MC target was only available at the end of the episode, this time it is available at $t+1$, since it only depends on the next state and reward. TD updates can therefore be performed 'on-line' (during an episode) which can result in faster learning (our value estimates are better sooner, enabling our agent to more immediately exploit anything that has changed).\n",
    "\n",
    "The fact that TD converges implies that the estimates of $v_\\pi(s)$ made at future time steps are better than those made at the current time step. This makes intuitive sense: if I asked you to estimate the length of your comute home as you got in the car, your re-estimate of that value once you've seen how much traffic there is on the motorway is likely to be more accurate.\n",
    "\n",
    "Once again for action-values all we have to do is switch the $V$s for $Q$s in the update rule:\n",
    "\n",
    "$$ Q(S_t, A_t) \\gets Q(S_t, A_t) + \\alpha[G_{t:t+1} - Q(S_t, A_t)] $$\n",
    "\n",
    "with $G_{t:t+1} = R_{t+1} + Q(S_{t+1}, A_{t+1})$. This action-value update depends on every element of the quintuple of events $(S_t, A_t, R_{t+1}, S_{t+1}, A_{t+1})$, giving rise to the name $\\textit{Sarsa}$ for the algorithm. "
   ]
  },
  {
   "cell_type": "markdown",
   "metadata": {},
   "source": [
    "### n-step TD methods"
   ]
  },
  {
   "cell_type": "markdown",
   "metadata": {},
   "source": [
    "n-step TD methods are a natural extension of the one-step TD method presented above. Whilst one-step TD methods use the target $G_{t:t+1} = R_{t+1} + V(S_{t+1})$, n-step TD methods use the target $G_{t:t+n} = R_{t+1} + \\gamma R_{t+2} + \\ldots + \\gamma^{n-1} R_{t+n} + \\gamma^n V_{t+n-1}(S_{t+n})$. In other words, one-step TD updates bootstrap from $V(S_{t+1})$, whilst n-step updates bootstrap from $V(S_{t+n})$.\n",
    "\n",
    "$$ V(S_t) \\gets V(S_t) + \\alpha[G_{t:t+n} - V(S_t)]$$\n",
    "\n",
    "As usual we arrive at the corresponding update for action-values by swapping the $V$s for $Q$s:\n",
    "\n",
    "$$ Q(S_t, A_t) \\gets Q(S_t, A_t) + \\alpha[G_{t:t+n} - Q(S_t, A_t)],$$\n",
    "\n",
    "with $G_{t:t+n} = R_{t+1} + \\gamma R_{t+2} + \\ldots + \\gamma^{n-1} R_{t+n} + \\gamma^n Q_{t+n-1}(S_{t+n}, A_{t+n})$. This action-value form is called n-step Sarsa, by analogy with one-step Sarsa described above. \n",
    "\n",
    "n-step TD methods generalize one-step TD and MC methods, spanning a spectrum with TD at one end (n=1) and MC at the other (n equal to the number of steps in the episode). Increasing n reduces the bias of the estimator (moving us closer towards the unbiased estimates of MC) but increases the variance, as well as the time we have to wait before we can make an update. Often intermdiate values of n are are the most effective."
   ]
  },
  {
   "cell_type": "markdown",
   "metadata": {},
   "source": [
    "# Approximate Solution Methods"
   ]
  },
  {
   "cell_type": "markdown",
   "metadata": {},
   "source": [
    "If there are very many states then it becomes impractical, both in terms of memory and time, to find accurate estimates of all states (or state-actions) like tabular methods. Instead we maintain our value function estimates as parameterized functions, $\\hat{v}(s, \\mathbf{w})$ and $\\hat{q}(s, a, \\mathbf{w})$, where $\\mathbf{w} \\in \\mathbb{R}^d$ is the weight vector, whose dimensionality $d$ is much less than the number of states. This $\\mathbf{w}$ is learned via the update rule, in the same way that individual states and state-actions are in tabular methods. Becuase an update to the weight vector affects the values of many different states (or state-actions), even if they have never been visited before, approximate solution methods have the ability to generalise. \n",
    "\n",
    "We borrow from supervised learning methodology in order to learn these parameterised value functions. For example, if we denote the update rule for state-values as $S_t \\to U_t$, where $S_t$ is the state whos value is to be updated and $U_t$ is the target, then we can interpret $(S_t, U_t)$ as an input-output training example for $\\hat{v}$. If we use the mean squared error to represent prediction error for this example, $[U_t - \\hat{v}(S_t, \\mathbf{w})]^2$, then we can perform the weight vector update via SGD:\n",
    "\n",
    "$$\\begin{aligned} \n",
    "\\mathbf{w}_{t+1} &= \\mathbf{w}_t - \\frac{1}{2} \\alpha \\nabla \\left[U_t - \\hat{v}(S_t, \\mathbf{w}_t) \\right]^2 \\\\\n",
    "&= \\mathbf{w}_t + \\alpha \\left[U_t - \\hat{v}(S_t, \\mathbf{w}_t) \\right] \\nabla \\hat{v}(S_t, \\mathbf{w}_t)\n",
    "\\end{aligned}$$\n",
    "\n",
    "Each of the tabular methods presented above have approximate solution versions that use this gradient descent version of the update rule. The approximate solution version of the MC method is arrived at simply by setting $U_t=G_t$ in XX, giving rise to 'Gradient MC' methods. Similarly, approximate solution versions of the n-step TD methods are arrived at by setting $U_t=G_{t:t+n}$. However, since these bootstrapping targets depend on the current value of $\\mathbf{w}$, a fact that is ignored in the gradient update rule above, these methods are called 'Semi-gradient' methods.\n",
    "\n",
    "An important special case of vaue function approximation is that which $\\hat{v}(s, \\mathbf{w})$ is a linear function $\\mathbf{w}$:\n",
    "\n",
    "$$ \\hat{v}(s, \\mathbf{w}) = \\mathbf{w}^\\top \\mathbf{x}(s) = \\sum_i^d w_i x_i(s). $$\n",
    "\n",
    "$\\mathbf{x}(s)$ here is a featurized representation of $s$, of the same dimensions as $\\mathbf{w}$ (see below). The gradient of the approximate value function with respect to $\\mathbf{w}$ in this linear case is simply $\\nabla \\hat{v}(s, \\mathbf{w}) = \\mathbf{x}(s)$, which reduces the SGD weight vector update to:\n",
    "\n",
    "$$ \\mathbf{w}_{t+1} = \\mathbf{w}_t + \\alpha \\left[U_t - \\hat{v}(S_t, \\mathbf{w}_t) \\right] \\mathbf{x}(S_t). $$\n",
    "\n",
    "For action-values, the $\\hat{v}$s are replaced with $\\hat{q}$s, and $\\mathbf{x}(s)$ becomes $\\mathbf{x}(s, a)$, the featurized representation of the state-action pair $(s, a)$ (see below). "
   ]
  },
  {
   "cell_type": "markdown",
   "metadata": {},
   "source": [
    "# Feature construction for linear methods"
   ]
  },
  {
   "cell_type": "markdown",
   "metadata": {},
   "source": [
    "Suppose our states $s$ have two numerical dimensions, or features, $s_1$ and $s_2$. For example, $s_1$ could be position and $s_2$ velocity, as is the case with the Mountain Car task that we consider in part 2 of this tutorial. The most natural 'featurization' for $s$ would be $\\mathbf{x} = (s_1, s_2)^\\top$.\n",
    "\n",
    "A limitation of the linear value function approximator is that it can't take into account interactions between features, such as a high value for $s_1$ only being good in the presence of a positive value for $s_2$ in the example above. The only way to model such interdependencies would be to include in the featurization of $s$ features that combine $s_1$ and $s_2$. For example, we could use a polynomial featurization such as $\\mathbf{x}(s) = (1, s_1, s_2, s_1s_2, s_1s_2^2, s_1^2s_2, s_1^2s_2^2)^\\top$.\n",
    "\n",
    "Tile coding is another way to construct features that is more flexible and scalable than polynomial featurization. In tile coding, the state space is covered by multiple tilings, with each tiling composed of multiple tiles. The tilings are offset from one another by a fraction of the tile width. The state featurization $\\mathbf{x}(s)$ has one feature for each tile in each tiling, so if there are $n$ tilings and $k \\times k$ tiles in each tiling, $\\mathbf{x}(s) \\in \\mathbb{R}^{n \\times k \\times k}$. A particular feature is $1$ (active) if the state falls within the corresponding tile and $0$ (inactive) otherwise. Since every position in state space falls in exactly one tile in each of the $n$ tilings, there are always $n$ active features in $\\mathbf{x}(s)$.     \n",
    "\n",
    "Tile coding ensures generalization because if we train at one state $s$, a single point in state space, then the weights associated with all ($n$) tiles covering $s$ will be updated. In turn, the approximate value function for all states within the union of these active tiles will change, proportional to the number of tiles they have in common. The shape and offset of the tiles will affect the type of generalization. For example, if the tiles are elongated along a particular dimension in state space, then generalization will extend further to states along this dimension. The number and size of the tiles will determine the finest level of discrimination possible between states - how far you have to move in state space in order to change at least one component of the featurization. \n",
    "\n",
    "Becuase tile coding uses binary features, the approximate value function $\\hat{v}(s, \\mathbf{w})$ in the linear case is almost trivial to compute:\n",
    "\n",
    "$$ \\hat{v}(s, \\mathbf{w}) = \\mathbf{w}^\\top \\mathbf{x}(s) = \\sum_i^d w_i x_i(s) \\equiv \\sum_{i \\in \\{x_i = 1\\}}w_i.$$ \n",
    "\n",
    "For action-value methods the featurization needs to encode not only the state $s$ but the state-action pair $(s, a)$. This is straightforward - the tilings just need to cover the whole state-action space as opposed to just the state-space."
   ]
  },
  {
   "cell_type": "markdown",
   "metadata": {},
   "source": [
    "# Semi-gradient TD($\\lambda$) methods"
   ]
  },
  {
   "cell_type": "markdown",
   "metadata": {},
   "source": [
    "### TD ($\\lambda$) Prediction"
   ]
  },
  {
   "cell_type": "markdown",
   "metadata": {},
   "source": [
    "The n-step predictions methods we have met so far take a forward-view: they update the values of states by looking ahead to the values of future states. This works well, but means that the target for $V(S_t)$ is not actually available until $n$ steps into the future. This means that the updates are not equally distributed in time: our first update is delayed by $n$ steps from the start of an episode, and this leaves us $n$ updates to catch up after the episode has finished. Additionally, in order to perform each update we must maintain a store of the last $n$ feature vectors (and rewards), which is less than ideal computationally.\n",
    "\n",
    "TD($\\lambda$) converts the forward-view n-step TD prediction method into backward-view version. The mechanism for this is a short-term memory vector, the eligibility trace $\\mathbf{z}_t \\in \\mathbb{R}^d$, that parallels the long-term weight vector $\\mathbf{w} \\in \\mathbb{R}^d$, keeping track of  which components of $\\mathbf{w}$ have contributed to recent state valuations. \n",
    "\n",
    "$$\\begin{align} &\\mathbf{z}_{-1} = \\mathbf{0} \\\\\n",
    " &\\mathbf{z}_t = \\gamma \\lambda \\mathbf{z}_{t-1} + \\nabla \\hat{v}(S_t, \\mathbf{w}_t), \\quad 0 \\leq t \\leq T,\\end{align}$$\n",
    " \n",
    "where $\\gamma$ is the usual discount rate, $\\lambda \\in [0, 1]$, and the product of these two quantities defines the concept of 'recent' in the description above.\n",
    "\n",
    "The trace indicates which components of $\\mathbf{w}$ deserve most credit for the error at the current state, where error is defined by the moment-by-moment one-step TD error, $\\delta_t = G_{t:t+1} - \\hat{v}(S_t, \\mathbf{w}_t)$. Components of $\\mathbf{w}$ that have contributed most recently, or most frequently to preceding state valuations are assigned the most credit, and are said to be the most 'eligible' for an update. Concretely, each component of $\\mathbf{w}$ is updated in proportion to the scalar TD error and it's corresponding component in the vector eligibility trace.\n",
    "\n",
    "$$\\mathbf{w}_{t+1} = \\mathbf{w}_t + \\alpha \\delta_t \\mathbf{z}_t. $$\n",
    "\n",
    "In forward view n-step TD we can imagine the agent moving through state space with a telescope, looking ahead to future rewards and states in order to evaluate the currently visited state. In the backward view TD($\\lambda$), we can imagine the same agent moving through state space with a blindfold, computing the TD error at each state visited, and shouting this back to previously visited states. \n",
    "\n",
    "When $\\lambda = 0$ the trace is exactly the state-value gradient for $S_t$, and the update for $\\mathbf{w}$ reduces to the one-step semi-gradient TD update. When $\\lambda = 1$ the trace decays only according to $\\gamma$ and, although this is not as trivial to see, the update reduces to the MC update. Intermediate values of $\\lambda$ represent intermediate levels of bootstrapping between these two extremes, just as intermediate values of $n$ represent intermedidate levels of bootstrapping in the n-step TD algorithm.\n",
    "\n",
    "In fact it can be shown that the TD($\\lambda$) is exactly equivalent to n-step TD, but with the n-step return $G_{t:t+n}$ replaced by a compund return composed of a weighted average of $\\textit{all}$ the n-step returns, each weighted proportional to\n",
    "$\\lambda^{n-1}$ (the same $\\lambda$ as above) and normalised by a factor of $1-\\lambda$ to ensure that the weights sum to $1$. This is called the $\\lambda$-return, $G_t^\\lambda$.\n",
    "\n",
    "$$ G_t^\\lambda = (1 - \\lambda) \\sum_{n=1}^\\infty \\lambda^{n-1}G_{t:t+n}. $$\n",
    "\n",
    "This equivalence can be seen easily for the cases $\\lambda = 0$ and $\\lambda = 1$. In the former case $G_t^\\lambda$ reduces to $G_{t:t+1}$, the one-step TD return, and in the latter it reduces to $G_t$, the complete MC return, matching the behaviour of TD($\\lambda$) above.\n",
    "\n",
    "The advantages of eligibilty traces over n-step methods are clear. Updates are now perfomed continually and uniformly in time rather than being delayed $n$ steps and then catching up at the end of the episode (note that for the $\\lambda$-return we would actually have to wait all the way until the end of the episode to make the first update since only then is the longest of its component returns available). This means that learning can occur and affect behaviour immediately after a state is encountered rather than being delayed $n$ steps. Additionally, now only a single trace vector needs storing rather than the last n feature vectors.\n",
    "\n",
    "The formulation we have used for the eligibility trace is called the accumulating trace: each time a state is visited the corresponding components of $\\mathbf{z}$ are bumped up, decaying away between visits. Another kind of trace is called the replacing trace, which resets the components back to $1$ on each state visit rather than growing them any futher."
   ]
  },
  {
   "cell_type": "markdown",
   "metadata": {},
   "source": [
    "# Notes "
   ]
  },
  {
   "cell_type": "markdown",
   "metadata": {},
   "source": [
    "In order to convert one-step TD to an on-policy control method, all we need to do is switch state-values for action-values in the TD update rule and then follow an $\\epsilon$-greedy policy. Since the update rule depends on the quintuple of events $(S_t, A_t, R_t, S_{t+1}, A_{t+1})$, the algorithm is called one-step Sarsa. The extension \n",
    "\n",
    "n-step sarsa is the extension of n-step TD policy evaluation to on-policy control. All this requires is swapping state-values for action-values, and then acting according to an $\\epsilon$-greedy policy.   \n",
    "\n",
    "\n",
    "we need to do is switch the state value function for the action-value function and follow\n",
    "\n",
    "TD prediction to sarsa control: The main idea is to simply switch states for actions (state–action pairs) and then use an ε-greedy policy"
   ]
  },
  {
   "cell_type": "markdown",
   "metadata": {},
   "source": [
    "Policy iteration consists of two simultaneous, interacting processes, one making the value function\n",
    "consistent with the current policy (policy evaluation), and the other making the policy greedy with\n",
    "respect to the current value function (policy improvement)."
   ]
  },
  {
   "cell_type": "markdown",
   "metadata": {},
   "source": [
    "Roughly speaking, Monte Carlo methods use an estimate of (6.3) as a target, whereas DP methods use\n",
    "an estimate of (6.4) as a target. The Monte Carlo target is an estimate because the expected value\n",
    "in (6.3) is not known; a sample return is used in place of the real expected return. The DP target\n",
    "is an estimate not because of the expected values, which are assumed to be completely provided by a\n",
    "model of the environment, but because vπ(St+1) is not known and the current estimate, V (St+1), is\n",
    "used instead. The TD target is an estimate for both reasons: it samples the expected values in (6.4)\n",
    "and it uses the current estimate V instead of the true vπ. Thus, TD methods combine the sampling of\n",
    "Monte Carlo with the bootstrapping of DP. As we shall see, with care and imagination this can take us\n",
    "a long way toward obtaining the advantages of both Monte Carlo and DP methods.\n",
    "\n",
    "n-step TD methods take a forward view. They update the values of states by looking ahead to the values of future states. They look ahead to the next n rewards, states, and actions. This works well, but means that the target for Vt is not actually available until n steps into the future, so the updates are not equally distributed in time. Rather, there is a delay of n steps at the start of an episode before we catch up n steps at the end of the episode.\n",
    "\n",
    "We need not pick just one n to bootstrap over. We could form a compound target which combines targets of multiple levels of bootstrap. This is computationally expensive - we have to wait until the target for the longest n is available. \n",
    "\n",
    "An alternative approach is to convert the forward view n-step TD algorithm into a backward view version. That way updates can be uniformly spaced in time and it is an efficient say to bootstrap over multiple time intervals simultaneously. \n",
    "\n",
    "TD lambda methods effectively allow bootstrapping over multiple time intervals simultaneously.\n",
    "\n",
    "The primary computational advantage of eligibility traces over n-step methods is that only a single\n",
    "trace vector is required rather than a store of the last n feature vectors. Learning also occurs continually\n",
    "and uniformly in time rather than being delayed and then catching up at the end of the episode. In\n",
    "addition learning can occur and affect behavior immediately after a state is encountered rather than\n",
    "being delayed n steps.\n",
    "\n",
    "Now we note that a valid update can be done not just toward any n-step return, but toward any\n",
    "average of n-step returns.\n",
    "\n",
    "A compound update can only be done when the longest of its component\n",
    "updates is complete.\n",
    "\n",
    "The TD(λ) algorithm can be understood as one particular way of averaging n-step\n",
    "updates.This average contains all the n-step updates, each weighted proportional to\n",
    "λ\n",
    "n−1\n",
    ", where λ ∈ [0, 1], and is normalized by a factor of 1 − λ to ensure that the weights\n",
    "sum to 1 (see Figure 12.1). The resulting update is toward a return, called the λ-return,\n",
    "defined in its state-based form by: . Off-line lambda return. As an off-line algorithm, it makes no changes to the weight vector during the episode.\n",
    "Then, at the end of the episode, a whole sequence of off-line updates are made according to our usual\n",
    "semi-gradient rule, using the λ-return as the target:\n",
    "\n",
    "The approach that we have been taking so far is what we call the theoretical, or forward, view of a\n",
    "learning algorithm. For each state visited, we look forward in time to all the future rewards and decide\n",
    "how best to combine them. We might imagine ourselves riding the stream of states, looking forward\n",
    "from each state to determine its update, as suggested by Figure 12.4. After looking forward from and\n",
    "updating one state, we move on to the next and never have to work with the preceding state again.Future states, on the other hand, are viewed and processed repeatedly, once from each vantage point\n",
    "preceding them.\n",
    "\n",
    "empirically it approximates the off-line λ-return algorithm.\n",
    "\n",
    "TD(λ) improves over the off-line λ-return algorithm in three ways. First it updates the weight vector\n",
    "on every step of an episode rather than only at the end, and thus its estimates may be better sooner.\n",
    "Second, its computations are equally distributed in time rather that all at the end of the episode. And\n",
    "third, it can be applied to continuing problems rather than just episodic problems. In this section we\n",
    "present the semi-gradient version of TD(λ) with function approximation.\n",
    "\n",
    "TD(λ) is oriented backward in time. At each moment we look at the current TD error and assign\n",
    "it backward to each prior state according to how much that state contributed to the current eligibility\n",
    "trace at that time. We might imagine ourselves riding along the stream of states, computing TD errors,\n",
    "and shouting them back to the previously visited states, as suggested by Figure 12.5. Where the TD\n",
    "error and traces come together, we get the update given by (12.7).\n",
    "\n",
    "We say that the earlier states are given less credit for the TD error.\n",
    "\n",
    "TD(1) is a way of implementing Monte Carlo algorithms that is more general than those presented\n",
    "earlier and that significantly increases their range of applicability. Whereas the earlier Monte Carlo\n",
    "methods were limited to episodic tasks, TD(1) can be applied to discounted continuing tasks as well.\n",
    "Moreover, TD(1) can be performed incrementally and on-line. One disadvantage of Monte Carlo methods\n",
    "is that they learn nothing from an episode until it is over. For example, if a Monte Carlo control\n",
    "method takes an action that produces a very poor reward but does not end the episode, then the agent’s\n",
    "tendency to repeat the action will be undiminished during the episode. On-line TD(1), on the other\n",
    "hand, learns in an n-step TD way from the incomplete ongoing episode, where the n steps are all the\n",
    "way up to the current step. If something unusually good or bad happens during an episode, control\n",
    "methods based on TD(1) can learn immediately and alter their behavior on that same episode.\n",
    "\n",
    "Sarsa(lambda): Very few changes in the ideas already presented in this chapter are required in order to extend eligibilitytraces\n",
    "to action-value methods. To learn approximate action values, ˆq(s, a, w), rather than approximate\n",
    "state values, ˆv(s,w), we need to use the action-value form of the n-step return, from Chapter 10:\n",
    "\n",
    "\n",
    "On-policy Control with\n",
    "Approximation\n",
    "\n",
    "To form control methods, we need to couple such action-value prediction methods with techniques\n",
    "for policy improvement and action selection. Suitable techniques applicable to continuous actions, or\n",
    "to actions from large discrete sets, are a topic of ongoing research with as yet no clear resolution.\n",
    "On the other hand, if the action set is discrete and not too large, then we can use the techniques\n",
    "already developed in previous chapters. That is, for each possible action a available in the current state\n",
    "St, we can compute ˆq(St, a, wt) and then find the greedy action A∗\n",
    "t = argmaxa\n",
    "qˆ(St, a, wt). Policy\n",
    "improvement is then done (in the on-policy case treated in this chapter) by changing the estimation\n",
    "policy to a soft approximation of the greedy policy such as the ε-greedy policy. Actions are selected\n",
    "according to this same policy\n",
    "\n",
    "True online TD (forward view), extension to action values, and True online TD (backward view approximation).\n",
    "\n",
    "Monte Carlo control methods do not suffer from this bias, as each update is made using a true sample of what Q(s,a) should be. However, Monte Carlo methods can suffer from high variance, which means more samples are required to achieve the same degree of learning compared to TD.\n",
    "\n",
    "\n",
    "If a model is not available, then it is particularly useful to estimate action values (the values of state–\n",
    "action pairs) rather than state values. With a model, state values alone are sufficient to determine a\n",
    "policy; one simply looks ahead one step and chooses whichever action leads to the best combination of\n",
    "reward and next state, as we did in the chapter on DP. Without a model, however, state values alone\n",
    "are not sufficient. One must explicitly estimate the value of each action in order for the values to be\n",
    "useful in suggesting a policy. Thus, one of our primary goals for Monte Carlo methods is to estimate\n",
    "q∗. To achieve this, we first consider the policy evaluation problem for action values\n",
    "\n",
    "TD prediction to sarsa control: The main idea is to simply switch states for actions (state–action pairs) and then use an ε-greedy\n",
    "policy\n",
    "\n",
    "A Monte-Carlo estimation method is not biased, but has a lot of variance since it uses the outcome of a complete episode to perform an update\n",
    "The variance comes from the fact that, at each interaction, there’s randomness involved in picking an action – in the case of a stochastic policy – and in the fact that the environment’s dynamics are also random (remember, we have a distribution over the possible next states, that depends on the current state and the action taken)."
   ]
  },
  {
   "cell_type": "code",
   "execution_count": 1,
   "metadata": {},
   "outputs": [],
   "source": [
    "%matplotlib inline\n",
    "\n",
    "import gym\n",
    "import itertools\n",
    "import matplotlib\n",
    "import numpy as np\n",
    "import sys\n",
    "import sklearn.pipeline\n",
    "import sklearn.preprocessing\n",
    "import timeit\n",
    "import time\n",
    "from collections import namedtuple\n",
    "\n",
    "if \"../\" not in sys.path:\n",
    "    sys.path.append(\"../\") \n",
    "\n",
    "from lib import plotting\n",
    "from lib.tile_coding import IHT, tiles\n",
    "from matplotlib import pyplot as plt\n",
    "matplotlib.style.use('ggplot')"
   ]
  },
  {
   "cell_type": "code",
   "execution_count": 2,
   "metadata": {},
   "outputs": [
    {
     "name": "stdout",
     "output_type": "stream",
     "text": [
      "\u001b[33mWARN: gym.spaces.Box autodetected dtype as <class 'numpy.float32'>. Please provide explicit dtype.\u001b[0m\n"
     ]
    }
   ],
   "source": [
    "env = gym.make(\"MountainCar-v0\")\n",
    "env._max_episode_steps = 3000  # Increase upper time limit so we can plot full behaviour"
   ]
  },
  {
   "cell_type": "code",
   "execution_count": 3,
   "metadata": {},
   "outputs": [],
   "source": [
    "class QEstimator():\n",
    "    \"\"\"\n",
    "    q-value function estimator. \n",
    "    \"\"\"\n",
    "    \n",
    "    def __init__(self, alpha, num_tilings=8, max_size=4096, trace=False):\n",
    "        \n",
    "        self.trace = trace\n",
    "        self.max_size = max_size\n",
    "        self.num_tilings = num_tilings\n",
    "\n",
    "        # divide step size equally between tiles\n",
    "        self.alpha = alpha / num_tilings\n",
    "\n",
    "        self.iht = IHT(max_size)\n",
    "\n",
    "        # weight for each tile\n",
    "        self.weights = np.zeros(max_size)\n",
    "        if self.trace:\n",
    "            self.z = np.zeros(max_size)\n",
    "\n",
    "        # tilecoding software expects position and velocity to be normalized\n",
    "        self.position_scale = self.num_tilings / (env.observation_space.high[0] \\\n",
    "                                                  - env.observation_space.low[0])\n",
    "        self.velocity_scale = self.num_tilings / (env.observation_space.high[1] \\\n",
    "                                                  - env.observation_space.low[1])\n",
    "\n",
    "        \n",
    "    def featurize_state_action(self, state, action):\n",
    "        \"\"\"\n",
    "        Returns the featurized representation for a state-action pair.\n",
    "        \"\"\"\n",
    "        featurized = tiles(self.iht, self.num_tilings, \n",
    "                           [self.position_scale * state[0], \n",
    "                            self.velocity_scale * state[1]], \n",
    "                           [action])\n",
    "        return featurized\n",
    "    \n",
    "    def predict(self, s, a=None):\n",
    "        \"\"\"\n",
    "        Predicts q-value function using linear FA.\n",
    "        If action a is given then returns prediction\n",
    "        for single state-action pair (s, a).\n",
    "        Otherwise returns predictions for all actions \n",
    "        in environment paired with s.   \n",
    "        \"\"\"\n",
    "    \n",
    "        if a is None:\n",
    "            features = [self.featurize_state_action(s, i) for \n",
    "                        i in range(env.action_space.n)]\n",
    "        else:\n",
    "            features = [self.featurize_state_action(s, a)]\n",
    "            \n",
    "        return [np.sum(self.weights[f]) for f in features]\n",
    "        \n",
    "            \n",
    "    def update(self, s, a, target):\n",
    "        \"\"\"\n",
    "        Updates the estimator parameters for a given state and action towards\n",
    "        the target, using an eligibility trace if one has been set.\n",
    "        \"\"\"\n",
    "        features = self.featurize_state_action(s, a)\n",
    "        estimation = np.sum(self.weights[features])   # Linear FA\n",
    "        delta = (target - estimation)\n",
    "        \n",
    "        if self.trace:\n",
    "            # self.z[features] += 1  # accumulating trace\n",
    "            self.z[features] = 1  # replacing trace\n",
    "            self.weights += self.alpha * delta * self.z\n",
    "        else:\n",
    "            self.weights[features] += self.alpha * delta\n",
    "                \n",
    "    \n",
    "    def reset(self, z_only=False):\n",
    "        \n",
    "        if z_only:\n",
    "            assert self.trace, 'Q estimator has no z to reset.'\n",
    "            self.z = np.zeros(self.max_size)\n",
    "        else:\n",
    "            if self.trace:\n",
    "                self.z = np.zeros(self.max_size)\n",
    "            self.weights = np.zeros(self.max_size)\n",
    "        "
   ]
  },
  {
   "cell_type": "code",
   "execution_count": 4,
   "metadata": {},
   "outputs": [],
   "source": [
    "def make_epsilon_greedy_policy(estimator, epsilon, num_actions):\n",
    "    \"\"\"\n",
    "    Creates an epsilon-greedy policy based on a given q-value approximator and epsilon.    \n",
    "    \"\"\"\n",
    "    def policy_fn(observation):\n",
    "        action_probs = np.ones(num_actions, dtype=float) * epsilon / num_actions\n",
    "        q_values = estimator.predict(observation)\n",
    "        best_action_idx = np.argmax(q_values)\n",
    "        action_probs[best_action_idx] += (1.0 - epsilon)\n",
    "        return action_probs\n",
    "    return policy_fn"
   ]
  },
  {
   "cell_type": "code",
   "execution_count": 9,
   "metadata": {},
   "outputs": [],
   "source": [
    "def sarsa_n(n, env, estimator, gamma=1.0, epsilon=0.1):\n",
    "    \"\"\"\n",
    "    Sarsa(n) algorithm for finding approximate optimal q-value function via Linear\n",
    "    FA with n-step TD updates.\n",
    "    \"\"\"\n",
    "    \n",
    "    # Create epsilon-greedy policy\n",
    "    policy = make_epsilon_greedy_policy(\n",
    "        estimator, epsilon, env.action_space.n)\n",
    "\n",
    "    # Reset the environment and pick the first action\n",
    "    state = env.reset()\n",
    "    action_probs = policy(state)\n",
    "    action = np.random.choice(np.arange(len(action_probs)), p=action_probs)\n",
    "\n",
    "    # Set up trackers\n",
    "    states = [state]\n",
    "    actions = [action]\n",
    "    rewards = [0.0]\n",
    "\n",
    "    # Step through episode\n",
    "    T = float('inf')\n",
    "    for t in itertools.count():\n",
    "        if t < T:           \n",
    "            # Take a step\n",
    "            next_state, reward, done, _ = env.step(action)\n",
    "            states.append(next_state)\n",
    "            rewards.append(reward)\n",
    "\n",
    "            if done:\n",
    "                T = t + 1\n",
    "\n",
    "            else:\n",
    "                # Take next step\n",
    "                next_action_probs = policy(next_state)\n",
    "                next_action = np.random.choice(\n",
    "                    np.arange(len(next_action_probs)), p=next_action_probs)\n",
    "\n",
    "                actions.append(next_action)\n",
    "\n",
    "        update_time = t + 1 - n\n",
    "        if update_time >= 0:       \n",
    "            # Build target\n",
    "            target = 0\n",
    "            for i in range(update_time + 1, min(T, update_time + n) + 1):\n",
    "                target += np.power(gamma, i - update_time - 1) * rewards[i]\n",
    "            if update_time + n < T:\n",
    "                q_values_next = estimator.predict(states[update_time + n])\n",
    "                target += q_values_next[actions[update_time + n]]\n",
    "            \n",
    "            # Learn\n",
    "            estimator.update(states[update_time], actions[update_time], target)\n",
    "        \n",
    "        if update_time == T - 1:\n",
    "            break\n",
    "\n",
    "        state = next_state\n",
    "        action = next_action\n",
    "    \n",
    "    ret = np.sum(rewards)\n",
    "    \n",
    "    return t, ret"
   ]
  },
  {
   "cell_type": "code",
   "execution_count": 10,
   "metadata": {},
   "outputs": [],
   "source": [
    "def sarsa_lambda(lmbda, env, estimator, gamma=1.0, epsilon=0.1):\n",
    "    \n",
    "    \"\"\"\n",
    "    Sarsa(Lambda) algorithm for finding approximate optimal q-value function via Linear\n",
    "    FA with eligibility traces.\n",
    "    \"\"\"\n",
    "    \n",
    "    # reset the eligibility trace\n",
    "    estimator.reset(z_only=True)\n",
    "\n",
    "    # Create epsilon-greedy policy\n",
    "    policy = make_epsilon_greedy_policy(\n",
    "        estimator, epsilon, env.action_space.n)\n",
    "\n",
    "    # Reset the environment and pick the first action\n",
    "    state = env.reset()\n",
    "    action_probs = policy(state)\n",
    "    action = np.random.choice(np.arange(len(action_probs)), p=action_probs)\n",
    "\n",
    "    ret = 0\n",
    "    # Step through episode\n",
    "    for t in itertools.count():\n",
    "        # Take a step\n",
    "        next_state, reward, done, _ = env.step(action)\n",
    "        ret += reward\n",
    "\n",
    "        if done:\n",
    "            target = reward\n",
    "            estimator.update(state, action, target)\n",
    "            break\n",
    "\n",
    "        else:\n",
    "            # Take next step\n",
    "            next_action_probs = policy(next_state)\n",
    "            next_action = np.random.choice(\n",
    "                np.arange(len(next_action_probs)), p=next_action_probs)\n",
    "\n",
    "            # Estimate q-value at next state-action\n",
    "            q_new = estimator.predict(\n",
    "                next_state, next_action)[0]\n",
    "            target = reward + gamma * q_new\n",
    "            estimator.update(state, action, target)\n",
    "            estimator.z *= gamma * lmbda\n",
    "\n",
    "        state = next_state\n",
    "        action = next_action    \n",
    "    \n",
    "    return t, ret\n",
    "    "
   ]
  },
  {
   "cell_type": "code",
   "execution_count": 11,
   "metadata": {},
   "outputs": [],
   "source": [
    "def run(algorithm, num_episodes, **algorithm_kwargs):\n",
    "    steps = []\n",
    "    returns = []\n",
    "    for i in range(num_episodes):\n",
    "        episode_steps, episode_return = algorithm(**algorithm_kwargs)\n",
    "        steps.append(episode_steps)\n",
    "        returns.append(episode_return)\n",
    "        sys.stdout.flush()\n",
    "        print(\"\\rEpisode {}/{} Return {}\".format(\n",
    "            i + 1, num_episodes, episode_return), end=\"\")\n",
    "    return steps, returns"
   ]
  },
  {
   "cell_type": "code",
   "execution_count": 15,
   "metadata": {},
   "outputs": [],
   "source": [
    "def display_greedy_policy(estimator, env):\n",
    "    \n",
    "    # Set epsilon to zero to follow greedy policy w.r.t learned\n",
    "    # value function.\n",
    "    policy = make_epsilon_greedy_policy(\n",
    "        estimator=estimator, epsilon=0, num_actions=env.action_space.n)\n",
    "    \n",
    "    state = env.reset()\n",
    "    for t in itertools.count():\n",
    "        time.sleep(0.01)\n",
    "        action_probs = policy(state)\n",
    "        [action] = np.nonzero(action_probs)[0]  # greedy action\n",
    "        state, _, done, _ = env.step(action)\n",
    "        env.render()\n",
    "        if done:\n",
    "            print('Solved in {} steps'.format(t))\n",
    "            break"
   ]
  },
  {
   "cell_type": "code",
   "execution_count": 16,
   "metadata": {},
   "outputs": [
    {
     "name": "stdout",
     "output_type": "stream",
     "text": [
      "Episode 500/500 Return -159.0"
     ]
    },
    {
     "data": {
      "image/png": "[encoded data removed]",
      "text/plain": [
       "<Figure size 720x360 with 2 Axes>"
      ]
     },
     "metadata": {},
     "output_type": "display_data"
    },
    {
     "name": "stdout",
     "output_type": "stream",
     "text": [
      "Solved in 94 steps\n"
     ]
    }
   ],
   "source": [
    "estimator_n = QEstimator(alpha=0.5)\n",
    "steps_n, _ = run(sarsa_n, num_episodes=500, n=4, env=env, estimator=estimator_n, \n",
    "    gamma=1, epsilon=0)\n",
    "plotting.plot_cost_to_go(env, estimator_n)\n",
    "display_greedy_policy(estimator_n, env)"
   ]
  },
  {
   "cell_type": "code",
   "execution_count": 17,
   "metadata": {},
   "outputs": [
    {
     "name": "stdout",
     "output_type": "stream",
     "text": [
      "Episode 500/500 Return -109.0"
     ]
    },
    {
     "data": {
      "image/png": "[encoded data removed]",
      "text/plain": [
       "<Figure size 720x360 with 2 Axes>"
      ]
     },
     "metadata": {},
     "output_type": "display_data"
    },
    {
     "name": "stdout",
     "output_type": "stream",
     "text": [
      "Solved in 107 steps\n"
     ]
    }
   ],
   "source": [
    "estimator_lambda = QEstimator(alpha=0.5, trace=True)\n",
    "steps_lambda, _ = run(sarsa_lambda, num_episodes=500, lmbda=0.92, \n",
    "                      env=env, estimator=estimator_lambda, gamma=1, epsilon=0)\n",
    "plotting.plot_cost_to_go(env, estimator_lambda)\n",
    "display_greedy_policy(estimator_lambda, env)"
   ]
  },
  {
   "cell_type": "code",
   "execution_count": 18,
   "metadata": {},
   "outputs": [
    {
     "data": {
      "image/png": "[encoded data removed]",
      "text/plain": [
       "<Figure size 720x360 with 1 Axes>"
      ]
     },
     "metadata": {},
     "output_type": "display_data"
    }
   ],
   "source": [
    "steps = {'n-step': steps_n, 'lambda': steps_lambda}\n",
    "plotting.plot_learning_curves(steps)"
   ]
  },
  {
   "cell_type": "code",
   "execution_count": 21,
   "metadata": {},
   "outputs": [],
   "source": [
    "def run_grid_search(algorithm, alphas, bootstrappings, episodes=100, runs=5,\n",
    "                    truncate_steps=400, trace=False, **algorithm_kwargs):\n",
    "    \n",
    "    bootstrapping_type = 'lambda' if trace else 'n-step'\n",
    "    steps = np.zeros((len(bootstrappings), len(alphas)))\n",
    "    for run in range(runs):\n",
    "        for b_idx, bootstrapping in enumerate(bootstrappings):\n",
    "            for a_idx, alpha in enumerate(alphas):\n",
    "                estimator = QEstimator(alpha=alpha, trace=trace)\n",
    "                for episode in range(episodes):\n",
    "                    print(\n",
    "                        '\\r run: {}, {}: {}, alpha: {}, episode: {}'.format(\n",
    "                            run, bootstrapping_type, \n",
    "                            bootstrapping, alpha, episode), end=\"\")\n",
    "                    episode_steps, _ = algorithm(\n",
    "                        bootstrapping, estimator=estimator, **algorithm_kwargs)\n",
    "                    steps[b_idx, a_idx] += episode_steps\n",
    "    \n",
    "    # average over independent runs and episodes\n",
    "    steps /= runs * episodes\n",
    "    \n",
    "    # truncate high step values for better display\n",
    "    steps[steps > truncate_steps] = truncate_steps\n",
    "\n",
    "    plt.figure()\n",
    "    for b_idx in range(len(bootstrappings)):\n",
    "        plt.plot(alphas, steps[b_idx, :], \n",
    "            label='{}: {}'.format(bootstrapping_type, bootstrappings[b_idx]))\n",
    "    plt.xlabel('alpha * number of tilings(8)')\n",
    "    plt.ylabel('Average steps per episode')\n",
    "    plt.ylim(140, truncate_steps - 100)\n",
    "    plt.legend()"
   ]
  },
  {
   "cell_type": "code",
   "execution_count": 22,
   "metadata": {},
   "outputs": [
    {
     "name": "stdout",
     "output_type": "stream",
     "text": [
      " run: 0, n-step: 16, alpha: 1.7000000000000002, episode: 71"
     ]
    },
    {
     "name": "stderr",
     "output_type": "stream",
     "text": [
      "/Users/michaeloneill/Documents/RL/venv/lib/python3.5/site-packages/numpy/core/_methods.py:32: RuntimeWarning: overflow encountered in reduce\n",
      "  return umr_sum(a, axis, dtype, out, keepdims)\n",
      "/Users/michaeloneill/Documents/RL/venv/lib/python3.5/site-packages/ipykernel_launcher.py:62: RuntimeWarning: invalid value encountered in double_scalars\n"
     ]
    },
    {
     "name": "stdout",
     "output_type": "stream",
     "text": [
      " run: 1, n-step: 8, alpha: 1.7000000000000002, episode: 88"
     ]
    },
    {
     "name": "stderr",
     "output_type": "stream",
     "text": [
      "/Users/michaeloneill/Documents/RL/venv/lib/python3.5/site-packages/ipykernel_launcher.py:69: RuntimeWarning: invalid value encountered in add\n"
     ]
    },
    {
     "name": "stdout",
     "output_type": "stream",
     "text": [
      " run: 4, n-step: 16, alpha: 1.7000000000000002, episode: 99"
     ]
    },
    {
     "ename": "NameError",
     "evalue": "name 'bootsrapping_type' is not defined",
     "output_type": "error",
     "traceback": [
      "\u001b[0;31m---------------------------------------------------------------------------\u001b[0m",
      "\u001b[0;31mNameError\u001b[0m                                 Traceback (most recent call last)",
      "\u001b[0;32m<ipython-input-22-7f4afb179309>\u001b[0m in \u001b[0;36m<module>\u001b[0;34m()\u001b[0m\n\u001b[1;32m      2\u001b[0m \u001b[0mns\u001b[0m \u001b[0;34m=\u001b[0m \u001b[0mnp\u001b[0m\u001b[0;34m.\u001b[0m\u001b[0mpower\u001b[0m\u001b[0;34m(\u001b[0m\u001b[0;36m2\u001b[0m\u001b[0;34m,\u001b[0m \u001b[0mnp\u001b[0m\u001b[0;34m.\u001b[0m\u001b[0marange\u001b[0m\u001b[0;34m(\u001b[0m\u001b[0;36m0\u001b[0m\u001b[0;34m,\u001b[0m \u001b[0;36m5\u001b[0m\u001b[0;34m)\u001b[0m\u001b[0;34m)\u001b[0m\u001b[0;34m\u001b[0m\u001b[0m\n\u001b[1;32m      3\u001b[0m run_grid_search(sarsa_n, alphas, ns, trace=False, \n\u001b[0;32m----> 4\u001b[0;31m                 env=env, gamma=1, epsilon=0)\n\u001b[0m",
      "\u001b[0;32m<ipython-input-21-358066ec579b>\u001b[0m in \u001b[0;36mrun_grid_search\u001b[0;34m(algorithm, alphas, bootstrappings, episodes, runs, truncate_steps, trace, **algorithm_kwargs)\u001b[0m\n\u001b[1;32m     26\u001b[0m     \u001b[0;32mfor\u001b[0m \u001b[0mb_idx\u001b[0m \u001b[0;32min\u001b[0m \u001b[0mrange\u001b[0m\u001b[0;34m(\u001b[0m\u001b[0mlen\u001b[0m\u001b[0;34m(\u001b[0m\u001b[0mbootstrappings\u001b[0m\u001b[0;34m)\u001b[0m\u001b[0;34m)\u001b[0m\u001b[0;34m:\u001b[0m\u001b[0;34m\u001b[0m\u001b[0m\n\u001b[1;32m     27\u001b[0m         plt.plot(alphas, steps[b_idx, :], \n\u001b[0;32m---> 28\u001b[0;31m             label='{}: {}'.format(bootsrapping_type, bootstrappings[b_idx]))\n\u001b[0m\u001b[1;32m     29\u001b[0m     \u001b[0mplt\u001b[0m\u001b[0;34m.\u001b[0m\u001b[0mxlabel\u001b[0m\u001b[0;34m(\u001b[0m\u001b[0;34m'alpha * number of tilings(8)'\u001b[0m\u001b[0;34m)\u001b[0m\u001b[0;34m\u001b[0m\u001b[0m\n\u001b[1;32m     30\u001b[0m     \u001b[0mplt\u001b[0m\u001b[0;34m.\u001b[0m\u001b[0mylabel\u001b[0m\u001b[0;34m(\u001b[0m\u001b[0;34m'Average steps per episode'\u001b[0m\u001b[0;34m)\u001b[0m\u001b[0;34m\u001b[0m\u001b[0m\n",
      "\u001b[0;31mNameError\u001b[0m: name 'bootsrapping_type' is not defined"
     ]
    },
    {
     "data": {
      "text/plain": [
       "<Figure size 432x288 with 0 Axes>"
      ]
     },
     "metadata": {},
     "output_type": "display_data"
    }
   ],
   "source": [
    "alphas = np.arange(0.1, 1.8, 0.1)\n",
    "ns = np.power(2, np.arange(0, 5))\n",
    "run_grid_search(sarsa_n, alphas, ns, trace=False, \n",
    "                env=env, gamma=1, epsilon=0)"
   ]
  },
  {
   "cell_type": "code",
   "execution_count": null,
   "metadata": {},
   "outputs": [],
   "source": [
    "lambdas = np.array([0, 0.68, 0.84, 0.92, 0.98, 0.99])\n",
    "run_grid_search(sarsa_lambda, alphas, lambdas, trace=True, \n",
    "                env=env, gamma=1, epsilon=0):"
   ]
  },
  {
   "cell_type": "code",
   "execution_count": null,
   "metadata": {},
   "outputs": [],
   "source": []
  }
 ],
 "metadata": {
  "kernelspec": {
   "display_name": "venv",
   "language": "python",
   "name": "venv"
  },
  "language_info": {
   "codemirror_mode": {
    "name": "ipython",
    "version": 3
   },
   "file_extension": ".py",
   "mimetype": "text/x-python",
   "name": "python",
   "nbconvert_exporter": "python",
   "pygments_lexer": "ipython3",
   "version": "3.5.1"
  }
 },
 "nbformat": 4,
 "nbformat_minor": 2
}
