{
 "cells": [
  {
   "cell_type": "markdown",
   "metadata": {},
   "source": [
    "# Reinforcement Learning Tutorial: <br>Semi-gradient n-step Sarsa and Sarsa($\\lambda$)<br>Theory and Implementation"
   ]
  },
  {
   "cell_type": "markdown",
   "metadata": {},
   "source": [
    "Reinforcement Learning (RL) is an exciting area of A.I that offers something entirely different to supervised or unsupervised techniques. In RL, an 'agent' learns to interact with an environment in a way that maximises the reward it receives with respect to some task. RL is distinct from supervised learning, which specifies via labelled examples the correct way for a system to act in every situation (whereas in RL only the end goal is specified, but not how to achieve it). It is also distinct from unsupervised learning, which although not dependent on examples of correct behaviour either, is concerned with finding hidden structure in unlabelled data rather than maximising reward signals.\n",
    "\n",
    "This tutorial focuses on two important and widely used RL algorithms, semi-gradient n-step Sarsa and Sarsa($\\lambda$), as applied to the Mountain Car problem. These algorithms, aside from being useful, pull together a lot of the key concepts in RL and so provide a great way to learn about RL more generally. Value functions, policy iteration, on vs off-policy control, bootstrapping, tabular vs approximate solution methods, state featurization and eligibility traces can all be understood by studying these two algorithms.\n",
    "\n",
    "[Part 1](#theory) of the tutorial summarises the key theoretical concepts in RL that n-step Sarsa and Sarsa($\\lambda$) draw upon. [Part 2](#implementation) implements each algorithm and its associated dependencies. [Part 3](#experiments) compares the performance of each algorithm through a number of simulations. [Part 4](#conclusion) wraps up and provides direction for further study.\n",
    "\n",
    "The two main resources I drew upon to make this tutorial were [Sutton and Barto's Introduction to Reinforcement Learning](http://www.incompleteideas.net/book/bookdraft2017nov5.pdf) (imges were also taken from here) and [Denny Britz's excellent implementations](https://github.com/dennybritz/reinforcement-learning) of some of the algorithms therein. The implementation for the [Mountain Car environment](https://gym.openai.com/envs/MountainCarContinuous-v0/) was imported from the OpenAI Gym, and the tile coding software used for state featurization was also from Sutton and Barto, installed from [here](http://incompleteideas.net/tiles/tiles3.html)."
   ]
  },
  {
   "cell_type": "markdown",
   "metadata": {},
   "source": [
    "## 1 &nbsp; Theory <a id='theory'></a>"
   ]
  },
  {
   "cell_type": "markdown",
   "metadata": {},
   "source": [
    "We first cover the key concepts in RL that n-step Sarsa and Sarsa($\\lambda$) draw upon."
   ]
  },
  {
   "cell_type": "markdown",
   "metadata": {},
   "source": [
    "### 1.1 &nbsp; Value Functions <a id='value_functions'></a>"
   ]
  },
  {
   "cell_type": "markdown",
   "metadata": {},
   "source": [
    "Nearly all reinforcement learning algorithms involve estimating value functions, functions of states (or state-actions) that quantify how good it is for an agent to be in a particular state (or state-action pair), where 'good' is defined in terms of the rewards expected to follow from that state (or state-action pair) in the future. The rewards that can be expected depend on which actions will be taken, and so value functions must be defined with respect to particular policies $\\pi(a | s)$, which map from states to actions.\n",
    "\n",
    "Formally, the state-value of $s$ under policy $\\pi$ is defined as the expected $\\textit{return}$ $G_t = \\sum_0^\\infty \\gamma^k R_{t+k+1}$ when starting from $S_t$ and following $\\pi$ thereafter: \n",
    "\n",
    "$$v_\\pi(s) = \\mathbb{E}_\\pi[G_t | S_t = s]$$ \n",
    "\n",
    "$R_t$ is the reward received at time step $t$ and $\\gamma$ is the discount rate, $ 0 \\leq \\gamma \\leq 1$, which controls the relative weighting between near and far-sighted rewards, and ensures that the sum is finite for continuing tasks (i.e. those that don't naturally break down into terminating episodes).\n",
    "\n",
    "Similarly, the action-value (a.k.a q-value) of (s, a) under policy $\\pi$ is defined as the expected return when taking action $a$ in state $s$ and following policy $\\pi$ thereafter: \n",
    "\n",
    "$$q_\\pi(s, a) = \\mathbb{E}_\\pi[G_t | S_t = s, A_t = a]$$"
   ]
  },
  {
   "cell_type": "markdown",
   "metadata": {},
   "source": [
    "### 1.2 &nbsp; Policy Evaluation and the Prediction Problem <a id='policy_evaluation'></a>"
   ]
  },
  {
   "cell_type": "markdown",
   "metadata": {},
   "source": [
    "If we have a model of the environment's transition dynamics  $p(s′,r|s,a)$ , i.e the probabilities of which states and actions lead to which next states and rewards, then the value functions can be computed analytically. However, most of the time the dynamics are not known and the value functions must instead be estimated from actual sample experience, giving rise to $V(S_t) \\approx v_\\pi(S_t)$ and $Q(S_t, A_t) \\approx q_\\pi(S_t, A_t)$. The general approach to computing these estimations is to have the agent follow $\\pi$ and maintain for each state (or state-action) a running average of the returns that follow. This boils down to iterating over an update rule with the following general form:\n",
    "\n",
    "$$NewEstimate \\gets OldEstimate + \\alpha\\ [Target - OldEstimate]$$\n",
    "\n",
    "$Target$ is just the return from the current state (or state-action). This could be the actual return $G_t$, or some estimation of it (as we shall see below). The name $Target$ is appropriate since it indicates the desirable direction in which to move. $\\alpha$ then indicates by how much to move in this direction. For an equally weighted average we would choose $\\alpha=1/n$, where $n$ is the number of times the given state (or state-action) has been visited so far. However, most reinforcement learning problems are non-stationary, meaning that the true state and state-action values change over time as the policy changes towards an optimal one (see below). In this case it makes more sense to give more weight to recent returns than long-past returns, which can be achieved by holding $\\alpha$ constant. The task of making the value estimates consistent with the current policy being followed is called the Prediction Problem."
   ]
  },
  {
   "cell_type": "markdown",
   "metadata": {},
   "source": [
    "### 1.3 &nbsp; Policy Improvement"
   ]
  },
  {
   "cell_type": "markdown",
   "metadata": {},
   "source": [
    "Policy evaluation is concerned with making the state or action-values consistent with the current policy being followed. Policy improvement is concerned with adjusting the current policy to one that when followed leads to a higher return. \n",
    "\n",
    "Policy improvement requires an estimate of the action-value function $Q(S_t, A_t) \\approx q_\\pi(S_t, A_t)$ as opposed to an estimate of the state-value function $V(S_t) \\approx v_\\pi(S_t)$, assuming the environments transition dynamics are not known. This is because whilst $V(S_t)$ tells you which states have the highest values, it does not tell you which actions lead to which states (we can't look ahead). $Q(S_t, A_t)$, however, directly caches the value of taking a particular action in a particular state, and so it isn't necessary to look ahead to where that action leads in order to determine its value.\n",
    "\n",
    "Suppose then that we have determined a good approximation $Q$ to the action-value function $q_\\pi$ for an arbitrary policy $\\pi$ via policy evaluation. We can improve on this policy simply by selecting at each state $s$ the action that appears best according to $Q(s, a)$ i.e. by switching to a new policy $\\pi^\\prime$ that is 'greedy' with respect to $Q(s, a)$. The new greedy policy $\\pi^\\prime$ is guaranteed to be better than the original policy $\\pi$ for all $s$ and $a$."
   ]
  },
  {
   "cell_type": "markdown",
   "metadata": {},
   "source": [
    "### 1.4 &nbsp; Policy iteration and the Control Problem"
   ]
  },
  {
   "cell_type": "markdown",
   "metadata": {},
   "source": [
    "Once a policy has been improved using $Q(S_t, A_t) \\approx  q_\\pi(S_t, A_t)$ to yield a better policy $\\pi^\\prime$, we can then evaluate this new policy to find $Q(S_t, A_t) \\approx  q_{\\pi^\\prime}(S_t, A_t)$, before improving it once again to yield an even better policy $\\pi^{\\prime \\prime}$. By alternating these two processes, policy improvement and policy evaluation, we achieve a sequence of monotonically improving policies and value functions that converge towards the optimal policy and value function, $\\pi_*$ and $q_*$. This is called policy iteration. \n",
    "\n",
    "In policy iteration, each process completes before the other begins. This is not necessary and can slow down learning. Generalized policy iteration (GPI) refers to the general idea of letting the policy improvement and evaluation processes interact at an arbitrary level of granularity. For example, policy evaluation could be truncated after a single sweep of the state set, or when the task is episodic, after just a single episode, before performing a step of policy improvement. The latter is the approach we take in the implementations of this tutorial. The task of learning optimal policies in general is called the Control Problem.\n",
    "\n",
    "\n",
    "<center><img src=\"images/policy_iteration.png\" width=\"180\"></center>"
   ]
  },
  {
   "cell_type": "markdown",
   "metadata": {},
   "source": [
    "### 1.5 &nbsp; On Policy vs Off-Policy Control <a id='on_off_policy'></a>"
   ]
  },
  {
   "cell_type": "markdown",
   "metadata": {},
   "source": [
    "Policy iteration is only guaranteed to converge if each action is selected infinitely often in the limit. This will not be the case in the approach described above, since by always making the policy greedy with the current action-value function, we prevent exploration of the non-greedy actions. This problem can be mitigated if exploring starts are enforced, where each state has a non-zero probability of being selected to start the episode. However, for most practical situations where episodes are simulated from real experience, this is an unlikely assumption to make.\n",
    "\n",
    "There are two other approaches to ensuring that all actions continue to be selected: on-policy and off-policy methods. In on-policy methods, \n",
    "we continually make the policy $\\epsilon$-greedy w.r.t the current value function rather than deterministically greedy. This means that most of the time the maximising action is selected, but with probability $\\epsilon$ it selects an action at random. Convergence is guaranteed, since all actions continue to be selected. However, convergence is not actually towards the optimal (greedy) policy, but rather to a nearby one that still explores. \n",
    "\n",
    "In off-policy methods we avoid the compromise of learning a policy that is only near-optimal by leveraging two separate policies, one that is continually made greedy w.r.t the current value function and so becomes the optimal policy (a.k.a the target policy), and another that is more exploratory and used to generate sample experience (a.k.a the behaviour policy). Importance sampling is the mechanism that allows us to learn about the target policy using data generated by the behaviour policy; we don't go into detail about this, since the examples in this tutorial use on-policy methods."
   ]
  },
  {
   "cell_type": "markdown",
   "metadata": {},
   "source": [
    "### 1.6 &nbsp; Tabular Solution Methods <a id='tabular_methods'></a>"
   ]
  },
  {
   "cell_type": "markdown",
   "metadata": {},
   "source": [
    "Here we describe the core model-free methods for learning optimal policies and value functions when the state and action spaces are small enough for us to learn distinct values for each and every state (or state-action). In this setting the value functions can be represented as arrays, or tables, which is why these methods are called tabular solution methods. These methods are distinguished only by the target used in the [update rule](#policy_evaluation) above, and so this is what we focus the discussion on.  "
   ]
  },
  {
   "cell_type": "markdown",
   "metadata": {},
   "source": [
    "#### 1.6.1 &nbsp; Monte Carlo (MC) Methods"
   ]
  },
  {
   "cell_type": "markdown",
   "metadata": {},
   "source": [
    "The target formed in Monte Carlo methods is simply $G_t$, the complete sample return. The MC update for state-values is therefore:\n",
    "\n",
    "$$ V(S_t) \\gets V(S_t) + \\alpha[G_t - V(S_t)]$$\n",
    "\n",
    "Since each $G_t$ is an unbiased estimator of $v_\\pi(s)$, i.e. $\\mathbb{E}[G_t | S_t = s] = v_\\pi(S_t)$, the average of these returns will converge in the long run to $v_\\pi(s)$. However, since the selection of actions in an episode is stochastic, there will be a high variance amongst the returns. Also, because $G_t$ is only available at the end of an episode, we must wait until then before we can make an update (i.e. updates are 'off-line'). Both of these things can result in slow learning.\n",
    "\n",
    "For action-values we simply switch $V(S_t)$ for $Q(S_t, A_t)$ in the update rule:\n",
    "\n",
    "$$ Q(S_t, A_t) \\gets Q(S_t, A_t) + \\alpha[G_t - Q(S_t, A_t)]$$"
   ]
  },
  {
   "cell_type": "markdown",
   "metadata": {},
   "source": [
    "#### 1.6.2 &nbsp; One-step Temporal Difference (TD) Methods"
   ]
  },
  {
   "cell_type": "markdown",
   "metadata": {},
   "source": [
    "The target formed in one-step TD methods is the truncated return $G_{t:t+1} = R_{t+1} + V(S_{t+1})$. In other words, $G_{t:t+1}$ is a re-estimation of the value of the current state made at the $\\textit{next}$ timestep $t+1$ (hence the name 'temporal difference'). The one-step TD update for state-values is thus:\n",
    "\n",
    "$$ V(S_t) \\gets V(S_t) + \\alpha[G_{t:t+1} - V(S_t)]$$\n",
    "\n",
    "Whilst the MC target was an unbiased estimate of $v_\\pi(S_t)$, this time it is biased, due to its dependence on the estimate $V(S_{t+1})$. Basing an estimate off of other estimates like this is called 'bootstrapping'. The payoff we get for introducing bias is lower variance, since the target only depends on one stochastic action selection. Also, whilst the MC target was only available at the end of the episode, this time it is available at $t+1$, since it only depends on the next state and reward. TD updates can therefore be performed 'on-line' (during an episode) which can result in faster learning (our value estimates are better sooner, enabling our agent to more immediately exploit anything that has changed).\n",
    "\n",
    "The fact that TD converges implies that the estimates of $v_\\pi(s)$ made at future time steps are better than those made at the current time step. This makes intuitive sense: if I asked you to estimate the length of your commute home as you got in the car, your re-estimate of that value once you've seen how much traffic there is on the motorway is likely to be more accurate.\n",
    "\n",
    "Once again for action-values we simply switch the $V$s for $Q$s in the update rule:\n",
    "\n",
    "$$ Q(S_t, A_t) \\gets Q(S_t, A_t) + \\alpha[G_{t:t+1} - Q(S_t, A_t)] $$\n",
    "\n",
    "with $G_{t:t+1} = R_{t+1} + Q(S_{t+1}, A_{t+1})$. This action-value update depends on every element of the quintuple of events $(S_t, A_t, R_{t+1}, S_{t+1}, A_{t+1})$, and so is referred to by the name one-step $\\textit{Sarsa}$. "
   ]
  },
  {
   "cell_type": "markdown",
   "metadata": {},
   "source": [
    "#### 1.6.3 &nbsp; n-step TD Methods"
   ]
  },
  {
   "cell_type": "markdown",
   "metadata": {},
   "source": [
    "n-step TD methods generalize one-step TD presented above. Whilst one-step TD methods use the target $G_{t:t+1} = R_{t+1} + V(S_{t+1})$, n-step TD methods use the target $G_{t:t+n} = R_{t+1} + \\gamma R_{t+2} + \\ldots + \\gamma^{n-1} R_{t+n} + \\gamma^n V_{t+n-1}(S_{t+n})$. In other words, one-step TD updates bootstrap from $V(S_{t+1})$, whilst n-step updates bootstrap from $V(S_{t+n})$. The n-step TD update for state-values is therefore:\n",
    "\n",
    "$$ V(S_t) \\gets V(S_t) + \\alpha[G_{t:t+n} - V(S_t)]$$\n",
    "\n",
    "As usual we arrive at the corresponding update for action-values by swapping the $V$s for $Q$s:\n",
    "\n",
    "$$ Q(S_t, A_t) \\gets Q(S_t, A_t) + \\alpha[G_{t:t+n} - Q(S_t, A_t)],$$\n",
    "\n",
    "with $G_{t:t+n} = R_{t+1} + \\gamma R_{t+2} + \\ldots + \\gamma^{n-1} R_{t+n} + \\gamma^n Q_{t+n-1}(S_{t+n}, A_{t+n})$. This action-value form is called n-step Sarsa, by analogy with one-step Sarsa above. \n",
    "\n",
    "n-step TD methods span a spectrum with one-step TD at one end (n=1) and MC at the other (n equal to the number of steps in the episode). Increasing n reduces the bias of the estimator (moving us closer towards the unbiased estimates of MC) but increases the variance, as well as the time we have to wait before we can make an update. Often intermediate values of n are are the most effective."
   ]
  },
  {
   "cell_type": "markdown",
   "metadata": {},
   "source": [
    "### 1.7 &nbsp; Approximate Solution Methods"
   ]
  },
  {
   "cell_type": "markdown",
   "metadata": {},
   "source": [
    "If there are very many states then it becomes impractical, both in terms of memory and time, to find accurate estimates of all states (or state-actions) like tabular methods. Instead we maintain our value function estimates as parameterized functions, $\\hat{v}(s, \\mathbf{w})$ and $\\hat{q}(s, a, \\mathbf{w})$, where $\\mathbf{w} \\in \\mathbb{R}^d$ is the weight vector, whose dimensionality $d$ is much less than the number of states. $\\mathbf{w}$ is learned via an update rule, in the same way that individual states and state-actions are in tabular methods. Because an update to the weight vector affects the values of many different states (and state-actions), approximate solution methods have the ability to generalise to previously unseen states (and state-actions)."
   ]
  },
  {
   "cell_type": "markdown",
   "metadata": {},
   "source": [
    "#### 1.7.1 &nbsp; Update Rule for Approximate Solution Methods <a id='approximate_update'></a>"
   ]
  },
  {
   "cell_type": "markdown",
   "metadata": {},
   "source": [
    "We borrow from supervised learning methodology in order to formulate the update rule for $\\mathbf{w}$, and thus learn the parameterised value functions $\\hat{v}(s, \\mathbf{w})$ and $\\hat{q}(s, a, \\mathbf{w})$. If we denote the update rule for state-values as $S_t \\to U_t$, where $S_t$ is the state whose value is to be updated and $U_t$ is a target that doesn't depend on $\\mathbf{w}$, then we can interpret $(S_t, U_t)$ as an input-output training example for $\\hat{v}$. If we use the mean squared error to represent prediction error for this example, $[U_t - \\hat{v}(S_t, \\mathbf{w})]^2$, then we can perform the weight vector update via stochastic gradient descent (SGD):\n",
    "\n",
    "$$\\begin{aligned} \n",
    "\\mathbf{w}_{t+1} &= \\mathbf{w}_t - \\frac{1}{2} \\alpha \\nabla \\left[U_t - \\hat{v}(S_t, \\mathbf{w}_t) \\right]^2 \\\\\n",
    "&= \\mathbf{w}_t + \\alpha \\left[U_t - \\hat{v}(S_t, \\mathbf{w}_t) \\right] \\nabla \\hat{v}(S_t, \\mathbf{w}_t)\n",
    "\\end{aligned}$$\n",
    "\n",
    "We arrive at the corresponding update step for action-values by substituting the $\\hat{v}$s for $\\hat{q}$s. "
   ]
  },
  {
   "cell_type": "markdown",
   "metadata": {},
   "source": [
    "#### 1.7.2 &nbsp; Gradient and Semi-gradient methods"
   ]
  },
  {
   "cell_type": "markdown",
   "metadata": {},
   "source": [
    "Each of the [tabular solution methods](#tabular_methods) has an approximate solution version that use the [gradient update rule](#approximate_update) above. Once again, these methods are distinguished by the target $U_t$ used. \n",
    "\n",
    "For example, the target for the approximate MC method is simply $U_t=G_t$, giving rise to 'Gradient MC' methods. The target for the approximate n-step TD method is $U_t=G_{t:t+n}$ (and similarly for n-step Sarsa). However, this bootstrapping target depends on the current value of $\\mathbf{w}$, which breaks the key assumption of the gradient update rule above. Methods that use this update are therefore called 'Semi-gradient' methods, since they ignore part of the gradient. Convergence is nonetheless assured in certain cases, for example when a linear value function approximator is used ([see below](#linear_approximation))."
   ]
  },
  {
   "cell_type": "markdown",
   "metadata": {},
   "source": [
    "#### 1.7.3 &nbsp; Semi-gradient TD($\\lambda$)"
   ]
  },
  {
   "cell_type": "markdown",
   "metadata": {},
   "source": [
    "Gradient MC and Semi-gradient n-step TD directly parallel their tabular counterparts. However, function approximation techniques also allow us to introduce something new, TD($\\lambda$). This method is a bit more subtle than those we have already met, and so requires a bit more explanation.\n",
    "\n",
    "MC and n-step TD methods takes a forward-view: values of states are updated by looking ahead to the values of future states. This works well, but means that the target is not actually available until $n$ steps into the future. This means that the updates are not equally distributed in time: our first update is delayed by $n$ steps from the start of an episode, and this leaves us $n$ updates to catch up after the episode has finished. Additionally, in order to perform each update we must maintain a store of the last $n$ feature vectors (and rewards), which comes with computational cost.\n",
    "\n",
    "TD($\\lambda$) converts these forward view methods into backward-view versions. The mechanism for this is a short-term memory vector, the eligibility trace $\\mathbf{z}_t \\in \\mathbb{R}^d$, that parallels the long-term weight vector $\\mathbf{w} \\in \\mathbb{R}^d$, keeping track of  which components of $\\mathbf{w}$ have contributed to recent state valuations. \n",
    "\n",
    "$$\\begin{align} &\\mathbf{z}_{-1} = \\mathbf{0} \\\\\n",
    " &\\mathbf{z}_t = \\gamma \\lambda \\mathbf{z}_{t-1} + \\nabla \\hat{v}(S_t, \\mathbf{w}_t), \\quad 0 \\leq t \\leq T,\\end{align}$$\n",
    " \n",
    "where $\\gamma$ is the usual discount rate, $\\lambda \\in [0, 1]$, and the product of these two quantities defines the concept of 'recent' in the description above.\n",
    "\n",
    "The trace indicates which components of $\\mathbf{w}$ deserve most credit for the error at the current state, where error is defined by the moment-by-moment one-step TD error, $\\delta_t = G_{t:t+1} - \\hat{v}(S_t, \\mathbf{w}_t)$. Components of $\\mathbf{w}$ that have contributed most recently, or most frequently to preceding state valuations are assigned the most credit, and are said to be the most 'eligible' for an update. Concretely, each component of $\\mathbf{w}$ is updated in proportion to the scalar TD error and it's corresponding component in the vector eligibility trace.\n",
    "\n",
    "$$\\mathbf{w}_{t+1} = \\mathbf{w}_t + \\alpha \\delta_t \\mathbf{z}_t. $$\n",
    "\n",
    "In forward view n-step TD we can imagine the agent moving through state space with a telescope, looking ahead to future rewards and states in order to evaluate the currently visited state. In the backward view TD($\\lambda$), we can imagine the same agent moving through state space with a blindfold, computing the TD error at each state visited, and shouting this back to previously visited states. \n",
    "\n",
    "When $\\lambda = 0$ the trace is exactly the state-value gradient for $S_t$, and the update for $\\mathbf{w}$ reduces to the one-step semi-gradient TD update. When $\\lambda = 1$ the trace decays only according to $\\gamma$ and, although this is not as trivial to see, the update reduces to the MC Gradient update. Intermediate values of $\\lambda$ represent intermediate levels of bootstrapping between these two extremes, just as intermediate values of $n$ represent intermediate levels of bootstrapping in the n-step TD algorithm.\n",
    "\n",
    "In fact it can be shown that the TD($\\lambda$) is exactly equivalent to n-step TD, but with the n-step return $G_{t:t+n}$ replaced by a compound return composed of a weighted average of $\\textit{all}$ the n-step returns, each weighted proportional to\n",
    "$\\lambda^{n-1}$ (the same $\\lambda$ as above) and normalised by a factor of $1-\\lambda$ to ensure that the weights sum to $1$. This is called the $\\lambda$-return, $G_t^\\lambda$.\n",
    "\n",
    "$$ G_t^\\lambda = (1 - \\lambda) \\sum_{n=1}^\\infty \\lambda^{n-1}G_{t:t+n}. $$\n",
    "\n",
    "This equivalence can be seen easily for the cases $\\lambda = 0$ and $\\lambda = 1$. In the former case $G_t^\\lambda$ reduces to $G_{t:t+1}$, the one-step TD return, and in the latter it reduces to $G_t$, the complete MC return, which is consistent with the behaviour of TD($\\lambda$) above.\n",
    "\n",
    "The advantages of eligibilty traces over n-step methods are clear. Updates are now performed continually and uniformly in time rather than being delayed $n$ steps and then catching up at the end of the episode (note that for the $\\lambda$-return we would actually have to wait all the way until the end of the episode to make the first update since only then is the longest of its component returns available). This means that learning can occur and affect behaviour immediately after a state is encountered rather than being delayed $n$ steps. Additionally, now only a single trace vector needs storing rather than the last n feature vectors.\n",
    "\n",
    "The formulation we have used for the eligibility trace is called the accumulating trace: each time a state is visited the corresponding components of $\\mathbf{z}$ are bumped up, decaying away between visits. Another kind of trace is called the replacing trace, which resets the components back to $1$ on each state visit rather than growing them any further (i.e. the frequency with which components of $\\mathbf{w}$ have contributed to recent state valuations is dropped as a measure of eligibility).\n",
    "\n",
    "Of course the concept of eligibility traces works for action-value function approximation methods too. As usual all that is required is to swap $\\hat{v}$s for $\\hat{q}$s in the discussion above. The resulting methods are called Sarsa($\\lambda$) methods."
   ]
  },
  {
   "cell_type": "markdown",
   "metadata": {},
   "source": [
    "#### 1.7.4 &nbsp; Linear Value Function Approximation <a id='linear_approximation'></a>"
   ]
  },
  {
   "cell_type": "markdown",
   "metadata": {},
   "source": [
    "An important special case of value function approximation (which can be applied to all the gradient and semi-gradient methods we have encountered so far) is that for which $\\hat{v}(s, \\mathbf{w})$ is a linear function of $\\mathbf{w}$:\n",
    "\n",
    "$$ \\hat{v}(s, \\mathbf{w}) = \\mathbf{w}^\\top \\mathbf{x}(s) = \\sum_i^d w_i x_i(s). $$\n",
    "\n",
    "$\\mathbf{x}(s)$ here is a featurized representation of $s$, of the same dimensions as $\\mathbf{w}$ ([see below](#feature_construction)). The gradient of the approximate value function with respect to $\\mathbf{w}$ in this linear case is simply $\\nabla \\hat{v}(s, \\mathbf{w}) = \\mathbf{x}(s)$, which reduces the SGD weight vector update to:\n",
    "\n",
    "$$ \\mathbf{w}_{t+1} = \\mathbf{w}_t + \\alpha \\left[U_t - \\hat{v}(S_t, \\mathbf{w}_t) \\right] \\mathbf{x}(S_t). $$\n",
    "\n",
    "For action-values, the $\\hat{v}$s are replaced with $\\hat{q}$s, and $\\mathbf{x}(s)$ becomes $\\mathbf{x}(s, a)$, the featurized representation of the state-action pair $(s, a)$. "
   ]
  },
  {
   "cell_type": "markdown",
   "metadata": {},
   "source": [
    "#### 1.7.5 &nbsp; Feature Construction for Linear Methods <a id='feature_construction'></a>"
   ]
  },
  {
   "cell_type": "markdown",
   "metadata": {},
   "source": [
    "Suppose our states $s$ have two numerical dimensions, or features, $s_1$ and $s_2$. For example, $s_1$ could be position and $s_2$ velocity, as is the case with the Mountain Car task that we consider in part 2 of this tutorial. The most natural 'featurization' for $s$ would be $\\mathbf{x} = (s_1, s_2)^\\top$.\n",
    "\n",
    "A limitation of the linear value function approximator is that it can't take into account interactions between features, such as a high value for $s_1$ only being good in the presence of a positive value for $s_2$ in the example above. The only way to model such interdependencies would be to include in the featurization of $s$ features that combine $s_1$ and $s_2$. For example, we could use a polynomial featurization such as $\\mathbf{x}(s) = (1, s_1, s_2, s_1s_2, s_1s_2^2, s_1^2s_2, s_1^2s_2^2)^\\top$.\n",
    "\n",
    "Tile coding is another way to construct features that is more flexible and scalable than polynomial featurization. In tile coding, the state space is covered by multiple tilings, with each tiling composed of multiple tiles. The tilings are offset from one another by a fraction of the tile width. The state featurization $\\mathbf{x}(s)$ has one feature for each tile in each tiling, so if there are $n$ tilings and $k \\times k$ tiles in each tiling, $\\mathbf{x}(s) \\in \\mathbb{R}^{n \\times k \\times k}$. A particular feature is $1$ (active) if the state falls within the corresponding tile and $0$ (inactive) otherwise. Since every position in state space falls in exactly one tile in each of the $n$ tilings, there are always $n$ active features in $\\mathbf{x}(s)$. \n",
    "\n",
    "\n",
    "<center><img src=\"images/tile_coding.png\" width=\"600\"></center>\n",
    "\n",
    "A nice side-effect of the above is that the learning rate $\\alpha$ in the [gradient update rule](#linear_approximation) can be set in an intuitive way. In particular, if $\\alpha=\\frac{1}{n}$, then the new estimate $\\hat{v}(s, \\mathbf{w}_{t+1}) = U_t$, regardless of the prior estimate $\\hat{v}(s, \\mathbf{w}_{t+1})$ (this follows from both the form of the gradient update rule as well as the form of $\\hat{v}(s, \\mathbf{w})$). Usually we only want to move some fraction ${x}$ of the way to the target $U_t$, which can be achieved by setting $\\alpha=\\frac{x}{n}$ instead. \n",
    "\n",
    "Tile coding ensures generalization because if we train at one state $s$, a single point in state space, then the weights associated with all ($n$) tiles covering $s$ will be updated. In turn, the approximate value function for all states within the union of these active tiles will change, proportional to the number of tiles they have in common. The shape and offset of the tiles will affect the type of generalization. For example, if the tiles are elongated along a particular dimension in state space, then generalization will extend further to states along this dimension. The number and size of the tiles will determine the finest level of discrimination possible between states - how far you have to move in state space in order to change at least one component of the featurization. \n",
    "\n",
    "Because tile coding uses binary features, the approximate value function $\\hat{v}(s, \\mathbf{w})$ in the linear case is almost trivial to compute:\n",
    "\n",
    "$$ \\hat{v}(s, \\mathbf{w}) = \\mathbf{w}^\\top \\mathbf{x}(s) = \\sum_i^d w_i x_i(s) \\equiv \\sum_{i \\in \\{x_i = 1\\}}w_i$$ \n",
    "\n",
    "In order to compute the approximate action-value function $\\hat{q}(s, a, \\mathbf{w})$, we simply need to replace $\\mathbf{x}(s)$ by $\\mathbf{x}(s, a)$. The latter can be computed by making the tilings cover the whole state-action space as opposed to just the state-space."
   ]
  },
  {
   "cell_type": "markdown",
   "metadata": {},
   "source": [
    "## &nbsp; 2 Implementation <a id='implementation'></a>"
   ]
  },
  {
   "cell_type": "markdown",
   "metadata": {},
   "source": [
    "We now implement n-step Sarsa and Sarsa($\\lambda$) and their associated dependencies. These implementations should be well understood by studying [Part 1](#theory) above; comments have been added to steps that may require extra explanation."
   ]
  },
  {
   "cell_type": "code",
   "execution_count": 54,
   "metadata": {},
   "outputs": [],
   "source": [
    "%matplotlib inline\n",
    "\n",
    "import gym\n",
    "import itertools\n",
    "import matplotlib\n",
    "import numpy as np\n",
    "import pandas as pd\n",
    "import sys\n",
    "import time\n",
    "import timeit\n",
    "from collections import namedtuple\n",
    "import os\n",
    "import glob\n",
    "\n",
    "from lib.tile_coding import IHT, tiles\n",
    "from matplotlib import pyplot as plt\n",
    "from matplotlib import cm\n",
    "matplotlib.style.use('ggplot')\n",
    "\n",
    "import io\n",
    "import base64\n",
    "from IPython.display import HTML"
   ]
  },
  {
   "cell_type": "code",
   "execution_count": 25,
   "metadata": {},
   "outputs": [
    {
     "name": "stdout",
     "output_type": "stream",
     "text": [
      "\u001b[33mWARN: gym.spaces.Box autodetected dtype as <class 'numpy.float32'>. Please provide explicit dtype.\u001b[0m\n"
     ]
    }
   ],
   "source": [
    "env = gym.make(\"MountainCar-v0\")\n",
    "env._max_episode_steps = 3000  # Increase upper time limit so we can plot full behaviour."
   ]
  },
  {
   "cell_type": "code",
   "execution_count": 26,
   "metadata": {},
   "outputs": [],
   "source": [
    "class QEstimator():\n",
    "    \"\"\"\n",
    "    Linear action-value (q-value) function approximator for \n",
    "    semi-gradient methods with state-action featurization via tile coding. \n",
    "    \"\"\"\n",
    "    \n",
    "    def __init__(self, step_size, num_tilings=8, max_size=4096, tiling_dim=None, trace=False):\n",
    "        \n",
    "        self.trace = trace\n",
    "        self.max_size = max_size\n",
    "        self.num_tilings = num_tilings\n",
    "        self.tiling_dim = tiling_dim or num_tilings\n",
    "\n",
    "        # Step size is interpreted as the fraction of the way we want \n",
    "        # to move towards the target. To compute the learning rate alpha,\n",
    "        # scale by number of tilings. \n",
    "        self.alpha = step_size / num_tilings\n",
    "\n",
    "        # Initialize index hash table (IHT) for tile coding.\n",
    "        # This assigns a unique index to each tile up to max_size tiles.\n",
    "        # Ensure max_size >= total number of tiles (num_tilings x tiling_dim x tiling_dim)\n",
    "        # to ensure no duplicates.\n",
    "        self.iht = IHT(max_size)\n",
    "\n",
    "        # Initialize weights (and optional trace)\n",
    "        self.weights = np.zeros(max_size)\n",
    "        if self.trace:\n",
    "            self.z = np.zeros(max_size)\n",
    "\n",
    "        # Tilecoding software partitions at integer boundaries, so must rescale\n",
    "        # position and velocity space to span tiling_dim x tiling_dim region.\n",
    "        self.position_scale = self.tiling_dim / (env.observation_space.high[0] \\\n",
    "                                                  - env.observation_space.low[0])\n",
    "        self.velocity_scale = self.tiling_dim / (env.observation_space.high[1] \\\n",
    "                                                  - env.observation_space.low[1])\n",
    "        \n",
    "    def featurize_state_action(self, state, action):\n",
    "        \"\"\"\n",
    "        Returns the featurized representation for a \n",
    "        state-action pair.\n",
    "        \"\"\"\n",
    "        featurized = tiles(self.iht, self.num_tilings, \n",
    "                           [self.position_scale * state[0], \n",
    "                            self.velocity_scale * state[1]], \n",
    "                           [action])\n",
    "        return featurized\n",
    "    \n",
    "    def predict(self, s, a=None):\n",
    "        \"\"\"\n",
    "        Predicts q-value(s) using linear FA.\n",
    "        If action a is given then returns prediction\n",
    "        for single state-action pair (s, a).\n",
    "        Otherwise returns predictions for all actions \n",
    "        in environment paired with s.   \n",
    "        \"\"\"\n",
    "    \n",
    "        if a is None:\n",
    "            features = [self.featurize_state_action(s, i) for \n",
    "                        i in range(env.action_space.n)]\n",
    "        else:\n",
    "            features = [self.featurize_state_action(s, a)]\n",
    "            \n",
    "        return [np.sum(self.weights[f]) for f in features]\n",
    "        \n",
    "            \n",
    "    def update(self, s, a, target):\n",
    "        \"\"\"\n",
    "        Updates the estimator parameters\n",
    "        for a given state and action towards\n",
    "        the target using the gradient update rule \n",
    "        (and the eligibility trace if one has been set).\n",
    "        \"\"\"\n",
    "        features = self.featurize_state_action(s, a)\n",
    "        estimation = np.sum(self.weights[features])  # Linear FA\n",
    "        delta = (target - estimation)\n",
    "        \n",
    "        if self.trace:\n",
    "            # self.z[features] += 1  # Accumulating trace\n",
    "            self.z[features] = 1  # Replacing trace\n",
    "            self.weights += self.alpha * delta * self.z\n",
    "        else:\n",
    "            self.weights[features] += self.alpha * delta\n",
    "                \n",
    "    \n",
    "    def reset(self, z_only=False):\n",
    "        \"\"\"\n",
    "        Resets the eligibility trace (must be done at \n",
    "        the start of every epoch) and optionally the\n",
    "        weight vector (if we want to restart training\n",
    "        from scratch).\n",
    "        \"\"\"\n",
    "        \n",
    "        if z_only:\n",
    "            assert self.trace, 'q-value estimator has no z to reset.'\n",
    "            self.z = np.zeros(self.max_size)\n",
    "        else:\n",
    "            if self.trace:\n",
    "                self.z = np.zeros(self.max_size)\n",
    "            self.weights = np.zeros(self.max_size)\n",
    "        "
   ]
  },
  {
   "cell_type": "code",
   "execution_count": 27,
   "metadata": {},
   "outputs": [],
   "source": [
    "def make_epsilon_greedy_policy(estimator, epsilon, num_actions):\n",
    "    \"\"\"\n",
    "    Creates an epsilon-greedy policy based on a \n",
    "    given q-value approximator and epsilon.    \n",
    "    \"\"\"\n",
    "    def policy_fn(observation):\n",
    "        action_probs = np.ones(num_actions, dtype=float) * epsilon / num_actions\n",
    "        q_values = estimator.predict(observation)\n",
    "        best_action_idx = np.argmax(q_values)\n",
    "        action_probs[best_action_idx] += (1.0 - epsilon)\n",
    "        return action_probs\n",
    "    return policy_fn"
   ]
  },
  {
   "cell_type": "code",
   "execution_count": 28,
   "metadata": {},
   "outputs": [],
   "source": [
    "def sarsa_n(n, env, estimator, gamma=1.0, epsilon=0):\n",
    "    \"\"\"\n",
    "    n-step semi-gradient Sarsa algorithm\n",
    "    for finding optimal q and pi via Linear\n",
    "    FA with n-step TD updates.\n",
    "    \"\"\"\n",
    "    \n",
    "    # Create epsilon-greedy policy\n",
    "    policy = make_epsilon_greedy_policy(\n",
    "        estimator, epsilon, env.action_space.n)\n",
    "\n",
    "    # Reset the environment and pick the first action\n",
    "    state = env.reset()\n",
    "    action_probs = policy(state)\n",
    "    action = np.random.choice(np.arange(len(action_probs)), p=action_probs)\n",
    "\n",
    "    # Set up trackers\n",
    "    states = [state]\n",
    "    actions = [action]\n",
    "    rewards = [0.0]\n",
    "\n",
    "    # Step through episode\n",
    "    T = float('inf')\n",
    "    for t in itertools.count():\n",
    "        if t < T:           \n",
    "            # Take a step\n",
    "            next_state, reward, done, _ = env.step(action)\n",
    "            states.append(next_state)\n",
    "            rewards.append(reward)\n",
    "\n",
    "            if done:\n",
    "                T = t + 1\n",
    "\n",
    "            else:\n",
    "                # Take next step\n",
    "                next_action_probs = policy(next_state)\n",
    "                next_action = np.random.choice(\n",
    "                    np.arange(len(next_action_probs)), p=next_action_probs)\n",
    "\n",
    "                actions.append(next_action)\n",
    "\n",
    "        update_time = t + 1 - n  # Specifies state to be updated\n",
    "        if update_time >= 0:       \n",
    "            # Build target\n",
    "            target = 0\n",
    "            for i in range(update_time + 1, min(T, update_time + n) + 1):\n",
    "                target += np.power(gamma, i - update_time - 1) * rewards[i]\n",
    "            if update_time + n < T:\n",
    "                q_values_next = estimator.predict(states[update_time + n])\n",
    "                target += q_values_next[actions[update_time + n]]\n",
    "            \n",
    "            # Update step\n",
    "            estimator.update(states[update_time], actions[update_time], target)\n",
    "        \n",
    "        if update_time == T - 1:\n",
    "            break\n",
    "\n",
    "        state = next_state\n",
    "        action = next_action\n",
    "    \n",
    "    ret = np.sum(rewards)\n",
    "    \n",
    "    return t, ret"
   ]
  },
  {
   "cell_type": "code",
   "execution_count": 29,
   "metadata": {},
   "outputs": [],
   "source": [
    "def sarsa_lambda(lmbda, env, estimator, gamma=1.0, epsilon=0):\n",
    "    \n",
    "    \"\"\"\n",
    "    Sarsa(Lambda) algorithm\n",
    "    for finding optimal q and pi via Linear\n",
    "    FA with eligibility traces.\n",
    "    \"\"\"\n",
    "    \n",
    "    # Reset the eligibility trace\n",
    "    estimator.reset(z_only=True)\n",
    "\n",
    "    # Create epsilon-greedy policy\n",
    "    policy = make_epsilon_greedy_policy(\n",
    "        estimator, epsilon, env.action_space.n)\n",
    "\n",
    "    # Reset the environment and pick the first action\n",
    "    state = env.reset()\n",
    "    action_probs = policy(state)\n",
    "    action = np.random.choice(np.arange(len(action_probs)), p=action_probs)\n",
    "\n",
    "    ret = 0\n",
    "    # Step through episode\n",
    "    for t in itertools.count():\n",
    "        # Take a step\n",
    "        next_state, reward, done, _ = env.step(action)\n",
    "        ret += reward\n",
    "\n",
    "        if done:\n",
    "            target = reward\n",
    "            estimator.update(state, action, target)\n",
    "            break\n",
    "\n",
    "        else:\n",
    "            # Take next step\n",
    "            next_action_probs = policy(next_state)\n",
    "            next_action = np.random.choice(\n",
    "                np.arange(len(next_action_probs)), p=next_action_probs)\n",
    "\n",
    "            # Estimate q-value at next state-action\n",
    "            q_new = estimator.predict(\n",
    "                next_state, next_action)[0]\n",
    "            target = reward + gamma * q_new\n",
    "            # Update step\n",
    "            estimator.update(state, action, target)\n",
    "            estimator.z *= gamma * lmbda\n",
    "\n",
    "        state = next_state\n",
    "        action = next_action    \n",
    "    \n",
    "    return t, ret\n",
    "    "
   ]
  },
  {
   "cell_type": "markdown",
   "metadata": {},
   "source": [
    "## 3 &nbsp; Experiments <a id='experiments'></a>"
   ]
  },
  {
   "cell_type": "markdown",
   "metadata": {},
   "source": [
    "We now compare the performance of n-step Sarsa and Sarsa($\\lambda$) applied to the [Mountain Car problem](https://gym.openai.com/envs/MountainCarContinuous-v0/). This is a classic episodic task commonly used to benchmark RL algorithms, where the goal is to get a car to the top of a hill, the catch being that the engine is not strong enough on its own so the agent must learn to exploit gravity. \n",
    "\n",
    "The simulations we run use the implementations from [Part 2](#implementation). Note that for both algorithms we use the default of $\\epsilon=0$. This is OK because the Mountain Car environment yields a reward of $-1$ for each action unless it leads directly to the top of the hill (when it a yields reward of $0$). Our zero initialisation of the q-value function is therefore optimistic, and so the agent still explores (at least at the start of training). We also use the default of $\\gamma=1$ as discounting isn't strictly necessary in episodic tasks."
   ]
  },
  {
   "cell_type": "markdown",
   "metadata": {},
   "source": [
    "### 3.1 &nbsp; Plotting Utility Functions"
   ]
  },
  {
   "cell_type": "code",
   "execution_count": 30,
   "metadata": {},
   "outputs": [],
   "source": [
    "def plot_cost_to_go(env, estimator, num_partitions=50):\n",
    "    \"\"\"\n",
    "    Plots -Q(s, a_max) for each state s=(position, velocity) \n",
    "    in the environment where a_max is the maximising action \n",
    "    from s according to our q-value estimator Q.\n",
    "    The state-space is continuous hence we first discretise \n",
    "    it into num_partitions partitions in each dimension. \n",
    "    \"\"\"\n",
    "    \n",
    "    x = np.linspace(env.observation_space.low[0], env.observation_space.high[0], num=num_partitions)\n",
    "    y = np.linspace(env.observation_space.low[1], env.observation_space.high[1], num=num_partitions)\n",
    "    X, Y = np.meshgrid(x, y)\n",
    "    Z = np.apply_along_axis(\n",
    "        lambda obs: -np.max(estimator.predict(obs)), 2, np.stack([X, Y], axis=2))\n",
    "\n",
    "    fig, ax = plt.subplots(figsize=(10, 5))\n",
    "    p = ax.pcolor(X, Y, Z, cmap=cm.RdBu, vmin=0, vmax=200)\n",
    "\n",
    "    ax.set_xlabel('Position')\n",
    "    ax.set_ylabel('Velocity')\n",
    "    ax.set_title(\"\\\"Cost To Go\\\" Function\")\n",
    "    fig.colorbar(p)\n",
    "    plt.show()"
   ]
  },
  {
   "cell_type": "code",
   "execution_count": 90,
   "metadata": {},
   "outputs": [],
   "source": [
    "def animate_greedy_policy(env, estimator, save_dir):\n",
    "    \"\"\"\n",
    "    Follows (deterministic) greedy policy\n",
    "    with respect to the given q-value estimator,\n",
    "    animates the result using openAI gym,\n",
    "    and saves to mp4 via gym's Monitor wrapper.\n",
    "    \"\"\"\n",
    "    \n",
    "    if not os.path.exists(save_dir):\n",
    "        os.makedirs(save_dir)\n",
    "    \n",
    "    # Warning: force=True clears any monitor files previously in save_path.\n",
    "    # Use unique save_path for each call to save multiple animations.\n",
    "    env = gym.wrappers.Monitor(\n",
    "        env, save_path, video_callable=lambda episode_id: True, force=True)\n",
    "    \n",
    "    # Set epsilon to zero to follow greedy policy\n",
    "    policy = make_epsilon_greedy_policy(\n",
    "        estimator=estimator, epsilon=0, num_actions=env.action_space.n)\n",
    "    # Reset the environment\n",
    "    state = env.reset()\n",
    "    for t in itertools.count():\n",
    "        time.sleep(0.01)  # Slow down animation\n",
    "        action_probs = policy(state)  # Compute action-values\n",
    "        [action] = np.nonzero(action_probs)[0]  # Greedy action\n",
    "        state, _, done, _ = env.step(action)  # Take step\n",
    "        env.render()  # Animate\n",
    "        if done:\n",
    "            print('Solved in {} steps'.format(t))\n",
    "            break\n",
    "    [filepath] = glob.glob(os.path.join(save_dir, '*.mp4'))\n",
    "    return display_animation(os.path.join(save_dir, filepath))"
   ]
  },
  {
   "cell_type": "code",
   "execution_count": 91,
   "metadata": {},
   "outputs": [],
   "source": [
    "def display_animation(filepath):\n",
    "    \"\"\" Displays mp4 animation in Jupyter.\"\"\"\n",
    "    \n",
    "    video = io.open(filepath, 'r+b').read()\n",
    "    encoded = base64.b64encode(video)\n",
    "    return HTML(data='''<video alt=\"test\" controls>\n",
    "                <source src=\"data:video/mp4;base64,{0}\" type=\"video/mp4\" />\n",
    "                 </video>'''.format(encoded.decode('ascii')))"
   ]
  },
  {
   "cell_type": "code",
   "execution_count": 81,
   "metadata": {},
   "outputs": [],
   "source": [
    "[filepath] = glob.glob(os.path.join(save_path, '*.mp4'))"
   ]
  },
  {
   "cell_type": "code",
   "execution_count": 82,
   "metadata": {},
   "outputs": [
    {
     "data": {
      "text/plain": [
       "'/src/animations/openaigym.video.7.38.video000000.mp4'"
      ]
     },
     "execution_count": 82,
     "metadata": {},
     "output_type": "execute_result"
    }
   ],
   "source": [
    "filepath"
   ]
  },
  {
   "cell_type": "code",
   "execution_count": 83,
   "metadata": {},
   "outputs": [
    {
     "data": {
      "text/html": [
       "<video alt=\"test\" controls>\n",
       "                <source src=\"data:video/mp4;base64,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\" type=\"video/mp4\" />\n",
       "                 </video>"
      ],
      "text/plain": [
       "<IPython.core.display.HTML object>"
      ]
     },
     "execution_count": 83,
     "metadata": {},
     "output_type": "execute_result"
    }
   ],
   "source": [
    "video = io.open(filepath, 'r+b').read()\n",
    "encoded = base64.b64encode(video)\n",
    "HTML(data='''<video alt=\"test\" controls>\n",
    "                <source src=\"data:video/mp4;base64,{0}\" type=\"video/mp4\" />\n",
    "                 </video>'''.format(encoded.decode('ascii')))"
   ]
  },
  {
   "cell_type": "code",
   "execution_count": 64,
   "metadata": {},
   "outputs": [],
   "source": [
    "def plot_learning_curves(stats, smoothing_window=10):\n",
    "    \"\"\"\n",
    "    Plots the number of steps taken by the agent\n",
    "    to solve the task as a function of episode number,\n",
    "    smoothed over the last smoothing_window episodes. \n",
    "    \"\"\"\n",
    "    \n",
    "    plt.figure(figsize=(10,5))\n",
    "    for algo_stats in stats:\n",
    "        steps_per_episode = pd.Series(algo_stats.steps).rolling(\n",
    "            smoothing_window).mean()  # smooth\n",
    "        plt.plot(steps_per_episode, label=algo_stats.algorithm)\n",
    "    plt.xlabel(\"Episode\")\n",
    "    plt.ylabel(\"Steps\")\n",
    "    plt.title(\"Steps per Episode\")\n",
    "    plt.legend()\n",
    "    plt.show()"
   ]
  },
  {
   "cell_type": "code",
   "execution_count": 65,
   "metadata": {},
   "outputs": [],
   "source": [
    "def plot_grid_search(stats, truncate_steps=400):\n",
    "    \"\"\" \n",
    "    Plots average number of steps taken by the agent \n",
    "    to solve the task for each combination of\n",
    "    step size and boostrapping parameter\n",
    "    (n or lambda).\n",
    "    \"\"\"\n",
    "    # Truncate high step values for clearer plotting\n",
    "    stats.steps[stats.steps > truncate_steps] = truncate_steps\n",
    "    \n",
    "    # We use -1 step values indicate corresponding combination of\n",
    "    # parameters doesn't converge. Set these to truncate_steps for plotting.\n",
    "    stats.steps[stats.steps == -1] = truncate_steps\n",
    "    \n",
    "    plt.figure()\n",
    "    for b_idx in range(len(stats.bootstrappings)):\n",
    "        plt.plot(stats.step_sizes, stats.steps[b_idx, :], \n",
    "            label='Bootstrapping: {}'.format(stats.bootstrappings[b_idx]))\n",
    "    plt.xlabel('Step size (alpha * number of tilings)')\n",
    "    plt.ylabel('Average steps per episode')\n",
    "    plt.title('Grid Search {}'.format(stats.algorithm))\n",
    "    plt.ylim(140, truncate_steps - 100)\n",
    "    plt.legend()"
   ]
  },
  {
   "cell_type": "markdown",
   "metadata": {},
   "source": [
    "### 3.2 &nbsp; Running n-step Sarsa and Sarsa($\\lambda$)"
   ]
  },
  {
   "cell_type": "code",
   "execution_count": 66,
   "metadata": {},
   "outputs": [],
   "source": [
    "RunStats = namedtuple('RunStats', ['algorithm', 'steps', 'returns'])"
   ]
  },
  {
   "cell_type": "code",
   "execution_count": 67,
   "metadata": {},
   "outputs": [],
   "source": [
    "def run(algorithm, num_episodes=500, **algorithm_kwargs):\n",
    "    \"\"\"\n",
    "    Runs algorithm over multilple episodes and logs\n",
    "    for each episode the complete return (G_t) and the\n",
    "    number of steps taken.\n",
    "    \"\"\"\n",
    "    \n",
    "    stats = RunStats(\n",
    "        algorithm=algorithm, \n",
    "        steps=np.zeros(num_episodes), \n",
    "        returns=np.zeros(num_episodes))\n",
    "    \n",
    "    algorithm_fn = globals()[algorithm]\n",
    "    \n",
    "    for i in range(num_episodes):\n",
    "        episode_steps, episode_return = algorithm_fn(**algorithm_kwargs)\n",
    "        stats.steps[i] = episode_steps\n",
    "        stats.returns[i] = episode_return\n",
    "        sys.stdout.flush()\n",
    "        print(\"\\rEpisode {}/{} Return {}\".format(\n",
    "            i + 1, num_episodes, episode_return), end=\"\")\n",
    "    return stats"
   ]
  },
  {
   "cell_type": "markdown",
   "metadata": {},
   "source": [
    "$\\textbf{Run n-step Sarsa}$"
   ]
  },
  {
   "cell_type": "code",
   "execution_count": 92,
   "metadata": {},
   "outputs": [
    {
     "name": "stdout",
     "output_type": "stream",
     "text": [
      "Solved in 96 steps\n"
     ]
    },
    {
     "data": {
      "text/html": [
       "<video alt=\"test\" controls>\n",
       "                <source src=\"data:video/mp4;base64,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\" type=\"video/mp4\" />\n",
       "                 </video>"
      ],
      "text/plain": [
       "<IPython.core.display.HTML object>"
      ]
     },
     "execution_count": 92,
     "metadata": {},
     "output_type": "execute_result"
    }
   ],
   "source": [
    "animate_greedy_policy(env, estimator_n, save_path)"
   ]
  },
  {
   "cell_type": "code",
   "execution_count": 89,
   "metadata": {},
   "outputs": [
    {
     "data": {
      "text/html": [
       "<video alt=\"test\" controls>\n",
       "                <source src=\"data:video/mp4;base64,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\" type=\"video/mp4\" />\n",
       "                 </video>"
      ],
      "text/plain": [
       "<IPython.core.display.HTML object>"
      ]
     },
     "execution_count": 89,
     "metadata": {},
     "output_type": "execute_result"
    }
   ],
   "source": [
    "html"
   ]
  },
  {
   "cell_type": "code",
   "execution_count": 68,
   "metadata": {},
   "outputs": [
    {
     "name": "stdout",
     "output_type": "stream",
     "text": [
      "Episode 500/500 Return -107.0"
     ]
    },
    {
     "data": {
      "image/png": "[encoded data removed]",
      "text/plain": [
       "<Figure size 720x360 with 2 Axes>"
      ]
     },
     "metadata": {},
     "output_type": "display_data"
    },
    {
     "name": "stdout",
     "output_type": "stream",
     "text": [
      "500 episodes completed in 24.94s\n",
      "Animate and save approximate optimal policy...\n",
      "Solved in 105 steps\n"
     ]
    }
   ],
   "source": [
    "step_size = 0.5  # Fraction of the way we want to move towards target\n",
    "n = 4  # Level of bootstrapping (set to intermediate value)\n",
    "num_episodes = 500\n",
    "save_dir = '/src/animations/'\n",
    "\n",
    "estimator_n = QEstimator(step_size=step_size)\n",
    "\n",
    "start_time = timeit.default_timer()\n",
    "run_stats_n = run('sarsa_n', num_episodes, n=n, env=env, estimator=estimator_n)\n",
    "elapsed_time = timeit.default_timer() - start_time\n",
    "\n",
    "plot_cost_to_go(env, estimator_n)\n",
    "print('{} episodes completed in {:.2f}s'.format(num_episodes, elapsed_time))\n",
    "print('Animate and save approximate optimal policy...')\n",
    "animate_greedy_policy(env, estimator_n, save_dir)"
   ]
  },
  {
   "cell_type": "markdown",
   "metadata": {},
   "source": [
    "$\\textbf{Run Sarsa}(\\lambda)$"
   ]
  },
  {
   "cell_type": "code",
   "execution_count": null,
   "metadata": {},
   "outputs": [],
   "source": [
    "step_size = 0.5 # Fraction of the way we want to move towards target\n",
    "lmbda = 0.92  # Level of bootstrapping (set to intermediate value)\n",
    "num_episodes = 500\n",
    "\n",
    "estimator_lambda = QEstimator(step_size=step_size, trace=True)\n",
    "\n",
    "start_time = timeit.default_timer()\n",
    "run_stats_lambda = run('sarsa_lambda', num_episodes, lmbda=lmbda, env=env, estimator=estimator_lambda)\n",
    "elapsed_time = timeit.default_timer() - start_time\n",
    "\n",
    "plot_cost_to_go(env, estimator_lambda)\n",
    "display_greedy_policy(env, estimator_lambda)\n",
    "print('{} episodes completed in {:.2f}s'.format(num_episodes, elapsed_time))"
   ]
  },
  {
   "cell_type": "markdown",
   "metadata": {},
   "source": [
    "$\\textbf{Compare Learning Curves}$"
   ]
  },
  {
   "cell_type": "code",
   "execution_count": null,
   "metadata": {},
   "outputs": [],
   "source": [
    "plot_learning_curves([run_stats_n, run_stats_lambda])"
   ]
  },
  {
   "cell_type": "markdown",
   "metadata": {},
   "source": [
    "### 3.3 &nbsp; Grid Search Comparison of n-step Sarsa and Sarsa($\\lambda$)"
   ]
  },
  {
   "cell_type": "code",
   "execution_count": 28,
   "metadata": {},
   "outputs": [],
   "source": [
    "GridSearchStats = namedtuple('GridSearchStats', ['algorithm', 'steps', 'step_sizes', 'bootstrappings'])"
   ]
  },
  {
   "cell_type": "code",
   "execution_count": 29,
   "metadata": {},
   "outputs": [],
   "source": [
    "def run_grid_search(algorithm, step_sizes, bootstrappings, episodes=100, num_runs=5,\n",
    "                   **algorithm_kwargs):\n",
    "    \"\"\"\n",
    "    Runs a grid search over different values of the step size\n",
    "    and boostrapping parameter (n or lambda) for the given algorithm.\n",
    "    The performance of each combination of parameters is measured \n",
    "    by the number of steps taken to complete the task, averaged\n",
    "    over the first few episodes and a number of\n",
    "    independent runs.\n",
    "    \"\"\"\n",
    "    \n",
    "    stats = GridSearchStats(\n",
    "        algorithm=algorithm, \n",
    "        steps=np.zeros((len(bootstrappings), len(step_sizes))),\n",
    "        step_sizes=step_sizes,\n",
    "        bootstrappings=bootstrappings)\n",
    "        \n",
    "    algorithm_fn = globals()[algorithm]\n",
    "    trace = True if algorithm == 'sarsa_lambda' else False\n",
    "\n",
    "    for run_idx in range(num_runs):\n",
    "        for b_idx, bootstrapping in enumerate(bootstrappings):\n",
    "            for s_idx, step_size in enumerate(step_sizes):\n",
    "                if algorithm == 'sarsa_n':\n",
    "                    if (bootstrapping == 8 and step_size > 1) or \\\n",
    "                    (bootstrapping == 16 and step_size > 0.75):\n",
    "                        # sarsa_n doesn't converge in these cases so \n",
    "                        # assign a default value and skip over.\n",
    "                        stats.steps[b_idx, s_idx] = -1 * num_runs * episodes\n",
    "                    continue\n",
    "                for episode in range(episodes):\n",
    "                    sys.stdout.flush()\n",
    "                    print('\\r run: {}, step_size: {}, bootstrapping: {}, episode: {}'.format(\n",
    "                            run_idx, step_size, bootstrapping, episode), end=\"\")\n",
    "                    episode_steps, _ = algorithm_fn(\n",
    "                        bootstrapping, estimator=estimator, **algorithm_kwargs)\n",
    "                    stats.steps[b_idx, s_idx] += episode_steps\n",
    "                    \n",
    "    \n",
    "    # Average over independent runs and episodes\n",
    "    stats.steps[:] /= (num_runs * episodes)\n",
    "   \n",
    "    return stats"
   ]
  },
  {
   "cell_type": "markdown",
   "metadata": {},
   "source": [
    "$\\textbf{Grid Search for n-step Sarsa}$"
   ]
  },
  {
   "cell_type": "code",
   "execution_count": 30,
   "metadata": {},
   "outputs": [
    {
     "name": "stdout",
     "output_type": "stream",
     "text": [
      " run: 0, step_size: 1.7000000000000002, bootstrapping: 16, episode: 69"
     ]
    },
    {
     "ename": "RuntimeWarning",
     "evalue": "overflow encountered in reduce",
     "output_type": "error",
     "traceback": [
      "\u001b[0;31m---------------------------------------------------------------------------\u001b[0m",
      "\u001b[0;31mRuntimeWarning\u001b[0m                            Traceback (most recent call last)",
      "\u001b[0;32m<ipython-input-30-9411af2736fa>\u001b[0m in \u001b[0;36m<module>\u001b[0;34m()\u001b[0m\n\u001b[1;32m      3\u001b[0m \u001b[0mstep_sizes\u001b[0m \u001b[0;34m=\u001b[0m \u001b[0mnp\u001b[0m\u001b[0;34m.\u001b[0m\u001b[0marange\u001b[0m\u001b[0;34m(\u001b[0m\u001b[0;36m1.6\u001b[0m\u001b[0;34m,\u001b[0m \u001b[0;36m1.8\u001b[0m\u001b[0;34m,\u001b[0m \u001b[0;36m0.1\u001b[0m\u001b[0;34m)\u001b[0m\u001b[0;34m\u001b[0m\u001b[0m\n\u001b[1;32m      4\u001b[0m \u001b[0mns\u001b[0m \u001b[0;34m=\u001b[0m \u001b[0mnp\u001b[0m\u001b[0;34m.\u001b[0m\u001b[0mpower\u001b[0m\u001b[0;34m(\u001b[0m\u001b[0;36m2\u001b[0m\u001b[0;34m,\u001b[0m \u001b[0mnp\u001b[0m\u001b[0;34m.\u001b[0m\u001b[0marange\u001b[0m\u001b[0;34m(\u001b[0m\u001b[0;36m4\u001b[0m\u001b[0;34m,\u001b[0m \u001b[0;36m5\u001b[0m\u001b[0;34m)\u001b[0m\u001b[0;34m)\u001b[0m\u001b[0;34m\u001b[0m\u001b[0m\n\u001b[0;32m----> 5\u001b[0;31m \u001b[0mgrid_search_stats_n\u001b[0m \u001b[0;34m=\u001b[0m \u001b[0mrun_grid_search\u001b[0m\u001b[0;34m(\u001b[0m\u001b[0;34m'sarsa_n'\u001b[0m\u001b[0;34m,\u001b[0m \u001b[0mstep_sizes\u001b[0m\u001b[0;34m,\u001b[0m \u001b[0mns\u001b[0m\u001b[0;34m,\u001b[0m \u001b[0menv\u001b[0m\u001b[0;34m=\u001b[0m\u001b[0menv\u001b[0m\u001b[0;34m)\u001b[0m\u001b[0;34m\u001b[0m\u001b[0m\n\u001b[0m\u001b[1;32m      6\u001b[0m \u001b[0mplot_grid_search\u001b[0m\u001b[0;34m(\u001b[0m\u001b[0mgrid_search_stats_n\u001b[0m\u001b[0;34m)\u001b[0m\u001b[0;34m\u001b[0m\u001b[0m\n",
      "\u001b[0;32m<ipython-input-29-1444d67357b0>\u001b[0m in \u001b[0;36mrun_grid_search\u001b[0;34m(algorithm, step_sizes, bootstrappings, episodes, num_runs, **algorithm_kwargs)\u001b[0m\n\u001b[1;32m     29\u001b[0m                             run_idx, step_size, bootstrapping, episode), end=\"\")\n\u001b[1;32m     30\u001b[0m                     episode_steps, _ = algorithm_fn(\n\u001b[0;32m---> 31\u001b[0;31m                         bootstrapping, estimator=estimator, **algorithm_kwargs)\n\u001b[0m\u001b[1;32m     32\u001b[0m                     \u001b[0;32mtry\u001b[0m\u001b[0;34m:\u001b[0m\u001b[0;34m\u001b[0m\u001b[0m\n\u001b[1;32m     33\u001b[0m                         \u001b[0mstats\u001b[0m\u001b[0;34m.\u001b[0m\u001b[0msteps\u001b[0m\u001b[0;34m[\u001b[0m\u001b[0mb_idx\u001b[0m\u001b[0;34m,\u001b[0m \u001b[0ms_idx\u001b[0m\u001b[0;34m]\u001b[0m \u001b[0;34m+=\u001b[0m \u001b[0mepisode_steps\u001b[0m\u001b[0;34m\u001b[0m\u001b[0m\n",
      "\u001b[0;32m<ipython-input-5-80fcd38dcd67>\u001b[0m in \u001b[0;36msarsa_n\u001b[0;34m(n, env, estimator, gamma, epsilon)\u001b[0m\n\u001b[1;32m     34\u001b[0m             \u001b[0;32melse\u001b[0m\u001b[0;34m:\u001b[0m\u001b[0;34m\u001b[0m\u001b[0m\n\u001b[1;32m     35\u001b[0m                 \u001b[0;31m# Take next step\u001b[0m\u001b[0;34m\u001b[0m\u001b[0;34m\u001b[0m\u001b[0m\n\u001b[0;32m---> 36\u001b[0;31m                 \u001b[0mnext_action_probs\u001b[0m \u001b[0;34m=\u001b[0m \u001b[0mpolicy\u001b[0m\u001b[0;34m(\u001b[0m\u001b[0mnext_state\u001b[0m\u001b[0;34m)\u001b[0m\u001b[0;34m\u001b[0m\u001b[0m\n\u001b[0m\u001b[1;32m     37\u001b[0m                 next_action = np.random.choice(\n\u001b[1;32m     38\u001b[0m                     np.arange(len(next_action_probs)), p=next_action_probs)\n",
      "\u001b[0;32m<ipython-input-4-23373f39d6a5>\u001b[0m in \u001b[0;36mpolicy_fn\u001b[0;34m(observation)\u001b[0m\n\u001b[1;32m      6\u001b[0m     \u001b[0;32mdef\u001b[0m \u001b[0mpolicy_fn\u001b[0m\u001b[0;34m(\u001b[0m\u001b[0mobservation\u001b[0m\u001b[0;34m)\u001b[0m\u001b[0;34m:\u001b[0m\u001b[0;34m\u001b[0m\u001b[0m\n\u001b[1;32m      7\u001b[0m         \u001b[0maction_probs\u001b[0m \u001b[0;34m=\u001b[0m \u001b[0mnp\u001b[0m\u001b[0;34m.\u001b[0m\u001b[0mones\u001b[0m\u001b[0;34m(\u001b[0m\u001b[0mnum_actions\u001b[0m\u001b[0;34m,\u001b[0m \u001b[0mdtype\u001b[0m\u001b[0;34m=\u001b[0m\u001b[0mfloat\u001b[0m\u001b[0;34m)\u001b[0m \u001b[0;34m*\u001b[0m \u001b[0mepsilon\u001b[0m \u001b[0;34m/\u001b[0m \u001b[0mnum_actions\u001b[0m\u001b[0;34m\u001b[0m\u001b[0m\n\u001b[0;32m----> 8\u001b[0;31m         \u001b[0mq_values\u001b[0m \u001b[0;34m=\u001b[0m \u001b[0mestimator\u001b[0m\u001b[0;34m.\u001b[0m\u001b[0mpredict\u001b[0m\u001b[0;34m(\u001b[0m\u001b[0mobservation\u001b[0m\u001b[0;34m)\u001b[0m\u001b[0;34m\u001b[0m\u001b[0m\n\u001b[0m\u001b[1;32m      9\u001b[0m         \u001b[0mbest_action_idx\u001b[0m \u001b[0;34m=\u001b[0m \u001b[0mnp\u001b[0m\u001b[0;34m.\u001b[0m\u001b[0margmax\u001b[0m\u001b[0;34m(\u001b[0m\u001b[0mq_values\u001b[0m\u001b[0;34m)\u001b[0m\u001b[0;34m\u001b[0m\u001b[0m\n\u001b[1;32m     10\u001b[0m         \u001b[0maction_probs\u001b[0m\u001b[0;34m[\u001b[0m\u001b[0mbest_action_idx\u001b[0m\u001b[0;34m]\u001b[0m \u001b[0;34m+=\u001b[0m \u001b[0;34m(\u001b[0m\u001b[0;36m1.0\u001b[0m \u001b[0;34m-\u001b[0m \u001b[0mepsilon\u001b[0m\u001b[0;34m)\u001b[0m\u001b[0;34m\u001b[0m\u001b[0m\n",
      "\u001b[0;32m<ipython-input-3-eb8bb9881bc1>\u001b[0m in \u001b[0;36mpredict\u001b[0;34m(self, s, a)\u001b[0m\n\u001b[1;32m     59\u001b[0m             \u001b[0mfeatures\u001b[0m \u001b[0;34m=\u001b[0m \u001b[0;34m[\u001b[0m\u001b[0mself\u001b[0m\u001b[0;34m.\u001b[0m\u001b[0mfeaturize_state_action\u001b[0m\u001b[0;34m(\u001b[0m\u001b[0ms\u001b[0m\u001b[0;34m,\u001b[0m \u001b[0ma\u001b[0m\u001b[0;34m)\u001b[0m\u001b[0;34m]\u001b[0m\u001b[0;34m\u001b[0m\u001b[0m\n\u001b[1;32m     60\u001b[0m \u001b[0;34m\u001b[0m\u001b[0m\n\u001b[0;32m---> 61\u001b[0;31m         \u001b[0;32mreturn\u001b[0m \u001b[0;34m[\u001b[0m\u001b[0mnp\u001b[0m\u001b[0;34m.\u001b[0m\u001b[0msum\u001b[0m\u001b[0;34m(\u001b[0m\u001b[0mself\u001b[0m\u001b[0;34m.\u001b[0m\u001b[0mweights\u001b[0m\u001b[0;34m[\u001b[0m\u001b[0mf\u001b[0m\u001b[0;34m]\u001b[0m\u001b[0;34m)\u001b[0m \u001b[0;32mfor\u001b[0m \u001b[0mf\u001b[0m \u001b[0;32min\u001b[0m \u001b[0mfeatures\u001b[0m\u001b[0;34m]\u001b[0m\u001b[0;34m\u001b[0m\u001b[0m\n\u001b[0m\u001b[1;32m     62\u001b[0m \u001b[0;34m\u001b[0m\u001b[0m\n\u001b[1;32m     63\u001b[0m \u001b[0;34m\u001b[0m\u001b[0m\n",
      "\u001b[0;32m<ipython-input-3-eb8bb9881bc1>\u001b[0m in \u001b[0;36m<listcomp>\u001b[0;34m(.0)\u001b[0m\n\u001b[1;32m     59\u001b[0m             \u001b[0mfeatures\u001b[0m \u001b[0;34m=\u001b[0m \u001b[0;34m[\u001b[0m\u001b[0mself\u001b[0m\u001b[0;34m.\u001b[0m\u001b[0mfeaturize_state_action\u001b[0m\u001b[0;34m(\u001b[0m\u001b[0ms\u001b[0m\u001b[0;34m,\u001b[0m \u001b[0ma\u001b[0m\u001b[0;34m)\u001b[0m\u001b[0;34m]\u001b[0m\u001b[0;34m\u001b[0m\u001b[0m\n\u001b[1;32m     60\u001b[0m \u001b[0;34m\u001b[0m\u001b[0m\n\u001b[0;32m---> 61\u001b[0;31m         \u001b[0;32mreturn\u001b[0m \u001b[0;34m[\u001b[0m\u001b[0mnp\u001b[0m\u001b[0;34m.\u001b[0m\u001b[0msum\u001b[0m\u001b[0;34m(\u001b[0m\u001b[0mself\u001b[0m\u001b[0;34m.\u001b[0m\u001b[0mweights\u001b[0m\u001b[0;34m[\u001b[0m\u001b[0mf\u001b[0m\u001b[0;34m]\u001b[0m\u001b[0;34m)\u001b[0m \u001b[0;32mfor\u001b[0m \u001b[0mf\u001b[0m \u001b[0;32min\u001b[0m \u001b[0mfeatures\u001b[0m\u001b[0;34m]\u001b[0m\u001b[0;34m\u001b[0m\u001b[0m\n\u001b[0m\u001b[1;32m     62\u001b[0m \u001b[0;34m\u001b[0m\u001b[0m\n\u001b[1;32m     63\u001b[0m \u001b[0;34m\u001b[0m\u001b[0m\n",
      "\u001b[0;32m~/Documents/RL/venv/lib/python3.5/site-packages/numpy/core/fromnumeric.py\u001b[0m in \u001b[0;36msum\u001b[0;34m(a, axis, dtype, out, keepdims)\u001b[0m\n\u001b[1;32m   1880\u001b[0m             \u001b[0;32mreturn\u001b[0m \u001b[0msum\u001b[0m\u001b[0;34m(\u001b[0m\u001b[0maxis\u001b[0m\u001b[0;34m=\u001b[0m\u001b[0maxis\u001b[0m\u001b[0;34m,\u001b[0m \u001b[0mdtype\u001b[0m\u001b[0;34m=\u001b[0m\u001b[0mdtype\u001b[0m\u001b[0;34m,\u001b[0m \u001b[0mout\u001b[0m\u001b[0;34m=\u001b[0m\u001b[0mout\u001b[0m\u001b[0;34m,\u001b[0m \u001b[0;34m**\u001b[0m\u001b[0mkwargs\u001b[0m\u001b[0;34m)\u001b[0m\u001b[0;34m\u001b[0m\u001b[0m\n\u001b[1;32m   1881\u001b[0m     return _methods._sum(a, axis=axis, dtype=dtype,\n\u001b[0;32m-> 1882\u001b[0;31m                          out=out, **kwargs)\n\u001b[0m\u001b[1;32m   1883\u001b[0m \u001b[0;34m\u001b[0m\u001b[0m\n\u001b[1;32m   1884\u001b[0m \u001b[0;34m\u001b[0m\u001b[0m\n",
      "\u001b[0;32m~/Documents/RL/venv/lib/python3.5/site-packages/numpy/core/_methods.py\u001b[0m in \u001b[0;36m_sum\u001b[0;34m(a, axis, dtype, out, keepdims)\u001b[0m\n\u001b[1;32m     30\u001b[0m \u001b[0;34m\u001b[0m\u001b[0m\n\u001b[1;32m     31\u001b[0m \u001b[0;32mdef\u001b[0m \u001b[0m_sum\u001b[0m\u001b[0;34m(\u001b[0m\u001b[0ma\u001b[0m\u001b[0;34m,\u001b[0m \u001b[0maxis\u001b[0m\u001b[0;34m=\u001b[0m\u001b[0;32mNone\u001b[0m\u001b[0;34m,\u001b[0m \u001b[0mdtype\u001b[0m\u001b[0;34m=\u001b[0m\u001b[0;32mNone\u001b[0m\u001b[0;34m,\u001b[0m \u001b[0mout\u001b[0m\u001b[0;34m=\u001b[0m\u001b[0;32mNone\u001b[0m\u001b[0;34m,\u001b[0m \u001b[0mkeepdims\u001b[0m\u001b[0;34m=\u001b[0m\u001b[0;32mFalse\u001b[0m\u001b[0;34m)\u001b[0m\u001b[0;34m:\u001b[0m\u001b[0;34m\u001b[0m\u001b[0m\n\u001b[0;32m---> 32\u001b[0;31m     \u001b[0;32mreturn\u001b[0m \u001b[0mumr_sum\u001b[0m\u001b[0;34m(\u001b[0m\u001b[0ma\u001b[0m\u001b[0;34m,\u001b[0m \u001b[0maxis\u001b[0m\u001b[0;34m,\u001b[0m \u001b[0mdtype\u001b[0m\u001b[0;34m,\u001b[0m \u001b[0mout\u001b[0m\u001b[0;34m,\u001b[0m \u001b[0mkeepdims\u001b[0m\u001b[0;34m)\u001b[0m\u001b[0;34m\u001b[0m\u001b[0m\n\u001b[0m\u001b[1;32m     33\u001b[0m \u001b[0;34m\u001b[0m\u001b[0m\n\u001b[1;32m     34\u001b[0m \u001b[0;32mdef\u001b[0m \u001b[0m_prod\u001b[0m\u001b[0;34m(\u001b[0m\u001b[0ma\u001b[0m\u001b[0;34m,\u001b[0m \u001b[0maxis\u001b[0m\u001b[0;34m=\u001b[0m\u001b[0;32mNone\u001b[0m\u001b[0;34m,\u001b[0m \u001b[0mdtype\u001b[0m\u001b[0;34m=\u001b[0m\u001b[0;32mNone\u001b[0m\u001b[0;34m,\u001b[0m \u001b[0mout\u001b[0m\u001b[0;34m=\u001b[0m\u001b[0;32mNone\u001b[0m\u001b[0;34m,\u001b[0m \u001b[0mkeepdims\u001b[0m\u001b[0;34m=\u001b[0m\u001b[0;32mFalse\u001b[0m\u001b[0;34m)\u001b[0m\u001b[0;34m:\u001b[0m\u001b[0;34m\u001b[0m\u001b[0m\n",
      "\u001b[0;31mRuntimeWarning\u001b[0m: overflow encountered in reduce"
     ]
    }
   ],
   "source": [
    "step_sizes = np.arange(0.1, 1.8, 0.1)\n",
    "ns = np.power(2, np.arange(0, 5))\n",
    "grid_search_stats_n = run_grid_search('sarsa_n', step_sizes, ns, env=env)\n",
    "plot_grid_search(grid_search_stats_n)"
   ]
  },
  {
   "cell_type": "markdown",
   "metadata": {},
   "source": [
    "$\\textbf{Grid Search for Sarsa}(\\lambda)$"
   ]
  },
  {
   "cell_type": "code",
   "execution_count": null,
   "metadata": {},
   "outputs": [],
   "source": [
    "step_sizes = np.arange(0.1, 1.8, 0.1)\n",
    "lambdas = np.array([0, 0.68, 0.84, 0.92, 0.98, 0.99])\n",
    "grid_search_stats_lambda = run_grid_search('sarsa_lambda', step_sizes, lambdas, env=env)\n",
    "plot_grid_search(grid_search_stats_lambda)"
   ]
  },
  {
   "cell_type": "markdown",
   "metadata": {},
   "source": [
    "## 4 &nbsp; Conclusion <a id='conclusion'></a>"
   ]
  },
  {
   "cell_type": "markdown",
   "metadata": {},
   "source": [
    "This tutorial has covered the theory and implementation of two important algorithms in RL, n-step Sarsa and Sarsa($\\lambda$). Judging by our experiments in [Part 2](#experiments), Sarsa($\\lambda$) appears to learn more efficiently than n-step Sarsa as applied to the Mountain Car task. The agent's ability to immediately learn from and respond to feedback from the environment rather than being delayed n-steps seems to pay off. \n",
    "\n",
    "By studying these two algorithms, we have covered most of the key areas of RL. However, there are two important areas that we didn't cover and that is off-policy methods (although we explained at a high level what this was in [section 1.5](#on_off_policy)) and policy gradient methods. Both n-step Sarsa and Sarsa($\\lambda$) have off-policy equivalents (so called Q-learning methods) that simulate sample experience from a behaviour policy different from the target policy we are actually learning about, but are otherwise the same as their on-policy counterparts. Policy gradient methods, on the other hand, introduce something entirely new. In these methods, optimal policies are not learned via value functions, but by first parameterising the policy and then optimising it directly via stochastic gradient descent, without consulting a value function at all. Off-policy methods and policy gradient methods are also well worth studying, as many state-of-the-art applications of RL employ such techniques.\n",
    "\n",
    "Of course we also haven't covered Deep Learning RL methods (such as Deep Q-Learning). However, these are essentially just methods that replace the linear function approximator that we have used with a neural network (we can also do away with tile coding since neural networks are non-linear function approximators already)."
   ]
  },
  {
   "cell_type": "code",
   "execution_count": null,
   "metadata": {},
   "outputs": [],
   "source": []
  }
 ],
 "metadata": {
  "kernelspec": {
   "display_name": "Python 3",
   "language": "python",
   "name": "python3"
  },
  "language_info": {
   "codemirror_mode": {
    "name": "ipython",
    "version": 3
   },
   "file_extension": ".py",
   "mimetype": "text/x-python",
   "name": "python",
   "nbconvert_exporter": "python",
   "pygments_lexer": "ipython3",
   "version": "3.5.2"
  },
  "toc": {
   "nav_menu": {},
   "number_sections": false,
   "sideBar": true,
   "skip_h1_title": true,
   "title_cell": "Table of Contents",
   "title_sidebar": "Contents",
   "toc_cell": false,
   "toc_position": {},
   "toc_section_display": true,
   "toc_window_display": false
  }
 },
 "nbformat": 4,
 "nbformat_minor": 2
}
